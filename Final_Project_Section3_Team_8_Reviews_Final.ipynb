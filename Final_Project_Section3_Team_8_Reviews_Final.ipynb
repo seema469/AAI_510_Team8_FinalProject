{
  "cells": [
    {
      "cell_type": "markdown",
      "metadata": {
        "id": "qLabPQFKqueX"
      },
      "source": [
        "# Sentiment Analysis of User Reviews\n",
        "\n",
        "## Problem Statement\n",
        "In an effort to enhance customer satisfaction and product development, this section of our project aims to implement advanced natural language processing techniques to perform a fine-grained sentiment analysis on user reviews for recipes. While ratings provide a broad indication of satisfaction, they fail to capture the depth and nuances of customer emotions. This analysis seeks to discern detailed emotions embedded in the reviews, such as distinguishing between 'warm and happy' versus 'excited and happy'. These insights will enable the company to categorize recipes and ingredients more effectively, tailoring offerings to better meet customer expectations and enhance engagement.\n",
        "\n",
        "## Justification\n",
        "The proposed approach leverages both machine learning and deep learning models to provide a comprehensive analysis of customer sentiments. This dual approach allows for more accurate and nuanced detection of sentiments than traditional methods, making it possible to obtain actionable insights that can directly influence product strategies and marketing decisions.\n"
      ]
    },
    {
      "cell_type": "markdown",
      "metadata": {
        "id": "JloG5QSPrCL9"
      },
      "source": [
        "#Lodaing data"
      ]
    },
    {
      "cell_type": "markdown",
      "metadata": {
        "id": "qi_UHp_DrAEm"
      },
      "source": [
        "## Understanding the data\n",
        "\n",
        "Before diving into sentiment analysis, we need to load and examine the dataset to understand the structure and quality of the data we have. This step is crucial as it helps identify any preliminary data cleaning and preprocessing needs.\n"
      ]
    },
    {
      "cell_type": "code",
      "execution_count": 1,
      "metadata": {
        "colab": {
          "base_uri": "https://localhost:8080/"
        },
        "id": "2k3syzGJq_qC",
        "outputId": "f6f6aae1-bedb-420c-e6d8-42097574a7fa"
      },
      "outputs": [
        {
          "output_type": "stream",
          "name": "stdout",
          "text": [
            "   ReviewId  RecipeId  AuthorId        AuthorName  Rating  \\\n",
            "0         2       992      2008         gayg msft       5   \n",
            "1         7      4384      1634     Bill Hilbrich       4   \n",
            "2         9      4523      2046  Gay Gilmore ckpt       2   \n",
            "3        13      7435      1773     Malarkey Test       5   \n",
            "4        14        44      2085        Tony Small       5   \n",
            "\n",
            "                                              Review         DateSubmitted  \\\n",
            "0       better than any you can get at a restaurant!  2000-01-25T21:44:00Z   \n",
            "1  I cut back on the mayo, and made up the differ...  2001-10-17T16:49:59Z   \n",
            "2  i think i did something wrong because i could ...  2000-02-25T09:00:00Z   \n",
            "3  easily the best i have ever had.  juicy flavor...  2000-03-13T21:15:00Z   \n",
            "4                                 An excellent dish.  2000-03-28T12:51:00Z   \n",
            "\n",
            "           DateModified  \n",
            "0  2000-01-25T21:44:00Z  \n",
            "1  2001-10-17T16:49:59Z  \n",
            "2  2000-02-25T09:00:00Z  \n",
            "3  2000-03-13T21:15:00Z  \n",
            "4  2000-03-28T12:51:00Z  \n",
            "<class 'pandas.core.frame.DataFrame'>\n",
            "RangeIndex: 1401982 entries, 0 to 1401981\n",
            "Data columns (total 8 columns):\n",
            " #   Column         Non-Null Count    Dtype \n",
            "---  ------         --------------    ----- \n",
            " 0   ReviewId       1401982 non-null  int64 \n",
            " 1   RecipeId       1401982 non-null  int64 \n",
            " 2   AuthorId       1401982 non-null  int64 \n",
            " 3   AuthorName     1401982 non-null  object\n",
            " 4   Rating         1401982 non-null  int64 \n",
            " 5   Review         1401768 non-null  object\n",
            " 6   DateSubmitted  1401982 non-null  object\n",
            " 7   DateModified   1401982 non-null  object\n",
            "dtypes: int64(4), object(4)\n",
            "memory usage: 85.6+ MB\n",
            "None\n"
          ]
        }
      ],
      "source": [
        "import pandas as pd\n",
        "\n",
        "# Let's Load the dataset\n",
        "data_path = '/content/reviews.csv'\n",
        "reviews_df = pd.read_csv(data_path)\n",
        "\n",
        "# Display the first few rows of the dataframe\n",
        "print(reviews_df.head())\n",
        "\n",
        "# Display the dataframe's information to understand the data types and check for missing values\n",
        "print(reviews_df.info())\n"
      ]
    },
    {
      "cell_type": "markdown",
      "metadata": {
        "id": "_XXZq_36vdyx"
      },
      "source": [
        "## Initial Observations\n",
        "\n",
        "- **Data Overview**: The dataset contains 1,401,982 entries, each representing a user review for a recipe. The columns include `ReviewId`, `RecipeId`, `AuthorId`, `AuthorName`, `Rating`, `Review`, `DateSubmitted`, and `DateModified`. This extensive dataset will allow us to perform a detailed sentiment analysis by correlating textual reviews with ratings and other metadata.\n",
        "\n",
        "- **Data Quality**:\n",
        "  - All columns have a large number of non-null entries, indicating minimal missing data across most fields.\n",
        "  - The `Review` column has **214** missing entries (*1,401,768* non-null out of *1,401,982* total based on the numbers shown above).\n",
        "  We will need to decide how to handle these missing reviews, whether by removal or imputation, in this case since its such a small percentage of our over data set we might lean towards removal.\n",
        "  - The data types are appropriate for the information contained in each column. However, the `DateSubmitted` and `DateModified` columns, currently read as objects, may need conversion to datetime format for any time-series analysis or features related to time.\n",
        "\n",
        "- **Potential Challenges**:\n",
        "  - Handling missing reviews in the `Review` column is essential since our analysis heavily depends on textual data.\n",
        "  - Parsing and converting the dates could uncover trends over time or detect changes in sentiment or rating behavior based on the submission or modification dates but that is note a primay goal of this section of the proejct, although it could be somthing to look at in the future.\n",
        "\n"
      ]
    },
    {
      "cell_type": "markdown",
      "metadata": {
        "id": "gyIeQHCSxBIa"
      },
      "source": [
        "## Enhanced Exploratory Data Analysis (EDA)\n",
        "\n",
        "To better understand the nuances of our dataset and to aid in the development of our sentiment analysis model, we'll perform an in-depth exploration of the data. This will include analyzing the distribution of ratings, the length of reviews, and any patterns or trends that could influence sentiment analysis.\n"
      ]
    },
    {
      "cell_type": "code",
      "execution_count": 2,
      "metadata": {
        "colab": {
          "base_uri": "https://localhost:8080/",
          "height": 410
        },
        "id": "pZMYbR3eyxOs",
        "outputId": "66a782c1-0708-4ed9-8758-92866e109878"
      },
      "outputs": [
        {
          "output_type": "display_data",
          "data": {
            "text/plain": [
              "<Figure size 800x400 with 1 Axes>"
            ],
            "image/png": "[encoded data removed]"
          },
          "metadata": {}
        }
      ],
      "source": [
        "import matplotlib.pyplot as plt\n",
        "import seaborn as sns\n",
        "\n",
        "# Set the aesthetic style of the plots\n",
        "sns.set_style(\"whitegrid\")\n",
        "\n",
        "# Plot the distribution of ratings\n",
        "plt.figure(figsize=(8, 4))\n",
        "sns.countplot(x='Rating', data=reviews_df)\n",
        "plt.title('Distribution of Ratings')\n",
        "plt.xlabel('Rating')\n",
        "plt.ylabel('Count')\n",
        "plt.show()\n"
      ]
    },
    {
      "cell_type": "markdown",
      "metadata": {
        "id": "bPGbxFN6zd-s"
      },
      "source": [
        "## Ratings Distribution Analysis\n",
        "\n",
        "The distribution of ratings in the dataset is heavily skewed towards higher ratings, with a significant majority of reviews rated as '5'. This skew indicates that users are generally satisfied with the recipes, or that users are more likely to leave a review when they have a positive experience.\n",
        "\n",
        "### Implications for Model Training\n",
        "- **Model Bias towards Positive Sentiments**: Given the high number of positive ratings, our sentiment analysis model might develop a bias towards positive sentiments. This could lead to higher accuracy in predicting positive sentiments but lower sensitivity towards negative or neutral sentiments.\n",
        "- **Data Balancing**: To mitigate this, we may need to consider techniques such as resampling or using stratified splits during training to ensure that our model does not overlook the less frequent but equally important negative sentiments.\n"
      ]
    },
    {
      "cell_type": "code",
      "execution_count": 3,
      "metadata": {
        "colab": {
          "base_uri": "https://localhost:8080/",
          "height": 487
        },
        "id": "4siFFn9sitUS",
        "outputId": "a64d3e54-d394-40b4-f4fd-c3d7e8eacc31"
      },
      "outputs": [
        {
          "output_type": "display_data",
          "data": {
            "text/plain": [
              "<Figure size 1000x500 with 1 Axes>"
            ],
            "image/png": "[encoded data removed]"
          },
          "metadata": {}
        }
      ],
      "source": [
        "# Calculate the length of each review, handling non-string values\n",
        "reviews_df['ReviewLength'] = reviews_df['Review'].apply(lambda x: len(str(x)) if not isinstance(x, float) else 0)\n",
        "\n",
        "# Plot the distribution of review lengths\n",
        "plt.figure(figsize=(10, 5))\n",
        "sns.histplot(reviews_df['ReviewLength'], bins=50, kde=True)\n",
        "plt.title('Distribution of Review Lengths')\n",
        "plt.xlabel('Review Length')\n",
        "plt.ylabel('Frequency')\n",
        "plt.show()"
      ]
    },
    {
      "cell_type": "markdown",
      "metadata": {
        "id": "BR4x7y6m0nIC"
      },
      "source": [
        "## Review Length Distribution Analysis\n",
        "\n",
        "The histogram of review lengths shows that most reviews are relatively short, with the majority having fewer than 500 characters. The distribution has a long tail, suggesting a few reviews are much lengthier.\n",
        "\n",
        "### Implications for Feature Engineering\n",
        "- **Text Preprocessing**: The variance in review lengths will require careful text preprocessing to normalize the data for modeling. This may include padding shorter reviews or truncating longer ones to standardize input lengths for deep learning models.\n",
        "- **Feature Extraction**: Shorter reviews might lack sufficient contextual data for accurate sentiment analysis. We might need to extract more nuanced features, such as sentiment-specific keywords or phrases, to enhance model performance.\n"
      ]
    },
    {
      "cell_type": "code",
      "execution_count": null,
      "metadata": {
        "colab": {
          "base_uri": "https://localhost:8080/",
          "height": 437
        },
        "id": "zQ62egNOzen1",
        "outputId": "b8754efe-b6a3-482e-f40f-a059c9a714de"
      },
      "outputs": [
        {
          "data": {
            "image/png": "[encoded data removed]",
            "text/plain": [
              "<Figure size 1000x500 with 1 Axes>"
            ]
          },
          "metadata": {},
          "output_type": "display_data"
        }
      ],
      "source": [
        "from wordcloud import WordCloud\n",
        "\n",
        "# Generate a word cloud image\n",
        "wordcloud = WordCloud(width = 800, height = 400, background_color ='white').generate(' '.join(reviews_df['Review']))\n",
        "\n",
        "# Display the word cloud image\n",
        "plt.figure(figsize=(10, 5))\n",
        "plt.imshow(wordcloud, interpolation='bilinear')\n",
        "plt.axis(\"off\")\n",
        "plt.title('Word Cloud for Reviews')\n",
        "plt.show()\n"
      ]
    },
    {
      "cell_type": "markdown",
      "metadata": {
        "id": "ko0LDG1C1nu3"
      },
      "source": [
        "## Word Cloud Analysis\n",
        "\n",
        "The word cloud highlights frequent terms in the reviews such as 'good', 'great', 'easy', and 'delicious', suggesting positive sentiments dominate the textual data. Words like 'love', 'best', and 'perfect' also appear prominently, reinforcing the positive skew observed in the ratings distribution.\n",
        "\n",
        "### Implications for Sentiment Analysis\n",
        "- **Dominant Positive Sentiments**: The prevalence of positive words will influence the sentiment analysis model to detect positive emotions more effectively. However, it may also require more sophisticated techniques to accurately capture less frequent negative or neutral sentiments.\n",
        "- **Lexicl Analysis**: The common words can be used to refine the sentiment lexicon, aiding in more accurate sentiment classification. This can be particularly useful in enhancing the granularity of sentiment analysis to detect variations within positive sentiments as mentioned in our project goals.\n",
        "\n",
        "Based on these observations we will move on to our next steps; data preparation, including cleaning and structuring the data for our sentiment analysis model.\n"
      ]
    },
    {
      "cell_type": "markdown",
      "metadata": {
        "id": "AMDrf_1vxlXd"
      },
      "source": [
        "## Data Preparation\n",
        "\n",
        "This section focuses on preparing the data for analysis. We will clean the data by addressing missing values and converting data types where necessary. These steps are critical to ensure the accuracy and effectiveness of our modeling process.\n",
        "As mentioned earler our approch to cleaing the missing values will be to remove them as they constitute a very small amount of our over review data. This will ensure that we have uniform data for our modeling"
      ]
    },
    {
      "cell_type": "code",
      "execution_count": 4,
      "metadata": {
        "colab": {
          "base_uri": "https://localhost:8080/"
        },
        "id": "p3JmrExBfKu8",
        "outputId": "7c3d187b-8d2c-495d-d953-0ab3de151c36"
      },
      "outputs": [
        {
          "output_type": "stream",
          "name": "stdout",
          "text": [
            "<class 'pandas.core.frame.DataFrame'>\n",
            "Index: 1401768 entries, 0 to 1401981\n",
            "Data columns (total 9 columns):\n",
            " #   Column         Non-Null Count    Dtype              \n",
            "---  ------         --------------    -----              \n",
            " 0   ReviewId       1401768 non-null  int64              \n",
            " 1   RecipeId       1401768 non-null  int64              \n",
            " 2   AuthorId       1401768 non-null  int64              \n",
            " 3   AuthorName     1401768 non-null  object             \n",
            " 4   Rating         1401768 non-null  int64              \n",
            " 5   Review         1401768 non-null  object             \n",
            " 6   DateSubmitted  1401768 non-null  datetime64[ns, UTC]\n",
            " 7   DateModified   1401768 non-null  datetime64[ns, UTC]\n",
            " 8   ReviewLength   1401768 non-null  int64              \n",
            "dtypes: datetime64[ns, UTC](2), int64(5), object(2)\n",
            "memory usage: 106.9+ MB\n",
            "None\n"
          ]
        }
      ],
      "source": [
        "# Handling missing values in the 'Review' column\n",
        "reviews_df.dropna(subset=['Review'], inplace=True)\n",
        "\n",
        "# Converting 'DateSubmitted' and 'DateModified' to datetime format\n",
        "reviews_df['DateSubmitted'] = pd.to_datetime(reviews_df['DateSubmitted'])\n",
        "reviews_df['DateModified'] = pd.to_datetime(reviews_df['DateModified'])\n",
        "\n",
        "# Display the updated dataframe information to confirm changes\n",
        "print(reviews_df.info())\n"
      ]
    },
    {
      "cell_type": "markdown",
      "metadata": {
        "id": "PV2fGFJdyL51"
      },
      "source": [
        "## Post-Cleanup Observations\n",
        "\n",
        "- **Missing Values**: All missing reviews have been removed, ensuring our dataset only contains complete entries for analysis.\n",
        "- **Data Type Conversion**: The date columns have been successfully converted to datetime objects, allowing us to perform any time-based analysis or feature engineering in the future.\n"
      ]
    },
    {
      "cell_type": "markdown",
      "metadata": {
        "id": "p8RkFXx84Aza"
      },
      "source": [
        "## Text Normalization\n",
        "\n",
        "Text normalization is a crucial step in preparing text data for NLP tasks. It involves converting all text to lowercase to ensure uniformity, removing punctuation, and excluding numbers which might not be relevant for our sentiment analysis. This process helps in reducing the complexity of the text data and improves the performance of the modeling.\n"
      ]
    },
    {
      "cell_type": "code",
      "execution_count": 5,
      "metadata": {
        "colab": {
          "base_uri": "https://localhost:8080/"
        },
        "id": "GAPze4zr4GEN",
        "outputId": "443055ca-3ac2-499e-d6d0-840fa705b253"
      },
      "outputs": [
        {
          "output_type": "stream",
          "name": "stdout",
          "text": [
            "                                              Review  \\\n",
            "0       better than any you can get at a restaurant!   \n",
            "1  I cut back on the mayo, and made up the differ...   \n",
            "2  i think i did something wrong because i could ...   \n",
            "3  easily the best i have ever had.  juicy flavor...   \n",
            "4                                 An excellent dish.   \n",
            "\n",
            "                                    NormalizedReview  \n",
            "0        better than any you can get at a restaurant  \n",
            "1  i cut back on the mayo and made up the differe...  \n",
            "2  i think i did something wrong because i could ...  \n",
            "3  easily the best i have ever had  juicy flavorf...  \n",
            "4                                  an excellent dish  \n"
          ]
        }
      ],
      "source": [
        "import re\n",
        "\n",
        "# Function to normalize text\n",
        "def normalize_text(text):\n",
        "    # Convert text to lowercase\n",
        "    text = text.lower()\n",
        "    # Remove punctuation\n",
        "    text = re.sub(r'[^\\w\\s]', '', text)\n",
        "    # Remove numbers\n",
        "    text = re.sub(r'\\d+', '', text)\n",
        "    return text\n",
        "\n",
        "# Apply normalization to the Review column\n",
        "reviews_df['NormalizedReview'] = reviews_df['Review'].apply(normalize_text)\n",
        "\n",
        "# Display the first few normalized reviews\n",
        "print(reviews_df[['Review', 'NormalizedReview']].head())\n"
      ]
    },
    {
      "cell_type": "markdown",
      "metadata": {
        "id": "fmWV_rtR4eIt"
      },
      "source": [
        "Based on the responses above we can see that the \"!\" has been removed from the first response and the \".\" as been removed from the third response. We can slos see that All the capitlaitsed letters have been converted to smaller case."
      ]
    },
    {
      "cell_type": "code",
      "execution_count": 6,
      "metadata": {
        "colab": {
          "base_uri": "https://localhost:8080/"
        },
        "id": "olY1g6HD3Xa9",
        "outputId": "69843c84-f779-4bf9-97f4-53c7e6296645"
      },
      "outputs": [
        {
          "output_type": "stream",
          "name": "stdout",
          "text": [
            "<class 'pandas.core.frame.DataFrame'>\n",
            "Index: 1401768 entries, 0 to 1401981\n",
            "Data columns (total 10 columns):\n",
            " #   Column            Non-Null Count    Dtype              \n",
            "---  ------            --------------    -----              \n",
            " 0   ReviewId          1401768 non-null  int64              \n",
            " 1   RecipeId          1401768 non-null  int64              \n",
            " 2   AuthorId          1401768 non-null  int64              \n",
            " 3   AuthorName        1401768 non-null  object             \n",
            " 4   Rating            1401768 non-null  int64              \n",
            " 5   Review            1401768 non-null  object             \n",
            " 6   DateSubmitted     1401768 non-null  datetime64[ns, UTC]\n",
            " 7   DateModified      1401768 non-null  datetime64[ns, UTC]\n",
            " 8   ReviewLength      1401768 non-null  int64              \n",
            " 9   NormalizedReview  1401768 non-null  object             \n",
            "dtypes: datetime64[ns, UTC](2), int64(5), object(3)\n",
            "memory usage: 117.6+ MB\n",
            "None\n"
          ]
        }
      ],
      "source": [
        "# Display the updated dataframe information to confirm changes\n",
        "print(reviews_df.info())"
      ]
    },
    {
      "cell_type": "markdown",
      "metadata": {
        "id": "oKLHenrO3960"
      },
      "source": [
        "## Data Type Conversion for Textual Columns\n",
        "\n",
        "To ensure consistency in text processing operations, we will explicitly convert the columns that contain textual data (`AuthorName`, `Review`, and `NormalizedReview`) to string data type. This step is beneficial for avoiding any data type-related errors during text manipulation tasks such as normalization and lemmatization.\n"
      ]
    },
    {
      "cell_type": "code",
      "execution_count": 7,
      "metadata": {
        "colab": {
          "base_uri": "https://localhost:8080/"
        },
        "id": "qEC9xJ7u4Djw",
        "outputId": "cf9845ce-56ae-4804-9652-aa7b8067bab0"
      },
      "outputs": [
        {
          "output_type": "stream",
          "name": "stdout",
          "text": [
            "ReviewId                          int64\n",
            "RecipeId                          int64\n",
            "AuthorId                          int64\n",
            "AuthorName                       object\n",
            "Rating                            int64\n",
            "Review                           object\n",
            "DateSubmitted       datetime64[ns, UTC]\n",
            "DateModified        datetime64[ns, UTC]\n",
            "ReviewLength                      int64\n",
            "NormalizedReview                 object\n",
            "dtype: object\n"
          ]
        }
      ],
      "source": [
        "# Convert textual columns to string data type\n",
        "reviews_df['AuthorName'] = reviews_df['AuthorName'].astype(str)\n",
        "reviews_df['Review'] = reviews_df['Review'].astype(str)\n",
        "reviews_df['NormalizedReview'] = reviews_df['NormalizedReview'].astype(str)\n",
        "\n",
        "# Display the data types to confirm changes\n",
        "print(reviews_df.dtypes)\n"
      ]
    },
    {
      "cell_type": "markdown",
      "metadata": {
        "id": "O5hhqvFn49ou"
      },
      "source": [
        "## Lemmatization over Stemming\n",
        "\n",
        "Lemmatization is a text preprocessing technique that reduces words to their base or root form. Unlike stemming, lemmatization considers the context and converts the word to its meaningful base form. This is particularly useful in sentiment analysis as it helps in maintaining the semantic context of the text, which can be crucial for accurately interpreting the sentiment.\n"
      ]
    },
    {
      "cell_type": "code",
      "execution_count": 8,
      "metadata": {
        "colab": {
          "base_uri": "https://localhost:8080/",
          "height": 327,
          "referenced_widgets": [
            "f7cd72428d574f85a63e5de50c688a81",
            "42fdab5ce308489494cbc3a3e4ebb8f0",
            "fce02a6302f14c448f04f78d77605459",
            "c035ead296084338a9a603765de32548",
            "d80911a126314fdd887a30705b3a0ff1",
            "15d81a0c56ed4979aa90a5ff369bd053",
            "27cec1a5e9ec46a1af7bff1a2a0de844",
            "311db6415e5249928b71d53127ba06f6",
            "923491fb6f3346a29003c12e2fca6647",
            "6a724eb9609b4a4899e3b3a0e0308719",
            "ac8ef221612145e0b6f839a6a97f559d"
          ]
        },
        "id": "ifyeIiK2yHHJ",
        "outputId": "0f1b1c4c-3e7f-4559-8c31-16fba23a2b45"
      },
      "outputs": [
        {
          "output_type": "stream",
          "name": "stderr",
          "text": [
            "[nltk_data] Downloading package stopwords to /root/nltk_data...\n",
            "[nltk_data]   Unzipping corpora/stopwords.zip.\n",
            "[nltk_data] Downloading package wordnet to /root/nltk_data...\n"
          ]
        },
        {
          "output_type": "display_data",
          "data": {
            "text/plain": [
              "Lemmatizing reviews:   0%|          | 0/1401768 [00:00<?, ?it/s]"
            ],
            "application/vnd.jupyter.widget-view+json": {
              "version_major": 2,
              "version_minor": 0,
              "model_id": "f7cd72428d574f85a63e5de50c688a81"
            }
          },
          "metadata": {}
        },
        {
          "output_type": "stream",
          "name": "stdout",
          "text": [
            "                                    NormalizedReview  \\\n",
            "0        better than any you can get at a restaurant   \n",
            "1  i cut back on the mayo and made up the differe...   \n",
            "2  i think i did something wrong because i could ...   \n",
            "3  easily the best i have ever had  juicy flavorf...   \n",
            "4                                  an excellent dish   \n",
            "\n",
            "                                    LemmatizedReview  \n",
            "0                              better get restaurant  \n",
            "1  cut back mayo made difference sour cream adjus...  \n",
            "2  think something wrong could taste cornstarch f...  \n",
            "3  easily best ever juicy flavorful dry vegetable...  \n",
            "4                                     excellent dish  \n"
          ]
        }
      ],
      "source": [
        "from nltk.corpus import stopwords\n",
        "from nltk.stem import WordNetLemmatizer\n",
        "import nltk\n",
        "from tqdm.notebook import tqdm\n",
        "\n",
        "# Download necessary NLTK resources\n",
        "nltk.download('stopwords')\n",
        "nltk.download('wordnet')\n",
        "\n",
        "# Initialize the lemmatizer\n",
        "lemmatizer = WordNetLemmatizer()\n",
        "\n",
        "# Load English stop words\n",
        "stop_words = set(stopwords.words('english'))\n",
        "\n",
        "# Function to lemmatize text\n",
        "def lemmatize_text(text):\n",
        "    words = text.split()\n",
        "    # Lemmatize words not in stop words list\n",
        "    lemmatized_words = [lemmatizer.lemmatize(word) for word in words if word not in stop_words]\n",
        "    return ' '.join(lemmatized_words)\n",
        "\n",
        "# Apply the function to the normalized reviews with progress bar\n",
        "tqdm.pandas(desc=\"Lemmatizing reviews\")\n",
        "reviews_df['LemmatizedReview'] = reviews_df['NormalizedReview'].progress_apply(lemmatize_text)\n",
        "\n",
        "# Display the first few lemmatized reviews\n",
        "print(reviews_df[['NormalizedReview', 'LemmatizedReview']].head())\n"
      ]
    },
    {
      "cell_type": "markdown",
      "metadata": {
        "id": "uLlCsfdm_o2V"
      },
      "source": [
        "# Implementing Feature Engineering\n",
        "\n"
      ]
    },
    {
      "cell_type": "markdown",
      "metadata": {
        "id": "kOHbfacp_vuy"
      },
      "source": [
        "## Sentiment Scores Using VADER\n",
        "\n",
        "Valence Aware Dictionary and sEntiment Reasoner is a lexicon and rule-based sentiment analysis tool that is specifically attuned to sentiments expressed in social media. It is very useful for our case as it provides a compound score that denotes the overall sentiment polarity ranging from negative to positive.\n"
      ]
    },
    {
      "cell_type": "code",
      "execution_count": 9,
      "metadata": {
        "colab": {
          "base_uri": "https://localhost:8080/"
        },
        "id": "E9fqHKkzAgMI",
        "outputId": "0164eebf-ccf4-466c-8438-e104bf6adc68"
      },
      "outputs": [
        {
          "output_type": "stream",
          "name": "stderr",
          "text": [
            "[nltk_data] Downloading package vader_lexicon to /root/nltk_data...\n"
          ]
        },
        {
          "output_type": "stream",
          "name": "stdout",
          "text": [
            "                                    LemmatizedReview  SentimentScore\n",
            "0                              better get restaurant          0.4404\n",
            "1  cut back mayo made difference sour cream adjus...         -0.2732\n",
            "2  think something wrong could taste cornstarch f...         -0.4767\n",
            "3  easily best ever juicy flavorful dry vegetable...          0.8271\n",
            "4                                     excellent dish          0.5719\n"
          ]
        }
      ],
      "source": [
        "import nltk\n",
        "from nltk.sentiment import SentimentIntensityAnalyzer\n",
        "\n",
        "# Download VADER lexicon\n",
        "nltk.download('vader_lexicon')\n",
        "\n",
        "# Initialize VADER\n",
        "sia = SentimentIntensityAnalyzer()\n",
        "\n",
        "# Function to get VADER sentiment compound score\n",
        "def get_sentiment_score(review):\n",
        "    return sia.polarity_scores(review)['compound']\n",
        "\n",
        "# Apply the function to the lemmatized reviews\n",
        "reviews_df['SentimentScore'] = reviews_df['LemmatizedReview'].apply(get_sentiment_score)\n",
        "\n",
        "# Display the first few sentiment scores\n",
        "print(reviews_df[['LemmatizedReview', 'SentimentScore']].head())\n"
      ]
    },
    {
      "cell_type": "markdown",
      "metadata": {
        "id": "EeDiivQjCbGK"
      },
      "source": [
        "We can see from the results that we new have a new feature that provides us with more information on the sentament of the users review."
      ]
    },
    {
      "cell_type": "markdown",
      "metadata": {
        "id": "DsoXqgr0Ck2n"
      },
      "source": [
        "## Word Count of Reviews\n",
        "\n",
        "Next we look at the length of the review in terms of word count which can be an indicator of the sentiment's strength. Longer reviews might provide more content and context, which can be particularly useful in understanding the depth of the user's sentiment.\n"
      ]
    },
    {
      "cell_type": "code",
      "execution_count": 10,
      "metadata": {
        "colab": {
          "base_uri": "https://localhost:8080/"
        },
        "id": "TlpGzE4lCsWL",
        "outputId": "89622e53-107b-4e7b-8734-7610be77b090"
      },
      "outputs": [
        {
          "output_type": "stream",
          "name": "stdout",
          "text": [
            "                                    LemmatizedReview  WordCount\n",
            "0                              better get restaurant          3\n",
            "1  cut back mayo made difference sour cream adjus...         10\n",
            "2  think something wrong could taste cornstarch f...          8\n",
            "3  easily best ever juicy flavorful dry vegetable...         11\n",
            "4                                     excellent dish          2\n"
          ]
        }
      ],
      "source": [
        "# Calculate word counts in lemmatized reviews\n",
        "reviews_df['WordCount'] = reviews_df['LemmatizedReview'].apply(lambda x: len(x.split()))\n",
        "\n",
        "# Display the first few word counts\n",
        "print(reviews_df[['LemmatizedReview', 'WordCount']].head())\n"
      ]
    },
    {
      "cell_type": "markdown",
      "metadata": {
        "id": "9sLyzJ1JnPIj"
      },
      "source": [
        "## Emotion Detection Using Hugging Face Transformers:  TinyBERT for Faster Emotion Detection\n",
        "\n",
        "Lastly we'll do an emotion analysis using an existing pre-tined model from the Bert class of foundation models\n",
        "\n",
        "### Model Description\n",
        "TinyBERT is significantly smaller and faster compared to the original BERT model, being 7.5 times smaller and 9.4 times faster on inference. This makes TinyBERT particularly suited for scenarios where speed is a priority (We tried using a larger DistilBERT with an accurcy of around 97% but for our data set of 1.4M reccords, that process was going to take about 8hrs on a A100 so we decided to pivot). Although it sacrifices a bit of accuracy for speed, with an accuracy of 93.54% on the emotion balanced dataset, it remains highly effective for emotion detection in large datasets.\n",
        "\n",
        "### Intended Uses & Limitations\n",
        "TinyBERT is designed for quick inference, making it ideal for real-time applications or processing large volumes of data where speed is crucial. It is important to note, however, that it might not capture the full complexity of some sentences due to its simplified architecture, which could lead to occasional misinterpretations.\n",
        "\n",
        "### Model Performance\n",
        "- **Loss**: 0.1809\n",
        "- **Accuracy**: 93.54%\n",
        "- **Dataset Size**: Trained on 89,754 examples, with balanced labels across train, validation, and test splits.\n",
        "\n",
        "This model is well-suited for our project's need to process over a million reviews efficiently while still providing a robust analysis of emotions.\n"
      ]
    },
    {
      "cell_type": "code",
      "execution_count": 11,
      "metadata": {
        "colab": {
          "base_uri": "https://localhost:8080/",
          "height": 469,
          "referenced_widgets": [
            "84e9994ce8fd4864a8c677509ed40415",
            "4f96638ae4d84150af10a83a7fa3b4c0",
            "490530656af5429e8bc7e9ab9930223e",
            "4bc98a6350ca4758973bee4c87944d8e",
            "aea1738471384758948bcb63aad57b7c",
            "c223ad1b0be14edbbcb76f331907fc19",
            "b759a5424f474ec4a3100a5d0f15c67d",
            "0f58c47b813d4943aaf7d7f596d07a66",
            "cd2e9cb22b2c433daa6b3d3aaa7de33b",
            "d777b7db932d4e4d9702b5162274a9c9",
            "7539efc8c8ad4e60a7688496583f539a",
            "03473c26a6a54556951497670d32a328",
            "25602dcb42ff4225b7051738da6bfc9c",
            "45e5d16420b84d1588b07a1775c580c4",
            "7686b6b5dad24e52bd0b408dc405b4f3",
            "fdb1d17e3326459f9a3236d7136db417",
            "dc1f7286df984dabb80f981470f0ec8b",
            "0323f216c7a94a08b1e7b387d10a25ae",
            "48440dd2c9b54058992aa855045fd44f",
            "41d281e76ab547909470248a560c17e3",
            "af559502a2954154842243ced639e2a8",
            "fbf4212903bb4861a7a5b8cf7f5b49a1",
            "a33d0cd85630435887e4a89aa9e6a590",
            "bbe8530d0c4d4b1fb5cbb0a0e673795a",
            "d275647df1b546cc95ad82770290b392",
            "d10dff18daa64f25bd738fff5a4a2476",
            "dbcf50d6ba1c452bbc3b51816fca1aff",
            "40ffecc1e2bb4db8947a8956482ec069",
            "d49799c5a3c2428ab29c0cf5c3397825",
            "f2b616602cb94685a641309b6ce8e09f",
            "a3dc0b434752433195a09715a64359c3",
            "2d14375d733c4e718ada9496b43226c7",
            "2b9935d671814a49b5e7d1bc597c78a1",
            "13e05d86821746ceadabe27fd283a6be",
            "c210b833a91b4971808630fed8d68ded",
            "b86ffcacc9a04e5c81edc8678c308d64",
            "033d284fe7a547b2a5a598ddc791feea",
            "171fbc7b963240f6891c50079f8b52fc",
            "435cfc63f4334370805ab18005105c05",
            "e35cf4ae218f4a19816a317c2abb4338",
            "b8571b85e8354ee8a1fd3c9bbd2546a0",
            "de05159e1ba84b84942d9eb50c728bd7",
            "47328b4a3f8948a8a3534291908b5bf7",
            "2ec9a1f196234a6dae077a3b420d37d6",
            "f9b3b678d647481fb4a0b3f03b39a251",
            "cff5c13b155d44e79fdeba9c286b63ae",
            "1f5eb74200ea4435ac42e0ff889eabc3",
            "bd69d7a3461147f6b181b5708276ec60",
            "ac552b8577a34a888adef17f5b4ab2b3",
            "df0b28820c884db7ab0b7e8c259b0128",
            "1f80e3bb3fbc4056991a6f4bf25a1638",
            "0b14c52bf2e3404e90faef1f3bfafc58",
            "657fe21f68254969b02855ab102afea3",
            "433a22d8c0834a0f9e3b9331d1036623",
            "9a5259792e264c2da3c47db17fdf57ab",
            "5806cd51c48d48dd842b21758ea9aa19",
            "6addddeecb67440bb5d98d951358e7d4",
            "2d33e2fd1085423f993260b69ad2449a",
            "6091813b234e4adb8fb323a6a08b93cc",
            "5a2fa9c07cbf48a4a164b57813808541",
            "1a1b3076f58b423daa050150189c4e36",
            "4878a7c5481540dd86063486d0a17fa9",
            "28f9c6ddb73e49149e5981d3e60c0ee3",
            "58d821dcf9044d628c495dce62c77e7b",
            "7f57eadf92fa40af8743c57e69fd75a4",
            "8506eaab020e4cb19ef93b12af1d6f1e",
            "481778a21e8d46e181af4eb697b1b31a",
            "c9a97409c2d844638b0009999ed33370",
            "590413a128df467482df9ff1d5464aaa",
            "62754c61099540fd85b16f4af7709745",
            "7bc5bd62c02a4bdcb0cd9e6af88de693",
            "38a0a166fcdb476e865594052e5bbffb",
            "0e155f7836044801aebcc3b9ab60dbeb",
            "0900906110e14350b50d28caf0bdf416",
            "e758219d1c714730a5b941552eb40d75",
            "16e4f08c91434e83a9d55bbda1d641d9",
            "0fd9203124764c1fa2632d02f5477626"
          ]
        },
        "id": "y8VN18DfQ1Ys",
        "outputId": "04db4977-a61e-463e-e561-801a38cbd6f8"
      },
      "outputs": [
        {
          "output_type": "stream",
          "name": "stderr",
          "text": [
            "/usr/local/lib/python3.10/dist-packages/huggingface_hub/utils/_token.py:89: UserWarning: \n",
            "The secret `HF_TOKEN` does not exist in your Colab secrets.\n",
            "To authenticate with the Hugging Face Hub, create a token in your settings tab (https://huggingface.co/settings/tokens), set it as secret in your Google Colab and restart your session.\n",
            "You will be able to reuse this secret in all of your notebooks.\n",
            "Please note that authentication is recommended but still optional to access public models or datasets.\n",
            "  warnings.warn(\n"
          ]
        },
        {
          "output_type": "display_data",
          "data": {
            "text/plain": [
              "config.json:   0%|          | 0.00/888 [00:00<?, ?B/s]"
            ],
            "application/vnd.jupyter.widget-view+json": {
              "version_major": 2,
              "version_minor": 0,
              "model_id": "84e9994ce8fd4864a8c677509ed40415"
            }
          },
          "metadata": {}
        },
        {
          "output_type": "display_data",
          "data": {
            "text/plain": [
              "pytorch_model.bin:   0%|          | 0.00/17.6M [00:00<?, ?B/s]"
            ],
            "application/vnd.jupyter.widget-view+json": {
              "version_major": 2,
              "version_minor": 0,
              "model_id": "03473c26a6a54556951497670d32a328"
            }
          },
          "metadata": {}
        },
        {
          "output_type": "display_data",
          "data": {
            "text/plain": [
              "tokenizer_config.json:   0%|          | 0.00/394 [00:00<?, ?B/s]"
            ],
            "application/vnd.jupyter.widget-view+json": {
              "version_major": 2,
              "version_minor": 0,
              "model_id": "a33d0cd85630435887e4a89aa9e6a590"
            }
          },
          "metadata": {}
        },
        {
          "output_type": "display_data",
          "data": {
            "text/plain": [
              "vocab.txt:   0%|          | 0.00/232k [00:00<?, ?B/s]"
            ],
            "application/vnd.jupyter.widget-view+json": {
              "version_major": 2,
              "version_minor": 0,
              "model_id": "13e05d86821746ceadabe27fd283a6be"
            }
          },
          "metadata": {}
        },
        {
          "output_type": "display_data",
          "data": {
            "text/plain": [
              "tokenizer.json:   0%|          | 0.00/712k [00:00<?, ?B/s]"
            ],
            "application/vnd.jupyter.widget-view+json": {
              "version_major": 2,
              "version_minor": 0,
              "model_id": "f9b3b678d647481fb4a0b3f03b39a251"
            }
          },
          "metadata": {}
        },
        {
          "output_type": "display_data",
          "data": {
            "text/plain": [
              "special_tokens_map.json:   0%|          | 0.00/125 [00:00<?, ?B/s]"
            ],
            "application/vnd.jupyter.widget-view+json": {
              "version_major": 2,
              "version_minor": 0,
              "model_id": "5806cd51c48d48dd842b21758ea9aa19"
            }
          },
          "metadata": {}
        },
        {
          "output_type": "display_data",
          "data": {
            "text/plain": [
              "Classifying Emotions:   0%|          | 0/14018 [00:00<?, ?it/s]"
            ],
            "application/vnd.jupyter.widget-view+json": {
              "version_major": 2,
              "version_minor": 0,
              "model_id": "481778a21e8d46e181af4eb697b1b31a"
            }
          },
          "metadata": {}
        },
        {
          "output_type": "stream",
          "name": "stdout",
          "text": [
            "                                    LemmatizedReview  Emotion\n",
            "0                              better get restaurant      joy\n",
            "1  cut back mayo made difference sour cream adjus...  sadness\n",
            "2  think something wrong could taste cornstarch f...    anger\n",
            "3  easily best ever juicy flavorful dry vegetable...      joy\n",
            "4                                     excellent dish      joy\n"
          ]
        }
      ],
      "source": [
        "from transformers import pipeline\n",
        "from tqdm.auto import tqdm\n",
        "\n",
        "# Initialize the pipeline with the model and its associated tokenizer\n",
        "emotion_classifier = pipeline('text-classification', model='AdamCodd/tinybert-emotion-balanced', truncation=True, padding=True, max_length=512)\n",
        "\n",
        "# Define a function to classify emotions using the pipeline\n",
        "def classify_emotions(text):\n",
        "    # Ensure text is a string\n",
        "    text = str(text)\n",
        "    # Classify emotion with truncation to 512 tokens to match typical BERT-like models max length\n",
        "    result = emotion_classifier(text, truncation=True, max_length=512)\n",
        "    return result[0]['label']\n",
        "\n",
        "# Apply the emotion detection to the dataset with progress tracking\n",
        "batch_size = 100  # Adjust batch size based on computational resources\n",
        "results = []\n",
        "\n",
        "# Using tqdm to show progress\n",
        "for i in tqdm(range(0, len(reviews_df['LemmatizedReview']), batch_size), desc=\"Classifying Emotions\"):\n",
        "    batch = reviews_df['LemmatizedReview'][i:i+batch_size].tolist()\n",
        "    batch_results = [classify_emotions(review) for review in batch]\n",
        "    results.extend(batch_results)\n",
        "\n",
        "# Add the results to the DataFrame\n",
        "reviews_df['Emotion'] = results\n",
        "\n",
        "# Display some of the classified emotions\n",
        "print(reviews_df[['LemmatizedReview', 'Emotion']].head())\n"
      ]
    },
    {
      "cell_type": "markdown",
      "metadata": {
        "id": "KQOOYF8Eznh8"
      },
      "source": [
        "## Analysis of Emotion Detection Results\n",
        "\n",
        "The application of the TinyBERT model for emotion detection in our dataset has yielded the classifications shown above:\n",
        "\n",
        "### Key Takeaways\n",
        "\n",
        "- The model effectively identifies a variety of emotions from the review texts, aligning them with the sentiments that one would expect given the content of the reviews. For example, a review expressing dissatisfaction or issues with a recipe (like tasting cornstarch) is classified as 'Anger'.\n",
        "- Positive reviews often use words like \"best,\" \"excellent,\" and \"perfect,\" which the model accurately categorizes as 'Joy'.\n",
        "- The versatility in emotion detection, even in shorter snippets of text, underscores the utility of TinyBERT for rapid and effective sentiment analysis across large datasets.\n",
        "\n",
        "### Implications for Business Strategy\n",
        "\n",
        "- **Product Development**: Understanding the specific emotions associated with customer feedback can guide improvements in recipe formulation and presentation. Emotional insights allow more nuanced adjustments compared to simple satisfaction ratings.\n",
        "- **Marketing and Customer Engagement**: Identifying the emotional tone of reviews helps tailor marketing strategies to enhance positive emotional responses and address areas leading to negative feedback.\n",
        "\n",
        "This fine-grained emotional analysis will help inform strategic decisions, enhancing customer satisfaction and engagement through targeted adjustments to recipes and marketing techniques.\n"
      ]
    },
    {
      "cell_type": "markdown",
      "metadata": {
        "id": "ZdDQxfmK4FGl"
      },
      "source": [
        "##**Technique for Identifying Emotionally Significant Words**\n",
        "\n",
        "**TF-IDF Analysis**: This method will help us identify words that are frequently used in reviews but are rare across all documents (our full reviews dataset), which often indicates that such words carry more meaning or emotional weight. It also has the added benfit of filtering out common words that might not contribute to sentiment differentiation, thereby focusing on more meaningful terms.\n",
        "\n",
        "**Sentiment and Emotion Co-occurrence**: Analyze words that frequently appear in reviews with strong sentiment scores or specific emotions (like joy or sadness) to determine which words are likely to be associated with particular emotional states."
      ]
    },
    {
      "cell_type": "code",
      "execution_count": 12,
      "metadata": {
        "id": "xRIinGSS4cMA"
      },
      "outputs": [],
      "source": [
        "from sklearn.feature_extraction.text import TfidfVectorizer\n",
        "\n",
        "# Initialize TF-IDF Vectorizer\n",
        "vectorizer = TfidfVectorizer(max_features=1000)  # Limiting to the top 1000 features for simplicity\n",
        "\n",
        "# Fit and transform the lemmatized reviews\n",
        "tfidf_matrix = vectorizer.fit_transform(reviews_df['LemmatizedReview'])\n",
        "\n",
        "# Get feature names to use as dataframe columns\n",
        "feature_names = vectorizer.get_feature_names_out()\n",
        "\n",
        "# Convert to DataFrame\n",
        "tfidf_df = pd.DataFrame(tfidf_matrix.toarray(), columns=feature_names)\n"
      ]
    },
    {
      "cell_type": "code",
      "execution_count": 13,
      "metadata": {
        "colab": {
          "base_uri": "https://localhost:8080/"
        },
        "id": "unZUA9Kc4wHw",
        "outputId": "b7467455-72df-4be0-80a4-d1238c89c45b"
      },
      "outputs": [
        {
          "output_type": "stream",
          "name": "stdout",
          "text": [
            "                                    LemmatizedReview  \\\n",
            "0                              better get restaurant   \n",
            "1  cut back mayo made difference sour cream adjus...   \n",
            "2  think something wrong could taste cornstarch f...   \n",
            "3  easily best ever juicy flavorful dry vegetable...   \n",
            "4                                     excellent dish   \n",
            "\n",
            "                                   TopEmotionalWords  \n",
            "0            [restaurant, better, get, putting, put]  \n",
            "1                [mayo, difference, dip, sour, back]  \n",
            "2  [product, cornstarch, finished, wrong, something]  \n",
            "3       [juicy, easily, bland, vegetable, flavorful]  \n",
            "4  [excellent, dish, prepare, prepared, presentat...  \n"
          ]
        }
      ],
      "source": [
        "# Function to find top N words with the highest TF-IDF scores in each document\n",
        "def top_tfidf_words(row, top_n=5):\n",
        "    top_words = row.sort_values(ascending=False).head(top_n).index.tolist()\n",
        "    return top_words\n",
        "\n",
        "# Apply the function to the TF-IDF DataFrame\n",
        "reviews_df['TopEmotionalWords'] = tfidf_df.apply(top_tfidf_words, axis=1)\n",
        "\n",
        "# Display the reviews with their top TF-IDF words\n",
        "print(reviews_df[['LemmatizedReview', 'TopEmotionalWords']].head())\n"
      ]
    },
    {
      "cell_type": "markdown",
      "metadata": {
        "id": "4XXEbAW68DeD"
      },
      "source": [
        "### Considered Approach for Expanding Feature Set with Binary Word Features\n",
        "\n",
        "### Potential Next Steps\n",
        "Following the identification of top emotionally significant words through TF-IDF analysis, the next logical step would have been to create binary features for each unique word found in the `TopEmotionalWords` across all reviews. This would involve adding a new column for each unique word to our dataset, where each column would indicate the presence or absence of that word in each review.\n",
        "\n",
        "### Expected Expansion and Computational Considerations\n",
        "- **Number of New Columns**: The number of new columns would directly correspond to the number of unique words identified. If, for example, we identified 100 unique words across all reviews, this approach would result in the addition of 100 new binary feature columns to the DataFrame.\n",
        "- **Impact on Dimensionality**: Such an increase in dimensionality could significantly complicate the dataset, raising both the computational costs and the complexity of the model training process. Handling a large number of features often requires more memory and processing power and could lead to longer training times and challenges in model optimization.\n",
        "\n",
        "### Caveats with the Approach\n",
        "- **Overfitting**: With a high number of features, especially in a dataset not substantially large, there is a risk of overfitting, where the model becomes very well attuned to the training data but performs poorly on unseen data.\n",
        "- **Interpretability**: Adding a large number of features can sometimes reduce the interpretability of the model, making it harder to understand which features are truly impactful in predicting sentiments.\n",
        "- **Resource Intensity**: The computational demand for processing and modeling with a significantly larger number of features could exceed the capabilities of standard computational resources, especially for users without access to high-performance computing environments.\n",
        "\n",
        "### Decision to Postpone Implementation\n",
        "Given the potential for increased complexity and computational demands, we decided not to implement this extensive feature expansion in the current phase of the project. The primary concern was that the additional computational resources and time required might not justify the potential gains in model performance at this stage.\n",
        "\n",
        "### Future Enhancements\n",
        "- **Gradual Integration**: In future phases of the project, we could consider gradually integrating these features, possibly starting with a subset of the most predictive words identified through more detailed statistical analysis.\n",
        "- **Advanced Dimensionality Reduction**: Before adding these features, applying advanced dimensionality reduction techniques could help manage the feature space more effectively.\n",
        "- **Enhanced Computing Resources**: Leveraging better computing infrastructure, such as cloud computing platforms or specialized hardware, could make the handling of increased dimensionality feasible.\n",
        "\n",
        "This cautious approach ensures that we maintain a balance between model complexity, performance, and computational efficiency, with an eye toward scalable enhancements in future iterations of the project.\n"
      ]
    },
    {
      "cell_type": "markdown",
      "metadata": {
        "id": "g3BujMKpDd4D"
      },
      "source": [
        "## Introduction of Interaction Feature: Sentiment Score and Word Count\n",
        "\n",
        "### Purpose of the Interaction Feature\n",
        "In sentiment analysis,**understanding the relationship between the length of the text and the intensity of sentiment** expressed can provide deeper insights into user behavior and sentiment trends. To capture this dynamic, we introduce an interaction feature between the word count of a review and its sentiment score.\n",
        "\n",
        "### Implementation of the Interaction Feature\n",
        "We create a new feature by multiplying the `WordCount` of each review by its `SentimentScore`. This interaction feature, named `Sentiment_WordCount_Interaction`, aims to capture how the expressed sentiment intensity might scale with the length of the review.\n",
        "\n",
        "### Expected Enhancement in Model Performance\n",
        "- **Capturing Non-linear Relationships**: This feature helps the model capture potential non-linear relationships between the text's length and the intensity of sentiment. For instance, longer reviews might not only express more detailed sentiments but could amplify the positivity or negativity due to the additional context provided.\n",
        "- **Improving Predictive Accuracy**: By incorporating the interaction between these two features, the model can better predict sentiments for reviews where the length significantly impacts the sentiment's expression. This might be particularly useful in distinguishing between reviews that are lengthy with moderate sentiment and those that are expressive and emotionally charged.\n",
        "- **Enhanced Nuance in Analysis**: The interaction feature allows the model to differentiate reviews based on how word count influences sentiment expression, adding a layer of depth to the analysis, which can be crucial for fine-grained sentiment analysis tasks.\n",
        "\n",
        "### Implementation\n",
        "Below is the  code to create this interaction feature within our dataset. This code multiplies each review's word count by its sentiment score, adding this new feature to our DataFrame, which we will subsequently use in our sentiment analysis model.\n"
      ]
    },
    {
      "cell_type": "code",
      "execution_count": 14,
      "metadata": {
        "colab": {
          "base_uri": "https://localhost:8080/"
        },
        "id": "lprRro0XDm0S",
        "outputId": "c62576e0-3818-4f2c-ff8b-2167f5cc3252"
      },
      "outputs": [
        {
          "output_type": "stream",
          "name": "stdout",
          "text": [
            "   WordCount  SentimentScore  Sentiment_WordCount_Interaction\n",
            "0          3          0.4404                           1.3212\n",
            "1         10         -0.2732                          -2.7320\n",
            "2          8         -0.4767                          -3.8136\n",
            "3         11          0.8271                           9.0981\n",
            "4          2          0.5719                           1.1438\n"
          ]
        }
      ],
      "source": [
        "# Creating an interaction feature between 'WordCount' and 'SentimentScore'\n",
        "reviews_df['Sentiment_WordCount_Interaction'] = reviews_df['WordCount'] * reviews_df['SentimentScore']\n",
        "\n",
        "# Examine the first few rows to see how this new feature looks\n",
        "print(reviews_df[['WordCount', 'SentimentScore', 'Sentiment_WordCount_Interaction']].head())\n"
      ]
    },
    {
      "cell_type": "markdown",
      "metadata": {
        "id": "u2cJSNsj1U4L"
      },
      "source": [
        "# Feature Selection\n",
        "\n",
        "Feature selection is a critical step in the modeling process as it involves identifying the most informative and relevant features that contribute to the predictive performance of the model. In our sentiment analysis task, the choice of features directly impacts the ability to accurately classify and understand the sentiments and emotions expressed in user reviews.\n"
      ]
    },
    {
      "cell_type": "markdown",
      "metadata": {
        "id": "Ie53ImaJCNa7"
      },
      "source": [
        "### Comprehensive Feature Selection for Sentiment Analysis\n",
        "\n",
        "As we refine our approach to sentiment analysis, it's crucial to ensure our sentiment analysis model captures a broad spectrum of insights from the reviews. We have carefully selected and engineered a set of features that balance computational efficiency with analytical depth. The selected features are designed to uncover the nuances in sentiment and emotional expression in user reviews, supporting our objective to enhance customer satisfaction and product development.\n",
        "\n",
        "#### Selected Features Overview\n",
        "\n",
        "1. **Sentiment Scores**:\n",
        "   - **Description**: Quantitative measures obtained from VADER that provide a compound score indicating the overall sentiment polarity of the reviews.\n",
        "   - **Purpose**: These scores form the backbone of our sentiment analysis, offering a direct and computationally efficient measure of sentiment polarity.\n",
        "\n",
        "2. **Emotion Labels**:\n",
        "   - **Description**: Categories such as joy, sadness, anger, etc., derived from the TinyBERT model.\n",
        "   - **Purpose**: These labels enable the model to perform fine-grained analysis of the emotional content of the reviews, which is critical for distinguishing detailed emotional states.\n",
        "\n",
        "3. **Top Emotional Words (TF-IDF)**:\n",
        "   - **Description**: Words identified through TF-IDF analysis that carry significant emotional or thematic weight.\n",
        "   - **Purpose**: By focusing on these top words, we capture key emotional triggers in the reviews without introducing excessive computational complexity.\n",
        "\n",
        "4. **Word Count**:\n",
        "   - **Description**: The total number of words in each review.\n",
        "   - **Purpose**: Provides insights into the depth of expression in the review, with longer reviews often indicating more detailed and elaborate sentiment expression.\n",
        "\n",
        "5. **Sentiment Word Count Interaction**:\n",
        "   - **Description**: An interaction feature created by multiplying the word count of each review by its sentiment score.\n",
        "   - **Purpose**: This feature aims to capture how the sentiment's intensity might be amplified or moderated by the length of the review. It helps the model understand the relationship between the amount of text and the strength of sentiment expressed, potentially highlighting cases where longer texts convey stronger sentiments.\n",
        "\n",
        "### Justification for Feature Selection\n",
        "\n",
        "Each feature has been selected for its ability to contribute to a comprehensive understanding of the sentiments expressed in user reviews:\n",
        "- **Sentiment Scores** and **Emotion Labels** directly assess the tone and emotional content.\n",
        "- **Top Emotional Words** provide contextual insights that are critical for identifying the nuances of sentiment linked to specific words or phrases.\n",
        "- **Word Count** and **Sentiment Word Count Interaction** explore the structural aspects of reviews, offering a deeper look at how the expression's quantity can influence its quality.\n",
        "\n",
        "**Quantitative aspect**s (Sentiment Scores, Word Count): These features provide numerical data that are straightforward to analyze and model.\n",
        "\n",
        "**Qualitative aspects** (Emotion Labels, Top Emotional Words): These features add depth and detail, enabling nuanced analysis of the text data.\n",
        "\n",
        "These features collectively enhance the model's ability to perform nuanced sentiment analysis, crucial for deriving actionable business insights and making informed decisions regarding product strategies and customer engagement.\n",
        "\n",
        "### Future Considerations\n",
        "\n",
        "As we continue to refine our model, we will monitor the performance impact of these features and consider adjustments based on computational resources and analytical needs. Some consderation are;\n",
        "\n",
        "**Dynamic Feature Scaling**: As computational resources expand, we may incorporate more dynamic features or more complex models to further refine our sentiment analysis.\n",
        "**Automated Feature Selection Techniques**: Implementing machine learning algorithms to automatically select and tune features based on their performance impact, enhancing model adaptability and efficiency.\n",
        ".\n"
      ]
    },
    {
      "cell_type": "code",
      "execution_count": 15,
      "metadata": {
        "colab": {
          "base_uri": "https://localhost:8080/"
        },
        "id": "LnFZ1uXT0DT3",
        "outputId": "7de1de4c-cc11-47df-aa7f-581170019dcf"
      },
      "outputs": [
        {
          "output_type": "stream",
          "name": "stdout",
          "text": [
            "<class 'pandas.core.frame.DataFrame'>\n",
            "Index: 1401768 entries, 0 to 1401981\n",
            "Data columns (total 16 columns):\n",
            " #   Column                           Non-Null Count    Dtype              \n",
            "---  ------                           --------------    -----              \n",
            " 0   ReviewId                         1401768 non-null  int64              \n",
            " 1   RecipeId                         1401768 non-null  int64              \n",
            " 2   AuthorId                         1401768 non-null  int64              \n",
            " 3   AuthorName                       1401768 non-null  object             \n",
            " 4   Rating                           1401768 non-null  int64              \n",
            " 5   Review                           1401768 non-null  object             \n",
            " 6   DateSubmitted                    1401768 non-null  datetime64[ns, UTC]\n",
            " 7   DateModified                     1401768 non-null  datetime64[ns, UTC]\n",
            " 8   ReviewLength                     1401768 non-null  int64              \n",
            " 9   NormalizedReview                 1401768 non-null  object             \n",
            " 10  LemmatizedReview                 1401768 non-null  object             \n",
            " 11  SentimentScore                   1401768 non-null  float64            \n",
            " 12  WordCount                        1401768 non-null  int64              \n",
            " 13  Emotion                          1401768 non-null  object             \n",
            " 14  TopEmotionalWords                1401554 non-null  object             \n",
            " 15  Sentiment_WordCount_Interaction  1401768 non-null  float64            \n",
            "dtypes: datetime64[ns, UTC](2), float64(2), int64(6), object(6)\n",
            "memory usage: 181.8+ MB\n",
            "None\n"
          ]
        }
      ],
      "source": [
        "# Finally, display the dataframe information to confirm all Feature Engineering changes\n",
        "print(reviews_df.info())"
      ]
    },
    {
      "cell_type": "markdown",
      "metadata": {
        "id": "Odq2zv-WO3oL"
      },
      "source": [
        "## Modeling Strategy for Sentiment Analysis of Recipe Reviews\n",
        "\n",
        "Our goal is to enhance customer satisfaction and tailor product development effectively by conducting a detailed sentiment analysis on user reviews of recipes. By leveraging these insights, we can improve recipe offerings and enhance customer engagement.\n",
        "\n",
        "### Business Use Case and Model Application\n",
        "\n",
        "We aim to use sentiment analysis to:\n",
        "- **Identify and distinguish detailed emotions** in reviews, such as differentiating between 'warm and happy' vs. 'excited and happy'.\n",
        "- **Utilize these insights** to adapt and improve recipe formulations, thus enhancing customer satisfaction.\n",
        "\n",
        "To achieve this, we will deploy two models — a traditional machine learning model and a deep learning model:\n",
        "\n",
        "1. **Logistic Regression (Machine Learning Model)**\n",
        "   - **Purpose**: Serve as a baseline to classify reviews into basic sentiment categories quickly and interpretably.\n",
        "   - **Features**:\n",
        "     - **Sentiment Scores**: From VADER, providing a quick gauge of sentiment polarity.\n",
        "     - **Word Count** and **Sentiment Word Count Interaction**: Reflect the depth and intensity of the sentiment.\n",
        "   - **Output**: Classifies reviews into Positive, Neutral, and Negative, e.g., `{Positive: 0.70, Neutral: 0.20, Negative: 0.10}`.\n",
        "   - **Unique Insight**: Rapid sentiment assessment useful for immediate marketing and product adjustments.\n",
        "\n",
        "2. **LSTM (Long Short-Term Memory, Deep Learning Model)**\n",
        "   - **Purpose**: Extract and predict nuanced emotional states from the sequential and contextual nature of text.\n",
        "   - **Features**:\n",
        "     - **Textual Data**: Lemmatized review text.\n",
        "     - **Emotion Labels**: Categorical emotional states from TinyBERT.\n",
        "     - **Top Emotional Words (TF-IDF)**: Highlighting key emotional triggers.\n",
        "   - **Output**: Detailed emotional states, e.g., `{Joy: 0.55, Surprise: 0.25, Sadness: 0.10, Anger: 0.10}`.\n",
        "   - **Unique Insight**: Provides depth in emotional analysis aiding in long-term strategic decisions for product development.\n",
        "\n",
        "### Enhanced Analysis with Recipe ID\n",
        "\n",
        "- **Integrating Recipe ID**: By linking reviews to specific recipes using `RecipeId`, we can further analyze which recipes receive the most positively intense reviews. This will enable us to identify top-performing recipes and understand the sentiment intensity and emotional mix that correlates with higher ratings, even among recipes that already rate highly.\n",
        "\n",
        "### Goal with Enhanced Data Analysis\n",
        "\n",
        "- **Identify Top Recipes**: Utilize the sentiment and emotion analysis to determine which recipes not only rate high on average but also inspire the most positive emotional responses.\n",
        "- **Recipe Development**: Provide insights into how certain recipes or ingredients affect customer emotions, guiding recipe adjustments or introductions.\n",
        "\n",
        "### Model Comparison and Output Analysis\n",
        "\n",
        "- **Comparison Metrics**: Accuracy, F1-Score, and ROC-AUC to evaluate and compare model performance comprehensively.\n",
        "- **Business Impact Analysis**: Assess outputs in the context of their ability to influence recipe ratings and emotional feedback, directly tying back to business objectives of customer satisfaction and engagement.\n",
        "\n",
        "By using these models and incorporating recipe-specific analysis, we aim to derive actionable insights that not only improve individual recipe ratings but also enhance the overall customer experience with our products.\n"
      ]
    },
    {
      "cell_type": "markdown",
      "metadata": {
        "id": "qiQs4XnxVFNy"
      },
      "source": [
        "# Training"
      ]
    },
    {
      "cell_type": "markdown",
      "metadata": {
        "id": "J9w96qYjVIKS"
      },
      "source": [
        "### Data Preparation for Ordinal Logistic Regression\n",
        "\n",
        "### Objective\n",
        "We employed Ordinal Logistic Regression to leverage the ordinal nature of recipe ratings from user reviews, enhancing the predictive accuracy and relevance of our sentiment analysis. Our ratings are on a scale (1-5), where each level has a meaningful order and relationship to the others. Ordinal Logistic Regression is ideal as it treats these ratings appropriately, unlike nominal categorical models.This approach will help us categorize reviews more precisely according to the intensity and sentiment expressed, aligning closely with our business goals of improving customer satisfaction and guiding product development.\n",
        "\n",
        "\n",
        "### Features for Ordinal Logistic Regression\n",
        "- **Sentiment Scores**, **Word Count**, and **Sentiment Word Count Interaction** will be used, chosen for their numeric nature and direct relationship with sentiment polarity.\n",
        "***Detailed Sentiment Analysis**: This model will allow us to predict the most likely rating and understand the probability distribution across different ratings, providing deeper insights into customer sentiments.\n",
        "\n",
        "### Encoding and Scaling\n",
        "- All features used are numeric; however, they will be standardized to have a mean of zero and a standard deviation of one. This standardization helps in aligning the scales of different features, which is crucial for models that are sensitive to feature magnitude like logistic regression.\n",
        "\n",
        "### Train-Test Split\n",
        "- The dataset will be divided into training 60%, validation 20%, and testing 20% sets to ensure robust evaluation and fine-tuning of the model's parameters.\n",
        "\n",
        "\n",
        "\n",
        "### Evaluation Metrics\n",
        "- Post-training, the model’s performance will be assessed on the testing set using metrics like accuracy, weighted F1-score, and a confusion matrix to understand how well the model predicts across the ordered categories.\n"
      ]
    },
    {
      "cell_type": "code",
      "execution_count": 16,
      "metadata": {
        "colab": {
          "base_uri": "https://localhost:8080/"
        },
        "id": "X4MA-AZCCMnp",
        "outputId": "b58b211c-11c8-4f8b-b4b6-e19311549d0a"
      },
      "outputs": [
        {
          "output_type": "stream",
          "name": "stdout",
          "text": [
            "Train set shape: (841060, 3)\n",
            "Validation set shape: (280354, 3)\n",
            "Test set shape: (280354, 3)\n"
          ]
        }
      ],
      "source": [
        "# Import necessary libraries and modules\n",
        "import numpy as np\n",
        "from sklearn.linear_model import LogisticRegression\n",
        "from sklearn.preprocessing import StandardScaler\n",
        "from sklearn.model_selection import train_test_split\n",
        "from sklearn.metrics import accuracy_score, confusion_matrix, classification_report\n",
        "from tqdm import tqdm  # For tracking training progress\n",
        "\n",
        "# Selecting features and target\n",
        "features = reviews_df[['SentimentScore', 'WordCount', 'Sentiment_WordCount_Interaction']]\n",
        "target = reviews_df['Rating']  # This is the ordinal target variable\n",
        "\n",
        "# Scaling features\n",
        "scaler = StandardScaler()\n",
        "features_scaled = scaler.fit_transform(features)\n",
        "\n",
        "# Data splitting\n",
        "X_train, X_temp, y_train, y_temp = train_test_split(features_scaled, target, test_size=0.4, random_state=42)\n",
        "X_valid, X_test, y_valid, y_test = train_test_split(X_temp, y_temp, test_size=0.5, random_state=42)  # Splits remaining 40% equally into 20% validation and 20% testing\n",
        "\n",
        "print(\"Train set shape:\", X_train.shape)\n",
        "print(\"Validation set shape:\", X_valid.shape)\n",
        "print(\"Test set shape:\", X_test.shape)\n"
      ]
    },
    {
      "cell_type": "code",
      "execution_count": 17,
      "metadata": {
        "colab": {
          "base_uri": "https://localhost:8080/"
        },
        "id": "k3ZAvBRjaFJU",
        "outputId": "8fc3c982-a61a-4c1b-fdf8-0360dd45a8c0"
      },
      "outputs": [
        {
          "output_type": "stream",
          "name": "stderr",
          "text": [
            "100%|██████████| 100/100 [05:50<00:00,  3.50s/it]"
          ]
        },
        {
          "output_type": "stream",
          "name": "stdout",
          "text": [
            "Validation Accuracy: 0.7200396641389101\n",
            "Validation Classification Report:\n",
            "               precision    recall  f1-score   support\n",
            "\n",
            "           0       0.18      0.02      0.03     15351\n",
            "           1       0.31      0.05      0.09      3279\n",
            "           2       0.00      0.00      0.00      3549\n",
            "           3       0.12      0.00      0.00     10087\n",
            "           4       0.17      0.00      0.01     45811\n",
            "           5       0.73      0.99      0.84    202277\n",
            "\n",
            "    accuracy                           0.72    280354\n",
            "   macro avg       0.25      0.18      0.16    280354\n",
            "weighted avg       0.57      0.72      0.61    280354\n",
            "\n",
            "Validation Confusion Matrix:\n",
            " [[   291    104      0      1    202  14753]\n",
            " [   333    180      0      0    165   2601]\n",
            " [   152     66      0      1    111   3219]\n",
            " [   188     59      0      1    158   9681]\n",
            " [   156     50      0      1    214  45390]\n",
            " [   526    123      0      4    444 201180]]\n"
          ]
        },
        {
          "output_type": "stream",
          "name": "stderr",
          "text": [
            "\n",
            "/usr/local/lib/python3.10/dist-packages/sklearn/metrics/_classification.py:1344: UndefinedMetricWarning: Precision and F-score are ill-defined and being set to 0.0 in labels with no predicted samples. Use `zero_division` parameter to control this behavior.\n",
            "  _warn_prf(average, modifier, msg_start, len(result))\n",
            "/usr/local/lib/python3.10/dist-packages/sklearn/metrics/_classification.py:1344: UndefinedMetricWarning: Precision and F-score are ill-defined and being set to 0.0 in labels with no predicted samples. Use `zero_division` parameter to control this behavior.\n",
            "  _warn_prf(average, modifier, msg_start, len(result))\n",
            "/usr/local/lib/python3.10/dist-packages/sklearn/metrics/_classification.py:1344: UndefinedMetricWarning: Precision and F-score are ill-defined and being set to 0.0 in labels with no predicted samples. Use `zero_division` parameter to control this behavior.\n",
            "  _warn_prf(average, modifier, msg_start, len(result))\n"
          ]
        }
      ],
      "source": [
        "# Initialize and train the Ordinal Logistic Regression model\n",
        "model = LogisticRegression(multi_class='ovr', solver='lbfgs', max_iter=100)\n",
        "for i in tqdm(range(100)):  # Utilize tqdm for visual progress\n",
        "    model.fit(X_train, y_train)  # Training the model\n",
        "\n",
        "# Validate the model\n",
        "y_valid_pred = model.predict(X_valid)\n",
        "print(\"Validation Accuracy:\", np.mean(y_valid_pred == y_valid))\n",
        "print(\"Validation Classification Report:\\n\", classification_report(y_valid, y_valid_pred))\n",
        "print(\"Validation Confusion Matrix:\\n\", confusion_matrix(y_valid, y_valid_pred))\n"
      ]
    },
    {
      "cell_type": "code",
      "source": [
        "import seaborn as sns\n",
        "import matplotlib.pyplot as plt\n",
        "\n",
        "# Plotting the confusion matrix\n",
        "plt.figure(figsize=(10, 8))\n",
        "sns.heatmap(confusion_matrix(y_valid, y_valid_pred), annot=True, fmt=\"d\", cmap=\"Blues\", xticklabels=range(6), yticklabels=range(6))\n",
        "plt.title('Confusion Matrix (Weighted)')\n",
        "plt.xlabel('Predicted Labels')\n",
        "plt.ylabel('True Labels')\n",
        "plt.show()\n"
      ],
      "metadata": {
        "colab": {
          "base_uri": "https://localhost:8080/",
          "height": 718
        },
        "id": "7dpgLqud67ra",
        "outputId": "5bcfaf08-6171-4eba-fe8e-3a30b22d7c09"
      },
      "execution_count": 20,
      "outputs": [
        {
          "output_type": "display_data",
          "data": {
            "text/plain": [
              "<Figure size 1000x800 with 2 Axes>"
            ],
            "image/png": "[encoded data removed]"
          },
          "metadata": {}
        }
      ]
    },
    {
      "cell_type": "markdown",
      "source": [
        " Our results show from the validation phase of the Logistic Regression model some challenges that need to be addressed. The performance metrics indicate that while the accuracy seems high at 72%, this seems to be largely influenced by the high number of class 5 ratings, where the model has significant predictive success. However, the performance across other classes is notably poor, especially in terms of precision, recall, and f1-score for lower ratings."
      ],
      "metadata": {
        "id": "NVbPJEsfxeJ-"
      }
    },
    {
      "cell_type": "markdown",
      "metadata": {
        "id": "5DerJXD7qFAV"
      },
      "source": [
        "## Improvements for Logistic Regression Model\n",
        "\n",
        "Given the challenges identified in the initial validation results, particularly the model's bias towards predicting the majority class, we propose several targeted improvements to enhance model performance across all rating classes. These improvements aim to address the class imbalance and refine the model's ability to differentiate between classes more effectively.\n",
        "\n",
        "### Addressing Class Imbalance\n",
        "\n",
        "1. **Incorporating Class Weights**:\n",
        "   - **Rationale**: By using class weights, we adjust the importance given to each class during training. This change aims to reduce the model's bias towards the majority class by increasing the penalty for misclassifying minority classes.\n",
        "   - **Implementation**: Class weights will be computed based on the inverse frequency of the classes in the training data. These weights will then be applied to the Logistic Regression model to ensure that the model pays more attention to underrepresented classes.\n",
        "\n",
        "### Enhanced Model Training with Class Weights\n",
        "\n",
        "- **Objective**: Retrain the Logistic Regression model using the computed class weights. This approach should help in achieving a more balanced performance across all classes, mitigating the issue of overfitting to the majority class.\n",
        "- **Expected Outcome**: Improved precision, recall, and F1-score for minority classes without a significant loss in overall accuracy.\n",
        "\n",
        "These steps are designed to refine the model's sensitivity to the nuances of each class, thereby enhancing its predictive accuracy and fairness across the diverse range of ratings present in the dataset.\n"
      ]
    },
    {
      "cell_type": "code",
      "execution_count": 22,
      "metadata": {
        "colab": {
          "base_uri": "https://localhost:8080/"
        },
        "id": "9biY0EVuqD1w",
        "outputId": "c8eac197-8bdf-49bf-c189-deddc0d8c71c"
      },
      "outputs": [
        {
          "output_type": "stream",
          "name": "stdout",
          "text": [
            "Validation Accuracy (Weighted): 0.5620001854797863\n",
            "Validation Classification Report (Weighted):\n",
            "               precision    recall  f1-score   support\n",
            "\n",
            "           0       0.08      0.15      0.11     15351\n",
            "           1       0.08      0.57      0.14      3279\n",
            "           2       0.04      0.04      0.04      3549\n",
            "           3       0.07      0.08      0.07     10087\n",
            "           4       0.22      0.13      0.16     45811\n",
            "           5       0.79      0.72      0.75    202277\n",
            "\n",
            "    accuracy                           0.56    280354\n",
            "   macro avg       0.21      0.28      0.21    280354\n",
            "weighted avg       0.61      0.56      0.58    280354\n",
            "\n",
            "Validation Confusion Matrix (Weighted):\n",
            " [[  2288   3706    379    877   1300   6801]\n",
            " [   408   1854    136    220    234    427]\n",
            " [   510   1438    158    311    351    781]\n",
            " [  1401   2357    373    817   1380   3759]\n",
            " [  4847   3605    925   2692   5907  27835]\n",
            " [ 18029  10233   2152   7440  17888 146535]]\n"
          ]
        }
      ],
      "source": [
        "from sklearn.linear_model import LogisticRegression\n",
        "from sklearn.utils.class_weight import compute_class_weight\n",
        "from sklearn.metrics import classification_report, confusion_matrix\n",
        "\n",
        "# Compute class weights based on the training data\n",
        "class_weights = compute_class_weight('balanced', classes=np.unique(y_train), y=y_train)\n",
        "class_weights_dict = {i: weight for i, weight in enumerate(class_weights)}\n",
        "\n",
        "# Initialize the Logistic Regression model with class weights\n",
        "model_with_weights = LogisticRegression(multi_class='ovr', solver='lbfgs', max_iter=100, class_weight=class_weights_dict)\n",
        "\n",
        "# Train the model on the training set\n",
        "model_with_weights.fit(X_train, y_train)\n",
        "\n",
        "# Validate the model on the validation set\n",
        "y_valid_pred_weighted = model_with_weights.predict(X_valid)\n",
        "print(\"Validation Accuracy (Weighted):\", np.mean(y_valid_pred_weighted == y_valid))\n",
        "print(\"Validation Classification Report (Weighted):\\n\", classification_report(y_valid, y_valid_pred_weighted))\n",
        "print(\"Validation Confusion Matrix (Weighted):\\n\", confusion_matrix(y_valid, y_valid_pred_weighted))\n"
      ]
    },
    {
      "cell_type": "code",
      "execution_count": 23,
      "metadata": {
        "colab": {
          "base_uri": "https://localhost:8080/",
          "height": 718
        },
        "id": "huPedPpcrBGp",
        "outputId": "6badbe69-f321-4894-97e0-a9fc1b4e3f29"
      },
      "outputs": [
        {
          "output_type": "display_data",
          "data": {
            "text/plain": [
              "<Figure size 1000x800 with 2 Axes>"
            ],
            "image/png": "[encoded data removed]"
          },
          "metadata": {}
        }
      ],
      "source": [
        "import seaborn as sns\n",
        "import matplotlib.pyplot as plt\n",
        "\n",
        "# Plotting the confusion matrix\n",
        "plt.figure(figsize=(10, 8))\n",
        "sns.heatmap(confusion_matrix(y_valid, y_valid_pred_weighted), annot=True, fmt=\"d\", cmap=\"Blues\", xticklabels=range(6), yticklabels=range(6))\n",
        "plt.title('Confusion Matrix (Weighted)')\n",
        "plt.xlabel('Predicted Labels')\n",
        "plt.ylabel('True Labels')\n",
        "plt.show()\n"
      ]
    },
    {
      "cell_type": "markdown",
      "source": [
        "The updated validation results with class weights show a more balanced performance across all classes compared to the initial Logistic Regression model. While the overall accuracy has decreased slightly to 56.2% from 72%, this is expected as the model is now making more efforts to classify minority classes correctly, rather than predominantly predicting the majority class."
      ],
      "metadata": {
        "id": "nrp2MSaNx7AN"
      }
    },
    {
      "cell_type": "markdown",
      "source": [
        "## Attempt at hyper peramiter tuning\n",
        "\n",
        "So to further enhance the performance of the Logistic Regression model, especially to improve the balance between precision and recall, we can experiment with hyperparameter tuning. This involves **adjusting the regularization strength (C parameter) of the model**. A smaller value of C increases the regularization strength, which can help reduce overfitting but may also increase underfitting, so it's crucial to find a balanced value.\n",
        "\n",
        "Here are teh steps we follow for this approach of Hyperparameter Tuning;\n",
        "\n",
        "\n",
        "\n",
        "1.   Adjust C Parameter: Experiment with different values of C to see how they affect model performance. The C parameter serves as the inverse of regularization strength; lower values lead to stronger regularization.\n",
        "\n",
        "2.   Cross-Validation: Utilize cross-validation to assess the impact of each C value more reliably, ensuring that the tuning is robust against different subsets of the data.\n",
        "\n",
        "3. Track Changes: Monitor changes in precision, recall, and overall accuracy to identify the best C value that provides a good trade-off between detecting minority classes more effectively and maintaining overall accuracy."
      ],
      "metadata": {
        "id": "bCq8Gk3az4f6"
      }
    },
    {
      "cell_type": "code",
      "execution_count": 24,
      "metadata": {
        "colab": {
          "base_uri": "https://localhost:8080/"
        },
        "id": "cZkqXeIRrOMl",
        "outputId": "e78b5232-4c0f-440b-e96d-6825327e9d30"
      },
      "outputs": [
        {
          "output_type": "stream",
          "name": "stderr",
          "text": [
            "Training models across C values: 100%|██████████| 6/6 [00:27<00:00,  4.58s/it]"
          ]
        },
        {
          "output_type": "stream",
          "name": "stdout",
          "text": [
            "         C  Accuracy  Precision    Recall  F1-Score\n",
            "0    0.001  0.560713   0.611437  0.560713  0.580571\n",
            "1    0.010  0.561836   0.611884  0.561836  0.581373\n",
            "2    0.100  0.561986   0.612013  0.561986  0.581505\n",
            "3    1.000  0.562000   0.612024  0.562000  0.581516\n",
            "4   10.000  0.562007   0.612029  0.562007  0.581522\n",
            "5  100.000  0.562007   0.612029  0.562007  0.581522\n"
          ]
        },
        {
          "output_type": "stream",
          "name": "stderr",
          "text": [
            "\n"
          ]
        }
      ],
      "source": [
        "from sklearn.linear_model import LogisticRegression\n",
        "from sklearn.metrics import classification_report, confusion_matrix, accuracy_score\n",
        "from tqdm import tqdm\n",
        "import numpy as np\n",
        "import pandas as pd\n",
        "\n",
        "# Values of C to try\n",
        "C_values = [0.001, 0.01, 0.1, 1, 10, 100]\n",
        "\n",
        "# Initialize results storage\n",
        "results = []\n",
        "\n",
        "# Loop over each value of C using tqdm for progress tracking\n",
        "for C in tqdm(C_values, desc=\"Training models across C values\"):\n",
        "    # Initialize the Logistic Regression model with class weights and current C value\n",
        "    model = LogisticRegression(multi_class='ovr', solver='lbfgs', max_iter=100, class_weight=class_weights_dict, C=C)\n",
        "    model.fit(X_train, y_train)\n",
        "\n",
        "    # Validate the model\n",
        "    y_valid_pred = model.predict(X_valid)\n",
        "    accuracy = np.mean(y_valid_pred == y_valid)\n",
        "    report = classification_report(y_valid, y_valid_pred, output_dict=True)\n",
        "\n",
        "    # Store results\n",
        "    results.append({\n",
        "        'C': C,\n",
        "        'Accuracy': accuracy,\n",
        "        'Precision': report['weighted avg']['precision'],\n",
        "        'Recall': report['weighted avg']['recall'],\n",
        "        'F1-Score': report['weighted avg']['f1-score']\n",
        "    })\n",
        "\n",
        "# Display results\n",
        "results_df = pd.DataFrame(results)\n",
        "print(results_df)\n",
        "\n"
      ]
    },
    {
      "cell_type": "markdown",
      "source": [
        "The results show the performance metrics for different values of the regularization strength parameter C, ranging from 0.001 to 100.\n",
        "\n",
        "\n",
        "**Accuracy, Precision, Recall, and F1-Score:** All metrics improve slightly as\n",
        "C increases from 0.001 to 1, indicating that reducing the regularization (increasing C) helps the model initially. However, beyond\n",
        "'1', the improvements seem to plateau, and further increases in\n",
        "C do not significantly change the performance metrics.\n",
        "\n",
        "**Stability:** The model's performance metrics stabilize around\n",
        "C=1 and remain nearly constant for higher values of\n",
        "C. This suggests that the model reaches a limit in its ability to learn from the data under the current feature set and model configuration.\n"
      ],
      "metadata": {
        "id": "z1nltvAz04fS"
      }
    },
    {
      "cell_type": "markdown",
      "metadata": {
        "id": "xRfkFbTduvVg"
      },
      "source": [
        "## Final Model Training and Evaluation\n",
        "\n",
        "After extensive hyperparameter tuning of the Logistic Regression model across a range of \\( C \\) values, we've identified that \\( C = 1 \\) provides a balanced approach to model regularization and complexity. This selection is based on the stabilization of performance metrics such as accuracy, precision, recall, and F1-score, which do not show significant improvements beyond this point.\n",
        "\n",
        "### Recommendations and Strategy\n",
        "\n",
        "1. **Optimal \\( C \\) Value**: \\( C = 1 \\) is chosen as it offers the best balance, enhancing the model's ability to generalize without overfitting. This value ensures the model is neither too rigid nor too flexible, making it ideal for operational deployment.\n",
        "\n",
        "2. **Future Model Enhancement**:\n",
        "   - **Feature Review**: Given the plateau in performance improvement, further enhancement of features or introduction of new feature engineering techniques is recommended to potentially boost the model’s discriminative power.\n",
        "   - **Exploration of Advanced Models**: Should the need arise from business requirements or performance benchmarks, exploring more sophisticated modeling approaches or ensemble techniques may be beneficial.\n",
        "\n",
        "3. **Deployment and Monitoring**:\n",
        "   - The model configured with \\( C = 1 \\) will be deployed for operational use. It is crucial to continuously monitor its performance and adapt as necessary, especially to accommodate changes in data patterns or business objectives.\n",
        "   - Implementing a systematic feedback mechanism to update or recalibrate the model periodically ensures sustained relevance and accuracy.\n",
        "\n",
        "### Final Training and Test Evaluation\n",
        "\n",
        "The final steps involve retraining the Logistic Regression model with the selected hyperparameter on the full training set and then rigorously evaluating its performance on the test set. This evaluation will confirm the model's effectiveness and readiness for deployment in a real-world setting.\n",
        "\n",
        "\n"
      ]
    },
    {
      "cell_type": "code",
      "execution_count": 32,
      "metadata": {
        "colab": {
          "base_uri": "https://localhost:8080/"
        },
        "id": "K70CBYrDvLNT",
        "outputId": "834c6661-88af-4e29-cfac-092beea36e47"
      },
      "outputs": [
        {
          "output_type": "stream",
          "name": "stderr",
          "text": [
            "Training Progress: 100%|██████████| 100/100 [07:23<00:00,  4.43s/it]\n"
          ]
        },
        {
          "output_type": "stream",
          "name": "stdout",
          "text": [
            "Test Accuracy: 0.5625780263523973\n",
            "Test Classification Report:\n",
            "               precision    recall  f1-score   support\n",
            "\n",
            "           0       0.08      0.15      0.11     15105\n",
            "           1       0.08      0.59      0.15      3338\n",
            "           2       0.04      0.04      0.04      3449\n",
            "           3       0.07      0.08      0.07     10015\n",
            "           4       0.22      0.13      0.16     46062\n",
            "           5       0.79      0.72      0.75    202385\n",
            "\n",
            "    accuracy                           0.56    280354\n",
            "   macro avg       0.21      0.29      0.21    280354\n",
            "weighted avg       0.61      0.56      0.58    280354\n",
            "\n",
            "Test Confusion Matrix:\n",
            " [[  2290   3616    402    860   1385   6552]\n",
            " [   397   1959    128    197    229    428]\n",
            " [   475   1429    155    245    377    768]\n",
            " [  1335   2268    368    816   1356   3872]\n",
            " [  4888   3799    933   2728   5962  27752]\n",
            " [ 17953  10322   2196   7355  18020 146539]]\n",
            "Example Test Input (Standardized Features): [[0.63813837 0.52510145 0.68496822]]\n",
            "Predicted Sentiment Class: 5\n",
            "True Sentiment Class: 4\n"
          ]
        }
      ],
      "source": [
        "from sklearn.linear_model import LogisticRegression\n",
        "from sklearn.metrics import classification_report, confusion_matrix\n",
        "from tqdm import tqdm\n",
        "import numpy as np\n",
        "\n",
        "# Compute class weights based on the training data\n",
        "class_weights = compute_class_weight('balanced', classes=np.unique(y_train), y=y_train)\n",
        "class_weights_dict = {i: weight for i, weight in enumerate(class_weights)}\n",
        "\n",
        "# Initialize the Logistic Regression model with optimal C and class weights\n",
        "final_model = LogisticRegression(multi_class='ovr', solver='lbfgs',   class_weight=class_weights_dict, C=1)\n",
        "\n",
        "# Train the model with tqdm to track progress\n",
        "for i in tqdm(range(100), desc=\"Training Progress\"):\n",
        "    final_model.fit(X_train, y_train)\n",
        "\n",
        "# Evaluate the model on the test set\n",
        "y_test_pred = final_model.predict(X_test)\n",
        "print(\"Test Accuracy:\", np.mean(y_test_pred == y_test))\n",
        "print(\"Test Classification Report:\\n\", classification_report(y_test, y_test_pred))\n",
        "print(\"Test Confusion Matrix:\\n\", confusion_matrix(y_test, y_test_pred))\n",
        "\n",
        "# Example Prediction: Predict the sentiment class for a single test input\n",
        "example_index = 0  # Example index in the test set\n",
        "example_input = X_test[example_index].reshape(1, -1)\n",
        "example_prediction = final_model.predict(example_input)\n",
        "example_true_label = y_test.iloc[example_index]\n",
        "\n",
        "print(\"Example Test Input (Standardized Features):\", example_input)\n",
        "print(\"Predicted Sentiment Class:\", example_prediction[0])\n",
        "print(\"True Sentiment Class:\", example_true_label)\n"
      ]
    },
    {
      "cell_type": "code",
      "source": [
        "# Example Prediction: Predict the sentiment class for a single test input\n",
        "example_index = 1  # Example index in the test set\n",
        "example_input = X_test[example_index].reshape(1, -1)\n",
        "example_prediction = final_model.predict(example_input)\n",
        "example_true_label = y_test.iloc[example_index]\n",
        "\n",
        "print(\"Example Test Input (Standardized Features):\", example_input)\n",
        "print(\"Predicted Sentiment Class:\", example_prediction[0])\n",
        "print(\"True Sentiment Class:\", example_true_label)"
      ],
      "metadata": {
        "colab": {
          "base_uri": "https://localhost:8080/"
        },
        "id": "aZjB9b5POjQG",
        "outputId": "8ff9a58e-3afc-447a-b834-617e52df79c7"
      },
      "execution_count": 34,
      "outputs": [
        {
          "output_type": "stream",
          "name": "stdout",
          "text": [
            "Example Test Input (Standardized Features): [[-0.04656172 -1.09457221 -0.87565072]]\n",
            "Predicted Sentiment Class: 5\n",
            "True Sentiment Class: 5\n"
          ]
        }
      ]
    },
    {
      "cell_type": "code",
      "source": [
        "from sklearn.preprocessing import StandardScaler\n",
        "\n",
        "# Initialize the list of sentiment categories that match the number of classes predicted by the model\n",
        "sentiment_categories = ['Negative', 'Somewhat Negative', 'Neutral', 'Somewhat Positive', 'Positive', 'Very Positive']\n",
        "\n",
        "# Loop through the first two examples in the test set\n",
        "for example_index in range(2):\n",
        "    example_input = X_test[example_index].reshape(1, -1)\n",
        "    example_proba = final_model.predict_proba(example_input)\n",
        "    example_prediction = final_model.predict(example_input)[0]\n",
        "    example_true_label = y_test.iloc[example_index]\n",
        "\n",
        "    # Display the review text for context\n",
        "    print(\"\\nReview:\", reviews_df.iloc[example_index]['Review'])\n",
        "    print(\"Predicted Sentiment Probabilities:\")\n",
        "    for sentiment, probability in zip(sentiment_categories, example_proba[0]):\n",
        "        print(f\"{sentiment}: {probability:.2f}\")\n",
        "    print(\"Predicted Sentiment Class:\", sentiment_categories[example_prediction])\n",
        "    print(\"True Sentiment Class:\", sentiment_categories[example_true_label])\n",
        "    print(\"\\n---\")  # Separator for readability between examples\n"
      ],
      "metadata": {
        "colab": {
          "base_uri": "https://localhost:8080/"
        },
        "id": "OBWr5LSgLTUE",
        "outputId": "57a9c33f-9071-4277-8b9b-f2261f8d392b"
      },
      "execution_count": 37,
      "outputs": [
        {
          "output_type": "stream",
          "name": "stdout",
          "text": [
            "\n",
            "Review: better than any you can get at a restaurant!\n",
            "Predicted Sentiment Probabilities:\n",
            "Negative: 0.16\n",
            "Somewhat Negative: 0.06\n",
            "Neutral: 0.11\n",
            "Somewhat Positive: 0.17\n",
            "Positive: 0.23\n",
            "Very Positive: 0.27\n",
            "Predicted Sentiment Class: Very Positive\n",
            "True Sentiment Class: Positive\n",
            "\n",
            "---\n",
            "\n",
            "Review: I cut back on the mayo, and made up the difference with sour cream to adjust the stiffness of the dip.\n",
            "Predicted Sentiment Probabilities:\n",
            "Negative: 0.20\n",
            "Somewhat Negative: 0.08\n",
            "Neutral: 0.12\n",
            "Somewhat Positive: 0.15\n",
            "Positive: 0.20\n",
            "Very Positive: 0.24\n",
            "Predicted Sentiment Class: Very Positive\n",
            "True Sentiment Class: Very Positive\n",
            "\n",
            "---\n"
          ]
        }
      ]
    },
    {
      "cell_type": "markdown",
      "source": [
        "## Insights from Sentiment Analysis Model\n",
        "\n",
        "The refined sentiment analysis using Logistic Regression has provided not only categorical sentiment predictions but also detailed probabilities across a spectrum of sentiment intensities for each review. This section outlines the key insights from the model outputs for two specific reviews and discusses how these insights can be leveraged for deeper business applications.\n",
        "\n",
        "### Review 1: Restaurant Comparison\n",
        "- **Text**: \"better than any you can get at a restaurant!\"\n",
        "- **True Sentiment**: Positive\n",
        "- **Predicted Sentiment**: Very Positive\n",
        "- **Probabilities**: Negative (0.16), Somewhat Negative (0.06), Neutral (0.11), Somewhat Positive (0.17), Positive (0.23), Very Positive (0.27)\n",
        "\n",
        "#### Insights:\n",
        "- **Enhanced Sentiment Detection**: The model’s prediction of \"Very Positive\" suggests a stronger sentiment than the customer's given rating, indicating an exceptionally positive response that might not be fully captured by a simple 'Positive' rating.\n",
        "- **Emotional Depth and Nuance**: The distribution of probabilities across multiple positive categories highlights a nuanced emotional response, useful for understanding varying degrees of satisfaction that standard ratings might not reveal.\n",
        "\n",
        "### Review 2: Recipe Modification\n",
        "- **Text**: \"I cut back on the mayo, and made up the difference with sour cream to adjust the stiffness of the dip.\"\n",
        "- **True Sentiment**: Very Positive\n",
        "- **Predicted Sentiment**: Very Positive\n",
        "- **Probabilities**: Negative (0.20), Somewhat Negative (0.08), Neutral (0.12), Somewhat Positive (0.15), Positive (0.20), Very Positive (0.24)\n",
        "\n",
        "#### Insights:\n",
        "- **Diverse Sentiment Interpretation**: The spread of probabilities from Negative to Very Positive reflects a complex sentiment likely associated with experimentation or modification of a recipe. This could indicate the user's mixed feelings about the adjustment process, despite the overall positive outcome.\n",
        "- **Mixed Emotional Signals**: Significant probabilities in both Negative and Positive categories could help businesses understand ambiguous or mixed reactions to product changes, which are crucial for product development and customer service strategies.\n"
      ],
      "metadata": {
        "id": "DEzQ1CU1S8bv"
      }
    },
    {
      "cell_type": "markdown",
      "source": [
        "## Advanced Utilization of Sentiment Analysis for Recipe Evaluation and Marketing\n",
        "\n",
        "By leveraging detailed sentiment analysis beyond simple numerical ratings, businesses can gain a richer understanding of customer reactions to their products, specifically recipes in this context. This section outlines how to use these insights for creating targeted top 10 lists of recipes that appear to be rated similarly but might have different sentiment intensities or nuances.\n",
        "\n",
        "### Strategic Analysis of Recipe Ratings\n",
        "- **Enhanced Top Lists**: Instead of traditional top lists based solely on average ratings, generate lists that also consider sentiment intensity and nuance. For instance, from the pool of recipes rated as '4', identify those that the sentiment analysis suggests are closer to a '5'. This indicates a stronger appreciation that might not be fully captured by the average rating alone.\n",
        "- **Identifying Underperformers in Top Ratings**: Similarly, for recipes rated as '5', analyze those that have significant probabilities indicating negative sentiments. This can help identify recipes that, while highly rated, might have underlying issues that could affect long-term satisfaction.\n",
        "\n",
        "### Application in Marketing and Product Development\n",
        "1. **Targeted Promotions for Underrated Gems**:\n",
        "   - Use the sentiment analysis to identify recipes that are underrated (e.g., rated as '4' but with sentiment closer to '5'). Promote these as hidden gems to customers, potentially increasing their popularity and user engagement.\n",
        "   \n",
        "2. **Adjusting Highly Rated Recipes**:\n",
        "   - For recipes rated as '5' but showing considerable negative sentiment signals, conduct a deeper review to understand potential mismatches or subtle dissatisfaction points.\n",
        "   - Utilize this feedback for recipe adjustments or to highlight these nuances in marketing materials, setting realistic expectations or spotlighting improved versions.\n",
        "\n",
        "3. **Marketing Content Customization**:\n",
        "   - Create marketing content that highlights the emotional responses from reviews, using quotes or themes from sentiment analysis to connect with potential customers on an emotional level.\n",
        "   - Develop campaigns that focus on the emotional satisfaction customers derive from top-rated recipes, especially those that sentiment analysis identifies as exceptionally positive.\n",
        "\n",
        "4. **Feedback Loop to Culinary Team**:\n",
        "   - Provide the culinary or recipe development team with detailed sentiment breakdowns for recipes, especially those on the cusp of higher ratings or showing mixed sentiments despite high ratings.\n",
        "   - Use this data to refine recipes, adjust ingredient proportions, or experiment with new variations informed by customer feedback.\n",
        "\n",
        "### Implementation Strategy for Actionable Insights\n",
        "- **Data-Driven Decision Making**: Integrate sentiment analysis into regular business reviews and decision-making processes, ensuring that product strategies are aligned with detailed customer feedback.\n",
        "- **Continuous Monitoring and Updating**: Establish a system for continuous monitoring of customer feedback and regular updating of sentiment analysis models to adapt to changing customer preferences and feedback patterns.\n",
        "\n",
        "### Conclusion to Liner Regration and the analys from results\n",
        "Incorporating advanced sentiment analysis into the evaluation and marketing of recipes allows businesses to go beyond simple numerical ratings and harness deeper insights into customer emotions and preferences. By doing so, they can enhance customer satisfaction, tailor marketing efforts more effectively, and drive product innovation based on nuanced customer feedback.\n"
      ],
      "metadata": {
        "id": "wMEzSuG5S6RY"
      }
    },
    {
      "cell_type": "markdown",
      "source": [
        "## LSTM Model Feature Preparation and Utilization\n",
        "Next we progress to implementing the LSTM model for our sentiment analysis project.\n",
        "\n",
        "### Selected Features for LSTM Model\n",
        "This LSTM model will utilize a combination of textual and categorical data from our reviews dataset, to focus on capturing detailed emotional states and the context within our reviews:\n",
        "\n",
        "- **Textual Data -Lemmatized Review**:\n",
        "  - **Description**: The lemmatized text of the reviews, which reduces words to their base or dictionary form.\n",
        "  - **Purpose**: Serves as the primary input for the LSTM to analyze the sequence and context of words in sentiment expression.\n",
        "\n",
        "- **Emotion Labels**:\n",
        "  - **Description**: Categorical labels such as joy, sadness, anger, etc., derived from the TinyBERT model.\n",
        "  - **Purpose**: Provides a predefined emotional context to each review, enhancing the LSTM's ability to classify and predict nuanced emotional states.\n",
        "\n",
        "- **Top Emotional Words -TF-IDF**:\n",
        "  - **Description**: Key words identified through TF-IDF analysis that have significant emotional or thematic weight in the context of the review.\n",
        "  - **Purpose**: Highlights critical emotional triggers within the text, aiding the LSTM in focusing on parts of the text that carry strong sentiment indications."
      ],
      "metadata": {
        "id": "Gkpw_xUkVk5L"
      }
    },
    {
      "cell_type": "markdown",
      "source": [
        "## Data Preparation for LSTM Model\n",
        "\n",
        "Before training the LSTM model, it is essential to prepare the input data:\n",
        "\n",
        "1. **Tokenize Lemmatized Reviews**: Convert the lemmatized text into sequences of integers using tokenization.\n",
        "2. **Pad Sequences**: Ensure all text sequences are of uniform length by padding shorter texts with zeros.\n",
        "3. **Encode Emotion Labels**: Convert categorical emotion labels into a one-hot format.\n",
        "4. **Prepare Top Emotional Words**: Integrate emotional words effectively,  using an embedding layer.\n",
        "\n",
        "These steps will transform raw review data into a structured format that the LSTM can process, capturing both the sequential nature of text and the categorical essence of emotions.\n"
      ],
      "metadata": {
        "id": "DCXPL5I-aBlS"
      }
    },
    {
      "cell_type": "code",
      "source": [
        "# Import necessary library\n",
        "import pandas as pd\n",
        "\n",
        "# Check for entries that are not lists and replace them with an empty list\n",
        "reviews_df['TopEmotionalWords'] = reviews_df['TopEmotionalWords'].apply(lambda x: x if isinstance(x, list) else [])\n",
        "\n",
        "# Now, convert lists of words into a single string per entry\n",
        "reviews_df['TopEmotionalWords'] = reviews_df['TopEmotionalWords'].apply(lambda x: ' '.join(x))\n",
        "\n",
        "# Verify the transformation\n",
        "print(reviews_df['TopEmotionalWords'].head())\n"
      ],
      "metadata": {
        "colab": {
          "base_uri": "https://localhost:8080/"
        },
        "id": "z3PkpQKyeLxF",
        "outputId": "f53ed920-2aed-478e-cf8f-a38ea9f30034"
      },
      "execution_count": 42,
      "outputs": [
        {
          "output_type": "stream",
          "name": "stdout",
          "text": [
            "0               restaurant better get putting put\n",
            "1                   mayo difference dip sour back\n",
            "2     product cornstarch finished wrong something\n",
            "3          juicy easily bland vegetable flavorful\n",
            "4    excellent dish prepare prepared presentation\n",
            "Name: TopEmotionalWords, dtype: object\n"
          ]
        }
      ]
    },
    {
      "cell_type": "code",
      "source": [
        "from tensorflow.keras.models import Model\n",
        "from tensorflow.keras.layers import Input, Embedding, LSTM, Dense, concatenate, Dropout\n",
        "from tensorflow.keras.optimizers import Adam\n",
        "from tensorflow.keras.preprocessing.text import Tokenizer\n",
        "from tensorflow.keras.preprocessing.sequence import pad_sequences\n",
        "from tensorflow.keras.utils import to_categorical\n",
        "from sklearn.preprocessing import LabelEncoder\n",
        "import tensorflow as tf\n",
        "\n",
        "# Enable mixed precision for faster training\n",
        "policy = tf.keras.mixed_precision.Policy('mixed_float16')\n",
        "tf.keras.mixed_precision.set_global_policy(policy)\n",
        "\n",
        "# Constants for the model\n",
        "MAX_SEQUENCE_LENGTH = 100  # Maximum length of text sequences\n",
        "MAX_TOP_WORDS = 5  # Maximum number of top emotional words considered per review\n",
        "MAX_NUM_WORDS = 10000  # Number of words in the vocabulary\n",
        "EMBEDDING_DIM = 100  # Uniform embedding dimensions for both main and top words\n",
        "\n",
        "# Prepare main text data\n",
        "tokenizer = Tokenizer(num_words=MAX_NUM_WORDS)\n",
        "tokenizer.fit_on_texts(reviews_df['LemmatizedReview'])\n",
        "sequences = tokenizer.texts_to_sequences(reviews_df['LemmatizedReview'])\n",
        "main_data = pad_sequences(sequences, maxlen=MAX_SEQUENCE_LENGTH)\n",
        "\n",
        "# Prepare top emotional words data\n",
        "top_words_sequences = tokenizer.texts_to_sequences(reviews_df['TopEmotionalWords'])\n",
        "top_words_data = pad_sequences(top_words_sequences, maxlen=MAX_TOP_WORDS)\n",
        "\n",
        "# Encoding emotions\n",
        "label_encoder = LabelEncoder()\n",
        "emotion_labels = label_encoder.fit_transform(reviews_df['Emotion'])\n",
        "emotion_one_hot = to_categorical(emotion_labels)\n",
        "\n",
        "# Model architecture\n",
        "main_input = Input(shape=(MAX_SEQUENCE_LENGTH,), dtype='int32', name='main_input')\n",
        "main_embedding = Embedding(input_dim=MAX_NUM_WORDS, output_dim=EMBEDDING_DIM, input_length=MAX_SEQUENCE_LENGTH)(main_input)\n",
        "\n",
        "top_words_input = Input(shape=(MAX_TOP_WORDS,), dtype='int32', name='top_words_input')\n",
        "top_words_embedding = Embedding(input_dim=MAX_NUM_WORDS, output_dim=EMBEDDING_DIM, input_length=MAX_TOP_WORDS)(top_words_input)\n",
        "\n",
        "# Concatenating along the sequence dimension\n",
        "concatenated_embeddings = concatenate([main_embedding, top_words_embedding], axis=1)\n",
        "lstm_out = LSTM(64, dropout=0.5, recurrent_dropout=0, activation='tanh', recurrent_activation='sigmoid')(concatenated_embeddings)  # LSTM layer with dropout\n",
        "output = Dense(6, activation='softmax', dtype='float32')(lstm_out)  # Ensure final layer uses float32 for stability\n",
        "\n",
        "model = Model(inputs=[main_input, top_words_input], outputs=output)\n",
        "model.compile(loss='categorical_crossentropy', optimizer=Adam(learning_rate=0.001), metrics=['accuracy'])\n",
        "\n",
        "# Model summary\n",
        "model.summary()\n"
      ],
      "metadata": {
        "colab": {
          "base_uri": "https://localhost:8080/"
        },
        "id": "lDlm2ruvaK-J",
        "outputId": "133ed0f6-0390-4776-e846-91da852eadfd"
      },
      "execution_count": 50,
      "outputs": [
        {
          "output_type": "stream",
          "name": "stderr",
          "text": [
            "WARNING:tensorflow:Layer lstm_3 will not use cuDNN kernels since it doesn't meet the criteria. It will use a generic GPU kernel as fallback when running on GPU.\n"
          ]
        },
        {
          "output_type": "stream",
          "name": "stdout",
          "text": [
            "Model: \"model_2\"\n",
            "__________________________________________________________________________________________________\n",
            " Layer (type)                Output Shape                 Param #   Connected to                  \n",
            "==================================================================================================\n",
            " main_input (InputLayer)     [(None, 100)]                0         []                            \n",
            "                                                                                                  \n",
            " top_words_input (InputLaye  [(None, 5)]                  0         []                            \n",
            " r)                                                                                               \n",
            "                                                                                                  \n",
            " embedding_6 (Embedding)     (None, 100, 100)             1000000   ['main_input[0][0]']          \n",
            "                                                                                                  \n",
            " embedding_7 (Embedding)     (None, 5, 100)               1000000   ['top_words_input[0][0]']     \n",
            "                                                                                                  \n",
            " concatenate_3 (Concatenate  (None, 105, 100)             0         ['embedding_6[0][0]',         \n",
            " )                                                                   'embedding_7[0][0]']         \n",
            "                                                                                                  \n",
            " lstm_3 (LSTM)               (None, 64)                   42240     ['concatenate_3[0][0]']       \n",
            "                                                                                                  \n",
            " dense_3 (Dense)             (None, 6)                    390       ['lstm_3[0][0]']              \n",
            "                                                                                                  \n",
            "==================================================================================================\n",
            "Total params: 2042630 (7.79 MB)\n",
            "Trainable params: 2042630 (7.79 MB)\n",
            "Non-trainable params: 0 (0.00 Byte)\n",
            "__________________________________________________________________________________________________\n"
          ]
        }
      ]
    },
    {
      "cell_type": "markdown",
      "source": [
        "we can make the following observations\n",
        "**Concatenation of Embeddings:** The embeddings from the main text and the top emotional words are concatenated along the sequence length, resulting in a combined input shape of (None, 105, 100). This shape confirms that the model is correctly taking into account both inputs by extending the sequence length to include both the main and top word embeddings.\n",
        "\n",
        "**LSTM Layer:** The LSTM layer processes this concatenated input, and due to the sequence dimension alteration (105 instead of the original 100 from just the main text), it provides the LSTM with a richer context for learning.\n",
        "\n",
        "**Output Layer:** The **final Dense layer with 6 units** corresponds to your emotion categories, using softmax for multi-class classification, which is set up correctly."
      ],
      "metadata": {
        "id": "tzYAGZaroASb"
      }
    },
    {
      "cell_type": "markdown",
      "source": [
        "## Training and Monitoring the LSTM Model\n",
        "\n",
        "Now that our LSTM model is set up, the next step is to train it on our dataset comprising main review texts and top emotional words. Effective training and monitoring are crucial to achieving the best performance and understanding the model's behavior over epochs.\n",
        "\n",
        "### Model Training\n",
        "Training involves fitting the model to our labeled data (reviews and their corresponding emotion categories), allowing it to learn how to predict the emotional tone of text based on the input features.\n",
        "\n",
        "### Validation\n",
        "Using a portion of the data as a validation set helps us monitor the model's performance on unseen data. This helps in detecting overfitting early and adjusting the model or training process accordingly.\n",
        "\n",
        "### Monitoring Training Progress\n",
        "Monitoring is vital to understanding how well the model is learning and improving over time:\n",
        "- **Accuracy Tracking**: We track both training and validation accuracy to ensure the model not only learns well but also generalizes to new data.\n",
        "- **Loss Tracking**: Observing the loss helps in understanding how well the model's predictions match the actual labels, with a focus on minimizing this loss over epochs.\n"
      ],
      "metadata": {
        "id": "BEJzFof2n-5l"
      }
    },
    {
      "cell_type": "code",
      "source": [
        "from tensorflow.keras.callbacks import EarlyStopping, Callback\n",
        "from tqdm.keras import TqdmCallback\n",
        "\n",
        "# Prepare the data splits for training and validation\n",
        "from sklearn.model_selection import train_test_split\n",
        "\n",
        "X_main_train, X_main_val, y_train, y_val = train_test_split(\n",
        "    main_data, emotion_one_hot, test_size=0.1, random_state=42)\n",
        "\n",
        "X_top_train, X_top_val, _, _ = train_test_split(\n",
        "    top_words_data, emotion_one_hot, test_size=0.1, random_state=42)\n",
        "\n",
        "# Setup EarlyStopping callback to monitor the validation loss\n",
        "# Stop training when the validation loss has not improved for 2 consecutive epochs. Add this here to for code completion sake, even though our epoc runs are low\n",
        "early_stopping = EarlyStopping(\n",
        "    monitor='val_loss',\n",
        "    patience=1,  # Number of epochs with no improvement after which training will be stopped\n",
        "    verbose=1,\n",
        "    restore_best_weights=True  # Restores model weights from the epoch with the best value of the monitored quantity.\n",
        ")\n",
        "\n",
        "# Custom callback for integrating tqdm progress bar\n",
        "class TqdmCustomCallback(TqdmCallback):\n",
        "    def __init__(self, **kwargs):\n",
        "        super().__init__(**kwargs)\n",
        "        self.use_tqdm = True\n",
        "\n",
        "# Train the model with tqdm progress bar and early stopping for monitoring\n",
        "history = model.fit(\n",
        "    [X_main_train, X_top_train], y_train,\n",
        "    validation_data=([X_main_val, X_top_val], y_val),\n",
        "    epochs=2,  # keeping this low for the sake of time but longer runs will yeld better results\n",
        "    batch_size=64,  # Batch size\n",
        "    verbose=0,  # Turn off internal Keras text logging\n",
        "    callbacks=[TqdmCustomCallback(), early_stopping]\n",
        ")\n",
        "\n",
        "# Plot the training history to evaluate training and validation progress\n",
        "import matplotlib.pyplot as plt\n",
        "\n",
        "plt.plot(history.history['accuracy'], label='Training Accuracy')\n",
        "plt.plot(history.history['val_accuracy'], label='Validation Accuracy')\n",
        "plt.title('Model Training and Validation Accuracy')\n",
        "plt.xlabel('Epoch')\n",
        "plt.ylabel('Accuracy')\n",
        "plt.legend()\n",
        "plt.show()\n"
      ],
      "metadata": {
        "colab": {
          "base_uri": "https://localhost:8080/",
          "height": 504,
          "referenced_widgets": [
            "f60ecf37cd8946bba9e7b46ae22e8abd",
            "073e7ddb7a20415f9ff6f763054dc3ad",
            "194a1d594ee64c149e1f0e7d339cddea",
            "88355f27aec3424595777afc8bc26a0f",
            "1dce20ed6188499780234b740bc82214",
            "f89ad3a9f4ac40fb8971380b2f7afd1d",
            "ae57b3290e4d46a2b9d230bf8f27983f",
            "8cde502ee7674f2b98f8a8ebd098c532",
            "27d08462b9cd4f529c2d05b5246365f1",
            "9f849fea6717486b841b7c875a9189ff",
            "cfca4bb9f6b84f98867c82f158bd4ec8",
            "ebbb805cca044ccc8ee4eee03044df1b",
            "8479db671f6f4b9897279c8f2983100e",
            "4e60224d93a04a1f8a305d7bf804d529",
            "3e55ba149b2e4ec380c240cb1a3957a3",
            "48166bd87ca844cd97fcff03d4cdcd77",
            "a5e4529fe9234893adc2046aa162b232",
            "b23fcb49072f4f2493f1ec316d0308f2",
            "fc20fe8cc16243248a85adcaaab7b728",
            "c1ae3105044b45bba4bd5e776e4f6a8e",
            "2ae74469877d4871bc1805188df9b540",
            "ee0b6533e52740529cf0368c9fffc716"
          ]
        },
        "id": "pgNcB0W7vfN3",
        "outputId": "79ab9d03-4170-4a4b-cc7a-d0b1e3911b4e"
      },
      "execution_count": 54,
      "outputs": [
        {
          "output_type": "display_data",
          "data": {
            "text/plain": [
              "0epoch [00:00, ?epoch/s]"
            ],
            "application/vnd.jupyter.widget-view+json": {
              "version_major": 2,
              "version_minor": 0,
              "model_id": "f60ecf37cd8946bba9e7b46ae22e8abd"
            }
          },
          "metadata": {}
        },
        {
          "output_type": "display_data",
          "data": {
            "text/plain": [
              "0batch [00:00, ?batch/s]"
            ],
            "application/vnd.jupyter.widget-view+json": {
              "version_major": 2,
              "version_minor": 0,
              "model_id": "ebbb805cca044ccc8ee4eee03044df1b"
            }
          },
          "metadata": {}
        },
        {
          "output_type": "display_data",
          "data": {
            "text/plain": [
              "<Figure size 640x480 with 1 Axes>"
            ],
            "image/png": "[encoded data removed]"
          },
          "metadata": {}
        }
      ]
    },
    {
      "cell_type": "code",
      "source": [
        "from sklearn.metrics import classification_report\n",
        "\n",
        "# Predict classes on the validation set\n",
        "y_val_pred = model.predict([X_main_val, X_top_val])\n",
        "y_val_pred_classes = np.argmax(y_val_pred, axis=1)\n",
        "\n",
        "# True classes\n",
        "y_true_classes = np.argmax(y_val, axis=1)\n",
        "\n",
        "# Generate and print classification report\n",
        "print(classification_report(y_true_classes, y_val_pred_classes))\n"
      ],
      "metadata": {
        "colab": {
          "base_uri": "https://localhost:8080/"
        },
        "id": "9A1Pxln1JuaI",
        "outputId": "e7e03551-29f3-4acf-e021-9d8841e8eeba"
      },
      "execution_count": 55,
      "outputs": [
        {
          "output_type": "stream",
          "name": "stdout",
          "text": [
            "4381/4381 [==============================] - 82s 19ms/step\n",
            "              precision    recall  f1-score   support\n",
            "\n",
            "           0       0.76      0.60      0.67      5175\n",
            "           1       0.81      0.57      0.67       909\n",
            "           2       0.92      0.96      0.94     90285\n",
            "           3       0.91      0.88      0.89     33141\n",
            "           4       0.75      0.65      0.70      6647\n",
            "           5       0.90      0.84      0.87      4020\n",
            "\n",
            "    accuracy                           0.90    140177\n",
            "   macro avg       0.84      0.75      0.79    140177\n",
            "weighted avg       0.90      0.90      0.90    140177\n",
            "\n"
          ]
        }
      ]
    },
    {
      "cell_type": "code",
      "source": [
        "from sklearn.metrics import confusion_matrix\n",
        "import seaborn as sns\n",
        "\n",
        "conf_matrix = confusion_matrix(y_true_classes, y_val_pred_classes)\n",
        "\n",
        "# Plot the confusion matrix\n",
        "plt.figure(figsize=(10, 8))\n",
        "sns.heatmap(conf_matrix, annot=True, fmt='d', cmap='Blues', xticklabels=label_encoder.classes_, yticklabels=label_encoder.classes_)\n",
        "plt.title('Confusion Matrix')\n",
        "plt.xlabel('Predicted Labels')\n",
        "plt.ylabel('True Labels')\n",
        "plt.show()\n"
      ],
      "metadata": {
        "colab": {
          "base_uri": "https://localhost:8080/",
          "height": 718
        },
        "id": "Kd7qfya8KJMg",
        "outputId": "70786143-d237-47e6-f433-5a58e39fbd0f"
      },
      "execution_count": 56,
      "outputs": [
        {
          "output_type": "display_data",
          "data": {
            "text/plain": [
              "<Figure size 1000x800 with 2 Axes>"
            ],
            "image/png": "[encoded data removed]"
          },
          "metadata": {}
        }
      ]
    },
    {
      "cell_type": "markdown",
      "source": [
        "## LSTM Model Performance Analysis and Evaluation\n",
        "\n",
        "### Overview\n",
        "Our model achieves a respectable overall accuracy of 90% on the validation set, demonstrating its effectiveness in sentiment analysis across various emotional categories. Keeping that we only ran 2 epocs, we feel there is considarble room for this model to improve but for the purposes of our current project we'll continue with this.\n",
        "\n",
        "### Looking at  the Confusion Matrix; Insights\n",
        "- **Dominant Performance on Joy**: With 86,270 true positives, the model is highly effective at identifying 'joy', although there are confusions with 'love' and 'sadness'.\n",
        "- **Accuracy with Love**: Correctly identified 29,191 instances, but shows cross-emotional confusion particularly with 'joy'.\n",
        "- **Challenges with Anger and Fear**: These emotions have lower true positive rates, indicating potential areas for improvement in model sensitivity and specificity.\n",
        "\n",
        "### Classification Report Overview\n",
        "- **Precision and Recall**: The model exhibits high precision in predicting 'joy' (0.92 precision) and overall strong recall for 'joy' (0.96).\n",
        "- **F1-Scores**: The F1-score is excellent for 'joy' (0.94) but lower for 'anger' (0.67) and 'fear' (0.67), suggesting imbalance in model performance across emotions. This could also be explained by the lack of lower rating in our dataset.\n",
        "\n",
        "### Strengths of the Model\n",
        "- **High Overall Accuracy**: Effective across a broad dataset, especially for 'joy' and 'love'.\n",
        "- **Robust in Recognizing Positive Emotions**: Strong capabilities in detecting positive sentiments.\n",
        "\n",
        "### Areas for Improvement and future considerations\n",
        "- **Enhancing Minority Class Recognition**: Improve detection of less frequent emotions like 'anger' and 'fear'.\n",
        "- **Feature Engineering**: Advanced techniques and more nuanced linguistic features could be explored.\n",
        "- **Adjustments in Model Architecture**: Experimenting with model complexity and architecture to better capture complex emotional cues.\n",
        "\n",
        "### Recommendations\n",
        "- **Data Augmentation for Minority Classes**: To improve detection accuracy across less frequent emotions.\n",
        "- **Advanced NLP Techniques**: Implementing models like BERT or GPT for better context understanding. We used our tinyBert model but future versions could use a more robus bert or GPT model\n",
        "- **Model Experimentation**: We could also try to Add layers or adjust dropout rates, or using ensemble methods to enhance performance.\n",
        "\n",
        "### Conclusion\n",
        "The LSTM model provides a solid foundation for sentiment analysis, particularly effective for dominant emotional expressions like 'joy' and 'love'. Our future efforts could focus on enhancing the model's ability to generalize across less dominant categories through targeted data strategies and advanced modeling techniques.\n"
      ],
      "metadata": {
        "id": "qzQSlwP9NUFC"
      }
    },
    {
      "cell_type": "code",
      "source": [
        "import numpy as np\n",
        "\n",
        "\n",
        "# Get predictions for the first three reviews\n",
        "first_three_main = main_data[:3]\n",
        "first_three_top = top_words_data[:3]\n",
        "predictions = model.predict([first_three_main, first_three_top])\n",
        "\n",
        "# Decode predictions to human-readable labels\n",
        "predicted_labels = label_encoder.inverse_transform(np.argmax(predictions, axis=1))\n",
        "\n",
        "# Display the reviews with their predicted and true emotions and ratings\n",
        "for i in range(3):\n",
        "    print(f\"Review {i+1}: {reviews_df['Review'].iloc[i]}\")\n",
        "    print(f\"Rating: {reviews_df['Rating'].iloc[i]}\")  # Display the rating\n",
        "    print(f\"Predicted Emotion: {predicted_labels[i]}\")\n",
        "    print(f\"True Emotion: {label_encoder.inverse_transform([np.argmax(y_val[i])])[0]}\")\n",
        "    print(\"------\")\n"
      ],
      "metadata": {
        "colab": {
          "base_uri": "https://localhost:8080/"
        },
        "id": "o58GkRdqLrcb",
        "outputId": "85fc9953-fdf7-445b-8474-9b68e321666e"
      },
      "execution_count": 63,
      "outputs": [
        {
          "output_type": "stream",
          "name": "stdout",
          "text": [
            "1/1 [==============================] - 0s 47ms/step\n",
            "Review 1: better than any you can get at a restaurant!\n",
            "Rating: 5\n",
            "Predicted Emotion: joy\n",
            "True Emotion: joy\n",
            "------\n",
            "Review 2: I cut back on the mayo, and made up the difference with sour cream to adjust the stiffness of the dip.\n",
            "Rating: 4\n",
            "Predicted Emotion: sadness\n",
            "True Emotion: joy\n",
            "------\n",
            "Review 3: i think i did something wrong because i could taste the cornstarch in the finished product.\n",
            "Rating: 2\n",
            "Predicted Emotion: anger\n",
            "True Emotion: love\n",
            "------\n"
          ]
        }
      ]
    },
    {
      "cell_type": "markdown",
      "source": [
        "##   Analysis of results comparing our model (LSTM) with benchmark (Transformer)\n",
        "In assessing the performance of the LSTM model compared to the initial emotional analysis provided by TinyBert, it seems like that the LSTM model can offer a more nuanced interpretation of the underlying emotional sentiments in customer reviews.\n",
        "\n",
        "This is especially evident when contrasting the predicted emotions with the provided ratings and the original annotations.\n",
        "\n",
        "### **Review 1: Consensus on High Satisfaction**\n",
        "- **Rating**: 5\n",
        "- **Predicted Emotion**: Joy\n",
        "- **True Emotion (TinyBert)**: Joy\n",
        "- **Analysis**:\n",
        "  Both models agree on the emotion \"joy,\" which aligns perfectly with the high rating. This agreement indicates that both the LSTM and TinyBert are reliable when feedback is explicitly positive.\n",
        "\n",
        "### **Review 2: Detecting Subtle Emotional Nuances**\n",
        "- **Rating**: 4\n",
        "- **Predicted Emotion**: Sadness\n",
        "- **True Emotion (TinyBert)**: Joy\n",
        "- **Analysis**:\n",
        "  Despite the high rating, the LSTM model detects \"sadness.\" This might reflect subtle dissatisfaction or unmet expectations, suggesting that the LSTM’s nuanced detection capabilities offer a deeper insight into customer sentiments than TinyBert.\n",
        "\n",
        "### **Review 3: Correcting Misclassification by TinyBert**\n",
        "- **Rating**: 2\n",
        "- **Predicted Emotion**: Anger\n",
        "- **True Emotion (TinyBert)**: Love\n",
        "- **Analysis**:\n",
        "  The LSTM model’s prediction of \"anger\" aligns more accurately with the content of the review and the low rating, contrasting sharply with the \"love\" emotion labeled by TinyBert. This demonstrates the LSTM's superior ability to interpret complex emotional expressions accurately.\n",
        "\n",
        "## Business Impact and Strategic Implementation\n",
        "\n",
        "### **Marketing Teams:**\n",
        "- **Enhanced Emotional Targeting**:\n",
        "  By understanding the detailed emotions behind each review, marketing can tailor campaigns to resonate more deeply, especially by differentiating top-rated experiences based on their emotional context.\n",
        "- **Refined Customer Engagement**:\n",
        "  Using nuanced emotional insights allows for personalized marketing strategies that can transform standard interactions into memorable experiences, fostering greater customer loyalty.\n",
        "\n",
        "### **Recipe Development Teams:**\n",
        "- **Detailed Recipe Optimization**:\n",
        "  Emotional feedback from the LSTM model, especially when it reveals underlying dissatisfaction in high-rated reviews, provides actionable insights for recipe adjustments.\n",
        "- **Segmentation of Top Ratings**:\n",
        "  Differentiating high-rated recipes based on their emotional impact—identifying which evoke genuine joy versus those mixed with other emotions—can guide more focused enhancements.\n",
        "\n",
        "### **LSTM Conclusion**\n",
        "\n",
        "The LSTM model’s advanced emotion analysis not only elevates the accuracy of sentiment assessments but also enriches the understanding of customer feedback beyond simple numerical ratings. This capability is crucial for marketing and recipe development teams aiming to ensure that high ratings truly reflect positive customer experiences. Regularly integrating this emotional analysis into business strategies will empower the teams to act on precise, emotionally informed insights, thereby enhancing overall customer satisfaction and driving business growth.\n"
      ],
      "metadata": {
        "id": "9SvFM_bpVdI9"
      }
    },
    {
      "cell_type": "markdown",
      "source": [
        "## Comprehensive Project Evaluation and Conclusions\n",
        "\n",
        "This project aimed to enhance customer satisfaction and product development through advanced natural language processing techniques for fine-grained sentiment analysis of recipe reviews. By utilizing both traditional machine learning and deep learning models, we sought to capture a nuanced understanding of customer emotions, which traditional rating systems often overlook.\n",
        "\n",
        "### Achievements and Model Evaluations\n",
        "\n",
        "#### **Logistic Regression Model:**\n",
        "- **Purpose**: Served as a baseline to quickly and interpretably classify reviews into basic sentiment categories.\n",
        "- **Achievements**:\n",
        "  - Developed and utilized features such as Sentiment Scores, Word Count, and Sentiment Word Count Interaction.\n",
        "  - Identified \\(C = 1\\) as the optimal regularization strength, achieving a balance between model complexity and performance.\n",
        "  - Implemented class weights to address significant class imbalance, enhancing predictive accuracy across less frequent sentiment classes.\n",
        "- **Performance**:\n",
        "  - **Accuracy**: Achieved a testing accuracy of approximately 56%, reflecting robustness despite dataset complexity.\n",
        "  - **Precision and Recall**: Enhanced model balance, especially in minority classes, through careful tuning of class weights.\n",
        "  - **F1-Score**: Reported a weighted average F1-score of around 58.1%, indicating a fair balance between precision and recall.\n",
        "\n",
        "#### **LSTM Model:**\n",
        "- **Purpose**: Extracted and predicted nuanced emotional states from the sequential and contextual nature of text.\n",
        "- **Achievements**:\n",
        "  - Integrated advanced features like Lemmatized Review text and Emotion Labels from TinyBERT.\n",
        "  - Corrected several misclassifications observed with the TinyBert, demonstrating enhanced emotional interpretation.\n",
        "- **Performance**:\n",
        "  - **Accuracy**: Demonstrated superior capability, with accurate prediction alignment to the context of reviews.\n",
        "  - **Detailed Analysis**: Provided in-depth insights into the emotional states of customers, significantly enriching the sentiment analysis.\n",
        "\n",
        "### Key Business Impacts and Strategic Recommendations\n",
        "\n",
        "Given the project's success in achieving detailed sentiment analysis, there are several strategic applications for the marketing and recipe development teams, especially considering the predominance of positive reviews:\n",
        "\n",
        "- **Marketing and Customer Engagement**:\n",
        "  - **Targeted Emotional Marketing**: Both models' insights allow for nuanced marketing strategies that can differentiate between subtly different positive sentiments. Currently due the limitation of tny bert we've only catogrised joy and love from the postive spectrum but we feel like with a larger model we can dervice even more nuanced emotions like  'warm and happy' vs. 'excited and happy'\n",
        "  - **Customer Retention**: By addressing even the minor negative sentiments detected within positive reviews, marketing strategies can become more proactive in maintaining high customer satisfaction.\n",
        "\n",
        "- **Recipe Optimization and Development**:\n",
        "  - **Emotion-Driven Recipe Adjustments**: Utilize detailed emotional feedback to refine recipes, ensuring that they not only achieve high ratings but also resonate emotionally with customers.\n",
        "  - **Segmentation of Top Ratings**: Distinguish between recipes that are rated highly but evoke different emotional responses, allowing for targeted improvements that could elevate a 'satisfactory' recipe to 'delightful'.\n",
        "\n",
        "### Conclusive Summary\n",
        "\n",
        "The dual-model approach has proven effective in providing both broad and deep insights into customer sentiments. The Logistic Regression model offers rapid assessments suitable for immediate applications, while the LSTM model provides depth, ideal for strategic decisions. We recognise that our data set was higly skeued wiht more postive comments but the ability to distiguce faster and more indepth insghts from two diffrent 5's is a core benfit of the models we developed.\n",
        "\n",
        "#### Future Directions:\n",
        "- **Enhanced Analytical Techniques**: Further explore advanced models and ensemble methods to improve accuracy and depth of sentiment analysis.\n",
        "- **Continuous Learning and Adaptation**: Establish ongoing training protocols to adapt models to new data and evolving customer feedback.\n",
        "- **Automated Integration**: Develop automated systems to integrate sentiment analysis directly into marketing and product development workflows, enabling real-time strategic adjustments.\n",
        "\n",
        "### Final Thoughts\n",
        "\n",
        "Our approach has demonstrated significant potential to transform the way customer feedback is interpreted and utilized in the culinary business. By continuously refining and integrating these models into everyday business processes, we can leverage the full potential of sentiment analysis to enhance customer relations and product quality, particularly by drawing richer insights from the wealth of positive reviews.\n"
      ],
      "metadata": {
        "id": "s6ZJlg41V42v"
      }
    },
    {
      "cell_type": "code",
      "execution_count": 64,
      "metadata": {
        "colab": {
          "base_uri": "https://localhost:8080/",
          "height": 49,
          "referenced_widgets": [
            "2b2b65e64cf541df95f9a025ea6ba585",
            "a55e6f707d4f4cb58b8daeb8f8f08a97",
            "ef59fd657c2b4b64a172747fc5cae506",
            "707263cd30ac4e47980781b735efc8bf",
            "9f3248f33e264c399b4283cc51299416",
            "bbd3924b6e4946d5b44271fb9df01cf2",
            "3f502cd46393414b99f593130f50f1bc",
            "e3483ffc984a49f491bb742a24d586dc"
          ]
        },
        "id": "UK0ShHzQnxYd",
        "outputId": "32abc5ca-8ae9-42ab-b38f-2f8746735e67"
      },
      "outputs": [
        {
          "output_type": "display_data",
          "data": {
            "text/plain": [
              "HBox(children=(Button(description='⬇️ Download PDF', style=ButtonStyle()), Label(value='')))"
            ],
            "application/vnd.jupyter.widget-view+json": {
              "version_major": 2,
              "version_minor": 0,
              "model_id": "2b2b65e64cf541df95f9a025ea6ba585"
            }
          },
          "metadata": {}
        },
        {
          "output_type": "display_data",
          "data": {
            "text/plain": [
              "<IPython.core.display.Javascript object>"
            ],
            "application/javascript": [
              "document.currentScript.parentElement.closest(\".output_subarea\").querySelector(\"#output-footer > input\").remove();"
            ]
          },
          "metadata": {}
        }
      ],
      "source": [
        "def colab2pdf():\n",
        "    # Colab2PDF by Drengskapur (https://github.com/drengskapur/colab2pdf)\n",
        "    # @title Convert Colab Notebook to PDF {display-mode:'form'}\n",
        "    # VERSION 1.3\n",
        "    # LICENSE: GPL-3.0-or-later\n",
        "    !apt-get install -yqq --no-install-recommends librsvg2-bin>/dev/null\n",
        "    import contextlib,datetime,google,io,IPython,ipywidgets,json,locale,nbformat,os,pathlib,requests,urllib,warnings,werkzeug,yaml;locale.setlocale(locale.LC_ALL,'en_US.UTF-8')\n",
        "    def convert(b):\n",
        "        try:\n",
        "            s.value='⚙️ Converting...';b.disabled=True;get_ipython().events.register('post_execute',lambda:IPython.display.display(IPython.display.Javascript('document.querySelectorAll(\"#output-footer\").forEach(footer=>footer.remove());')))\n",
        "            n=pathlib.Path(werkzeug.utils.secure_filename(urllib.parse.unquote(requests.get(f'http://{os.environ[\"COLAB_JUPYTER_IP\"]}:{os.environ[\"KMP_TARGET_PORT\"]}/api/sessions').json()[0]['name'])))\n",
        "            p=pathlib.Path('/content/pdfs')/f'{datetime.datetime.now().strftime(\"%Y%m%d_%H%M%S\")}_{n.stem}';p.mkdir(parents=True,exist_ok=True);warnings.filterwarnings('ignore',category=nbformat.validator.MissingIDFieldWarning)\n",
        "            nb=[cell for cell in nbformat.reads(json.dumps(google.colab._message.blocking_request('get_ipynb',timeout_sec=600)['ipynb']),as_version=4).cells if '--Colab2PDF' not in cell.source]\n",
        "            with (p/f'{n.stem}.ipynb').open('w',encoding='utf-8') as cp:nbformat.write(nbformat.v4.new_notebook(cells=nb or [nbformat.v4.new_code_cell('#')]),cp)\n",
        "            with (p/'config.yml').open('w',encoding='utf-8') as f:yaml.dump({'include-in-header':[{'text':r'\\usepackage{fvextra}\\DefineVerbatimEnvironment{Highlighting}{Verbatim}{breaksymbolleft={},showspaces=false,showtabs=false,breaklines,breakanywhere,commandchars=\\\\\\{\\}}'}],'include-before-body':[{'text':r'\\DefineVerbatimEnvironment{verbatim}{Verbatim}{breaksymbolleft={},showspaces=false,showtabs=false,breaklines}'}]},f)\n",
        "            !quarto render {p}/{n.stem}.ipynb --metadata-file={p}/config.yml --to pdf -M latex-auto-install -M margin-top=1in -M margin-bottom=1in -M margin-left=1in -M margin-right=1in --quiet\n",
        "            google.colab.files.download(str(p/f'{n.stem}.pdf'));s.value=f'🎉 Downloaded {n.stem}.pdf'\n",
        "        except Exception as e:\n",
        "            s.value=f'⚠️ ERROR {str(e)}'\n",
        "        finally:\n",
        "            b.disabled=False\n",
        "    if not pathlib.Path('/usr/local/bin/quarto').exists():\n",
        "        !wget -q 'https://quarto.org/download/latest/quarto-linux-amd64.deb' -P {p} && dpkg -i {p}/quarto-linux-amd64.deb>/dev/null && quarto install tinytex --update-path --quiet\n",
        "    b=ipywidgets.widgets.Button(description='⬇️ Download PDF');s=ipywidgets.widgets.Label();b.on_click(lambda b:convert(b));IPython.display.display(ipywidgets.widgets.HBox([b,s]))\n",
        "    IPython.display.display(IPython.display.Javascript('document.currentScript.parentElement.closest(\".output_subarea\").querySelector(\"#output-footer > input\").remove();'))\n",
        "colab2pdf()"
      ]
    }
  ],
  "metadata": {
    "accelerator": "GPU",
    "colab": {
      "gpuType": "A100",
      "machine_shape": "hm",
      "provenance": []
    },
    "kernelspec": {
      "display_name": "Python 3",
      "name": "python3"
    },
    "language_info": {
      "name": "python"
    },
    "widgets": {
      "application/vnd.jupyter.widget-state+json": {
        "f7cd72428d574f85a63e5de50c688a81": {
          "model_module": "@jupyter-widgets/controls",
          "model_name": "HBoxModel",
          "model_module_version": "1.5.0",
          "state": {
            "_dom_classes": [],
            "_model_module": "@jupyter-widgets/controls",
            "_model_module_version": "1.5.0",
            "_model_name": "HBoxModel",
            "_view_count": null,
            "_view_module": "@jupyter-widgets/controls",
            "_view_module_version": "1.5.0",
            "_view_name": "HBoxView",
            "box_style": "",
            "children": [
              "IPY_MODEL_42fdab5ce308489494cbc3a3e4ebb8f0",
              "IPY_MODEL_fce02a6302f14c448f04f78d77605459",
              "IPY_MODEL_c035ead296084338a9a603765de32548"
            ],
            "layout": "IPY_MODEL_d80911a126314fdd887a30705b3a0ff1"
          }
        },
        "42fdab5ce308489494cbc3a3e4ebb8f0": {
          "model_module": "@jupyter-widgets/controls",
          "model_name": "HTMLModel",
          "model_module_version": "1.5.0",
          "state": {
            "_dom_classes": [],
            "_model_module": "@jupyter-widgets/controls",
            "_model_module_version": "1.5.0",
            "_model_name": "HTMLModel",
            "_view_count": null,
            "_view_module": "@jupyter-widgets/controls",
            "_view_module_version": "1.5.0",
            "_view_name": "HTMLView",
            "description": "",
            "description_tooltip": null,
            "layout": "IPY_MODEL_15d81a0c56ed4979aa90a5ff369bd053",
            "placeholder": "​",
            "style": "IPY_MODEL_27cec1a5e9ec46a1af7bff1a2a0de844",
            "value": "Lemmatizing reviews: 100%"
          }
        },
        "fce02a6302f14c448f04f78d77605459": {
          "model_module": "@jupyter-widgets/controls",
          "model_name": "FloatProgressModel",
          "model_module_version": "1.5.0",
          "state": {
            "_dom_classes": [],
            "_model_module": "@jupyter-widgets/controls",
            "_model_module_version": "1.5.0",
            "_model_name": "FloatProgressModel",
            "_view_count": null,
            "_view_module": "@jupyter-widgets/controls",
            "_view_module_version": "1.5.0",
            "_view_name": "ProgressView",
            "bar_style": "success",
            "description": "",
            "description_tooltip": null,
            "layout": "IPY_MODEL_311db6415e5249928b71d53127ba06f6",
            "max": 1401768,
            "min": 0,
            "orientation": "horizontal",
            "style": "IPY_MODEL_923491fb6f3346a29003c12e2fca6647",
            "value": 1401768
          }
        },
        "c035ead296084338a9a603765de32548": {
          "model_module": "@jupyter-widgets/controls",
          "model_name": "HTMLModel",
          "model_module_version": "1.5.0",
          "state": {
            "_dom_classes": [],
            "_model_module": "@jupyter-widgets/controls",
            "_model_module_version": "1.5.0",
            "_model_name": "HTMLModel",
            "_view_count": null,
            "_view_module": "@jupyter-widgets/controls",
            "_view_module_version": "1.5.0",
            "_view_name": "HTMLView",
            "description": "",
            "description_tooltip": null,
            "layout": "IPY_MODEL_6a724eb9609b4a4899e3b3a0e0308719",
            "placeholder": "​",
            "style": "IPY_MODEL_ac8ef221612145e0b6f839a6a97f559d",
            "value": " 1401768/1401768 [02:10&lt;00:00, 11846.33it/s]"
          }
        },
        "d80911a126314fdd887a30705b3a0ff1": {
          "model_module": "@jupyter-widgets/base",
          "model_name": "LayoutModel",
          "model_module_version": "1.2.0",
          "state": {
            "_model_module": "@jupyter-widgets/base",
            "_model_module_version": "1.2.0",
            "_model_name": "LayoutModel",
            "_view_count": null,
            "_view_module": "@jupyter-widgets/base",
            "_view_module_version": "1.2.0",
            "_view_name": "LayoutView",
            "align_content": null,
            "align_items": null,
            "align_self": null,
            "border": null,
            "bottom": null,
            "display": null,
            "flex": null,
            "flex_flow": null,
            "grid_area": null,
            "grid_auto_columns": null,
            "grid_auto_flow": null,
            "grid_auto_rows": null,
            "grid_column": null,
            "grid_gap": null,
            "grid_row": null,
            "grid_template_areas": null,
            "grid_template_columns": null,
            "grid_template_rows": null,
            "height": null,
            "justify_content": null,
            "justify_items": null,
            "left": null,
            "margin": null,
            "max_height": null,
            "max_width": null,
            "min_height": null,
            "min_width": null,
            "object_fit": null,
            "object_position": null,
            "order": null,
            "overflow": null,
            "overflow_x": null,
            "overflow_y": null,
            "padding": null,
            "right": null,
            "top": null,
            "visibility": null,
            "width": null
          }
        },
        "15d81a0c56ed4979aa90a5ff369bd053": {
          "model_module": "@jupyter-widgets/base",
          "model_name": "LayoutModel",
          "model_module_version": "1.2.0",
          "state": {
            "_model_module": "@jupyter-widgets/base",
            "_model_module_version": "1.2.0",
            "_model_name": "LayoutModel",
            "_view_count": null,
            "_view_module": "@jupyter-widgets/base",
            "_view_module_version": "1.2.0",
            "_view_name": "LayoutView",
            "align_content": null,
            "align_items": null,
            "align_self": null,
            "border": null,
            "bottom": null,
            "display": null,
            "flex": null,
            "flex_flow": null,
            "grid_area": null,
            "grid_auto_columns": null,
            "grid_auto_flow": null,
            "grid_auto_rows": null,
            "grid_column": null,
            "grid_gap": null,
            "grid_row": null,
            "grid_template_areas": null,
            "grid_template_columns": null,
            "grid_template_rows": null,
            "height": null,
            "justify_content": null,
            "justify_items": null,
            "left": null,
            "margin": null,
            "max_height": null,
            "max_width": null,
            "min_height": null,
            "min_width": null,
            "object_fit": null,
            "object_position": null,
            "order": null,
            "overflow": null,
            "overflow_x": null,
            "overflow_y": null,
            "padding": null,
            "right": null,
            "top": null,
            "visibility": null,
            "width": null
          }
        },
        "27cec1a5e9ec46a1af7bff1a2a0de844": {
          "model_module": "@jupyter-widgets/controls",
          "model_name": "DescriptionStyleModel",
          "model_module_version": "1.5.0",
          "state": {
            "_model_module": "@jupyter-widgets/controls",
            "_model_module_version": "1.5.0",
            "_model_name": "DescriptionStyleModel",
            "_view_count": null,
            "_view_module": "@jupyter-widgets/base",
            "_view_module_version": "1.2.0",
            "_view_name": "StyleView",
            "description_width": ""
          }
        },
        "311db6415e5249928b71d53127ba06f6": {
          "model_module": "@jupyter-widgets/base",
          "model_name": "LayoutModel",
          "model_module_version": "1.2.0",
          "state": {
            "_model_module": "@jupyter-widgets/base",
            "_model_module_version": "1.2.0",
            "_model_name": "LayoutModel",
            "_view_count": null,
            "_view_module": "@jupyter-widgets/base",
            "_view_module_version": "1.2.0",
            "_view_name": "LayoutView",
            "align_content": null,
            "align_items": null,
            "align_self": null,
            "border": null,
            "bottom": null,
            "display": null,
            "flex": null,
            "flex_flow": null,
            "grid_area": null,
            "grid_auto_columns": null,
            "grid_auto_flow": null,
            "grid_auto_rows": null,
            "grid_column": null,
            "grid_gap": null,
            "grid_row": null,
            "grid_template_areas": null,
            "grid_template_columns": null,
            "grid_template_rows": null,
            "height": null,
            "justify_content": null,
            "justify_items": null,
            "left": null,
            "margin": null,
            "max_height": null,
            "max_width": null,
            "min_height": null,
            "min_width": null,
            "object_fit": null,
            "object_position": null,
            "order": null,
            "overflow": null,
            "overflow_x": null,
            "overflow_y": null,
            "padding": null,
            "right": null,
            "top": null,
            "visibility": null,
            "width": null
          }
        },
        "923491fb6f3346a29003c12e2fca6647": {
          "model_module": "@jupyter-widgets/controls",
          "model_name": "ProgressStyleModel",
          "model_module_version": "1.5.0",
          "state": {
            "_model_module": "@jupyter-widgets/controls",
            "_model_module_version": "1.5.0",
            "_model_name": "ProgressStyleModel",
            "_view_count": null,
            "_view_module": "@jupyter-widgets/base",
            "_view_module_version": "1.2.0",
            "_view_name": "StyleView",
            "bar_color": null,
            "description_width": ""
          }
        },
        "6a724eb9609b4a4899e3b3a0e0308719": {
          "model_module": "@jupyter-widgets/base",
          "model_name": "LayoutModel",
          "model_module_version": "1.2.0",
          "state": {
            "_model_module": "@jupyter-widgets/base",
            "_model_module_version": "1.2.0",
            "_model_name": "LayoutModel",
            "_view_count": null,
            "_view_module": "@jupyter-widgets/base",
            "_view_module_version": "1.2.0",
            "_view_name": "LayoutView",
            "align_content": null,
            "align_items": null,
            "align_self": null,
            "border": null,
            "bottom": null,
            "display": null,
            "flex": null,
            "flex_flow": null,
            "grid_area": null,
            "grid_auto_columns": null,
            "grid_auto_flow": null,
            "grid_auto_rows": null,
            "grid_column": null,
            "grid_gap": null,
            "grid_row": null,
            "grid_template_areas": null,
            "grid_template_columns": null,
            "grid_template_rows": null,
            "height": null,
            "justify_content": null,
            "justify_items": null,
            "left": null,
            "margin": null,
            "max_height": null,
            "max_width": null,
            "min_height": null,
            "min_width": null,
            "object_fit": null,
            "object_position": null,
            "order": null,
            "overflow": null,
            "overflow_x": null,
            "overflow_y": null,
            "padding": null,
            "right": null,
            "top": null,
            "visibility": null,
            "width": null
          }
        },
        "ac8ef221612145e0b6f839a6a97f559d": {
          "model_module": "@jupyter-widgets/controls",
          "model_name": "DescriptionStyleModel",
          "model_module_version": "1.5.0",
          "state": {
            "_model_module": "@jupyter-widgets/controls",
            "_model_module_version": "1.5.0",
            "_model_name": "DescriptionStyleModel",
            "_view_count": null,
            "_view_module": "@jupyter-widgets/base",
            "_view_module_version": "1.2.0",
            "_view_name": "StyleView",
            "description_width": ""
          }
        },
        "84e9994ce8fd4864a8c677509ed40415": {
          "model_module": "@jupyter-widgets/controls",
          "model_name": "HBoxModel",
          "model_module_version": "1.5.0",
          "state": {
            "_dom_classes": [],
            "_model_module": "@jupyter-widgets/controls",
            "_model_module_version": "1.5.0",
            "_model_name": "HBoxModel",
            "_view_count": null,
            "_view_module": "@jupyter-widgets/controls",
            "_view_module_version": "1.5.0",
            "_view_name": "HBoxView",
            "box_style": "",
            "children": [
              "IPY_MODEL_4f96638ae4d84150af10a83a7fa3b4c0",
              "IPY_MODEL_490530656af5429e8bc7e9ab9930223e",
              "IPY_MODEL_4bc98a6350ca4758973bee4c87944d8e"
            ],
            "layout": "IPY_MODEL_aea1738471384758948bcb63aad57b7c"
          }
        },
        "4f96638ae4d84150af10a83a7fa3b4c0": {
          "model_module": "@jupyter-widgets/controls",
          "model_name": "HTMLModel",
          "model_module_version": "1.5.0",
          "state": {
            "_dom_classes": [],
            "_model_module": "@jupyter-widgets/controls",
            "_model_module_version": "1.5.0",
            "_model_name": "HTMLModel",
            "_view_count": null,
            "_view_module": "@jupyter-widgets/controls",
            "_view_module_version": "1.5.0",
            "_view_name": "HTMLView",
            "description": "",
            "description_tooltip": null,
            "layout": "IPY_MODEL_c223ad1b0be14edbbcb76f331907fc19",
            "placeholder": "​",
            "style": "IPY_MODEL_b759a5424f474ec4a3100a5d0f15c67d",
            "value": "config.json: 100%"
          }
        },
        "490530656af5429e8bc7e9ab9930223e": {
          "model_module": "@jupyter-widgets/controls",
          "model_name": "FloatProgressModel",
          "model_module_version": "1.5.0",
          "state": {
            "_dom_classes": [],
            "_model_module": "@jupyter-widgets/controls",
            "_model_module_version": "1.5.0",
            "_model_name": "FloatProgressModel",
            "_view_count": null,
            "_view_module": "@jupyter-widgets/controls",
            "_view_module_version": "1.5.0",
            "_view_name": "ProgressView",
            "bar_style": "success",
            "description": "",
            "description_tooltip": null,
            "layout": "IPY_MODEL_0f58c47b813d4943aaf7d7f596d07a66",
            "max": 888,
            "min": 0,
            "orientation": "horizontal",
            "style": "IPY_MODEL_cd2e9cb22b2c433daa6b3d3aaa7de33b",
            "value": 888
          }
        },
        "4bc98a6350ca4758973bee4c87944d8e": {
          "model_module": "@jupyter-widgets/controls",
          "model_name": "HTMLModel",
          "model_module_version": "1.5.0",
          "state": {
            "_dom_classes": [],
            "_model_module": "@jupyter-widgets/controls",
            "_model_module_version": "1.5.0",
            "_model_name": "HTMLModel",
            "_view_count": null,
            "_view_module": "@jupyter-widgets/controls",
            "_view_module_version": "1.5.0",
            "_view_name": "HTMLView",
            "description": "",
            "description_tooltip": null,
            "layout": "IPY_MODEL_d777b7db932d4e4d9702b5162274a9c9",
            "placeholder": "​",
            "style": "IPY_MODEL_7539efc8c8ad4e60a7688496583f539a",
            "value": " 888/888 [00:00&lt;00:00, 76.9kB/s]"
          }
        },
        "aea1738471384758948bcb63aad57b7c": {
          "model_module": "@jupyter-widgets/base",
          "model_name": "LayoutModel",
          "model_module_version": "1.2.0",
          "state": {
            "_model_module": "@jupyter-widgets/base",
            "_model_module_version": "1.2.0",
            "_model_name": "LayoutModel",
            "_view_count": null,
            "_view_module": "@jupyter-widgets/base",
            "_view_module_version": "1.2.0",
            "_view_name": "LayoutView",
            "align_content": null,
            "align_items": null,
            "align_self": null,
            "border": null,
            "bottom": null,
            "display": null,
            "flex": null,
            "flex_flow": null,
            "grid_area": null,
            "grid_auto_columns": null,
            "grid_auto_flow": null,
            "grid_auto_rows": null,
            "grid_column": null,
            "grid_gap": null,
            "grid_row": null,
            "grid_template_areas": null,
            "grid_template_columns": null,
            "grid_template_rows": null,
            "height": null,
            "justify_content": null,
            "justify_items": null,
            "left": null,
            "margin": null,
            "max_height": null,
            "max_width": null,
            "min_height": null,
            "min_width": null,
            "object_fit": null,
            "object_position": null,
            "order": null,
            "overflow": null,
            "overflow_x": null,
            "overflow_y": null,
            "padding": null,
            "right": null,
            "top": null,
            "visibility": null,
            "width": null
          }
        },
        "c223ad1b0be14edbbcb76f331907fc19": {
          "model_module": "@jupyter-widgets/base",
          "model_name": "LayoutModel",
          "model_module_version": "1.2.0",
          "state": {
            "_model_module": "@jupyter-widgets/base",
            "_model_module_version": "1.2.0",
            "_model_name": "LayoutModel",
            "_view_count": null,
            "_view_module": "@jupyter-widgets/base",
            "_view_module_version": "1.2.0",
            "_view_name": "LayoutView",
            "align_content": null,
            "align_items": null,
            "align_self": null,
            "border": null,
            "bottom": null,
            "display": null,
            "flex": null,
            "flex_flow": null,
            "grid_area": null,
            "grid_auto_columns": null,
            "grid_auto_flow": null,
            "grid_auto_rows": null,
            "grid_column": null,
            "grid_gap": null,
            "grid_row": null,
            "grid_template_areas": null,
            "grid_template_columns": null,
            "grid_template_rows": null,
            "height": null,
            "justify_content": null,
            "justify_items": null,
            "left": null,
            "margin": null,
            "max_height": null,
            "max_width": null,
            "min_height": null,
            "min_width": null,
            "object_fit": null,
            "object_position": null,
            "order": null,
            "overflow": null,
            "overflow_x": null,
            "overflow_y": null,
            "padding": null,
            "right": null,
            "top": null,
            "visibility": null,
            "width": null
          }
        },
        "b759a5424f474ec4a3100a5d0f15c67d": {
          "model_module": "@jupyter-widgets/controls",
          "model_name": "DescriptionStyleModel",
          "model_module_version": "1.5.0",
          "state": {
            "_model_module": "@jupyter-widgets/controls",
            "_model_module_version": "1.5.0",
            "_model_name": "DescriptionStyleModel",
            "_view_count": null,
            "_view_module": "@jupyter-widgets/base",
            "_view_module_version": "1.2.0",
            "_view_name": "StyleView",
            "description_width": ""
          }
        },
        "0f58c47b813d4943aaf7d7f596d07a66": {
          "model_module": "@jupyter-widgets/base",
          "model_name": "LayoutModel",
          "model_module_version": "1.2.0",
          "state": {
            "_model_module": "@jupyter-widgets/base",
            "_model_module_version": "1.2.0",
            "_model_name": "LayoutModel",
            "_view_count": null,
            "_view_module": "@jupyter-widgets/base",
            "_view_module_version": "1.2.0",
            "_view_name": "LayoutView",
            "align_content": null,
            "align_items": null,
            "align_self": null,
            "border": null,
            "bottom": null,
            "display": null,
            "flex": null,
            "flex_flow": null,
            "grid_area": null,
            "grid_auto_columns": null,
            "grid_auto_flow": null,
            "grid_auto_rows": null,
            "grid_column": null,
            "grid_gap": null,
            "grid_row": null,
            "grid_template_areas": null,
            "grid_template_columns": null,
            "grid_template_rows": null,
            "height": null,
            "justify_content": null,
            "justify_items": null,
            "left": null,
            "margin": null,
            "max_height": null,
            "max_width": null,
            "min_height": null,
            "min_width": null,
            "object_fit": null,
            "object_position": null,
            "order": null,
            "overflow": null,
            "overflow_x": null,
            "overflow_y": null,
            "padding": null,
            "right": null,
            "top": null,
            "visibility": null,
            "width": null
          }
        },
        "cd2e9cb22b2c433daa6b3d3aaa7de33b": {
          "model_module": "@jupyter-widgets/controls",
          "model_name": "ProgressStyleModel",
          "model_module_version": "1.5.0",
          "state": {
            "_model_module": "@jupyter-widgets/controls",
            "_model_module_version": "1.5.0",
            "_model_name": "ProgressStyleModel",
            "_view_count": null,
            "_view_module": "@jupyter-widgets/base",
            "_view_module_version": "1.2.0",
            "_view_name": "StyleView",
            "bar_color": null,
            "description_width": ""
          }
        },
        "d777b7db932d4e4d9702b5162274a9c9": {
          "model_module": "@jupyter-widgets/base",
          "model_name": "LayoutModel",
          "model_module_version": "1.2.0",
          "state": {
            "_model_module": "@jupyter-widgets/base",
            "_model_module_version": "1.2.0",
            "_model_name": "LayoutModel",
            "_view_count": null,
            "_view_module": "@jupyter-widgets/base",
            "_view_module_version": "1.2.0",
            "_view_name": "LayoutView",
            "align_content": null,
            "align_items": null,
            "align_self": null,
            "border": null,
            "bottom": null,
            "display": null,
            "flex": null,
            "flex_flow": null,
            "grid_area": null,
            "grid_auto_columns": null,
            "grid_auto_flow": null,
            "grid_auto_rows": null,
            "grid_column": null,
            "grid_gap": null,
            "grid_row": null,
            "grid_template_areas": null,
            "grid_template_columns": null,
            "grid_template_rows": null,
            "height": null,
            "justify_content": null,
            "justify_items": null,
            "left": null,
            "margin": null,
            "max_height": null,
            "max_width": null,
            "min_height": null,
            "min_width": null,
            "object_fit": null,
            "object_position": null,
            "order": null,
            "overflow": null,
            "overflow_x": null,
            "overflow_y": null,
            "padding": null,
            "right": null,
            "top": null,
            "visibility": null,
            "width": null
          }
        },
        "7539efc8c8ad4e60a7688496583f539a": {
          "model_module": "@jupyter-widgets/controls",
          "model_name": "DescriptionStyleModel",
          "model_module_version": "1.5.0",
          "state": {
            "_model_module": "@jupyter-widgets/controls",
            "_model_module_version": "1.5.0",
            "_model_name": "DescriptionStyleModel",
            "_view_count": null,
            "_view_module": "@jupyter-widgets/base",
            "_view_module_version": "1.2.0",
            "_view_name": "StyleView",
            "description_width": ""
          }
        },
        "03473c26a6a54556951497670d32a328": {
          "model_module": "@jupyter-widgets/controls",
          "model_name": "HBoxModel",
          "model_module_version": "1.5.0",
          "state": {
            "_dom_classes": [],
            "_model_module": "@jupyter-widgets/controls",
            "_model_module_version": "1.5.0",
            "_model_name": "HBoxModel",
            "_view_count": null,
            "_view_module": "@jupyter-widgets/controls",
            "_view_module_version": "1.5.0",
            "_view_name": "HBoxView",
            "box_style": "",
            "children": [
              "IPY_MODEL_25602dcb42ff4225b7051738da6bfc9c",
              "IPY_MODEL_45e5d16420b84d1588b07a1775c580c4",
              "IPY_MODEL_7686b6b5dad24e52bd0b408dc405b4f3"
            ],
            "layout": "IPY_MODEL_fdb1d17e3326459f9a3236d7136db417"
          }
        },
        "25602dcb42ff4225b7051738da6bfc9c": {
          "model_module": "@jupyter-widgets/controls",
          "model_name": "HTMLModel",
          "model_module_version": "1.5.0",
          "state": {
            "_dom_classes": [],
            "_model_module": "@jupyter-widgets/controls",
            "_model_module_version": "1.5.0",
            "_model_name": "HTMLModel",
            "_view_count": null,
            "_view_module": "@jupyter-widgets/controls",
            "_view_module_version": "1.5.0",
            "_view_name": "HTMLView",
            "description": "",
            "description_tooltip": null,
            "layout": "IPY_MODEL_dc1f7286df984dabb80f981470f0ec8b",
            "placeholder": "​",
            "style": "IPY_MODEL_0323f216c7a94a08b1e7b387d10a25ae",
            "value": "pytorch_model.bin: 100%"
          }
        },
        "45e5d16420b84d1588b07a1775c580c4": {
          "model_module": "@jupyter-widgets/controls",
          "model_name": "FloatProgressModel",
          "model_module_version": "1.5.0",
          "state": {
            "_dom_classes": [],
            "_model_module": "@jupyter-widgets/controls",
            "_model_module_version": "1.5.0",
            "_model_name": "FloatProgressModel",
            "_view_count": null,
            "_view_module": "@jupyter-widgets/controls",
            "_view_module_version": "1.5.0",
            "_view_name": "ProgressView",
            "bar_style": "success",
            "description": "",
            "description_tooltip": null,
            "layout": "IPY_MODEL_48440dd2c9b54058992aa855045fd44f",
            "max": 17559660,
            "min": 0,
            "orientation": "horizontal",
            "style": "IPY_MODEL_41d281e76ab547909470248a560c17e3",
            "value": 17559660
          }
        },
        "7686b6b5dad24e52bd0b408dc405b4f3": {
          "model_module": "@jupyter-widgets/controls",
          "model_name": "HTMLModel",
          "model_module_version": "1.5.0",
          "state": {
            "_dom_classes": [],
            "_model_module": "@jupyter-widgets/controls",
            "_model_module_version": "1.5.0",
            "_model_name": "HTMLModel",
            "_view_count": null,
            "_view_module": "@jupyter-widgets/controls",
            "_view_module_version": "1.5.0",
            "_view_name": "HTMLView",
            "description": "",
            "description_tooltip": null,
            "layout": "IPY_MODEL_af559502a2954154842243ced639e2a8",
            "placeholder": "​",
            "style": "IPY_MODEL_fbf4212903bb4861a7a5b8cf7f5b49a1",
            "value": " 17.6M/17.6M [00:00&lt;00:00, 159MB/s]"
          }
        },
        "fdb1d17e3326459f9a3236d7136db417": {
          "model_module": "@jupyter-widgets/base",
          "model_name": "LayoutModel",
          "model_module_version": "1.2.0",
          "state": {
            "_model_module": "@jupyter-widgets/base",
            "_model_module_version": "1.2.0",
            "_model_name": "LayoutModel",
            "_view_count": null,
            "_view_module": "@jupyter-widgets/base",
            "_view_module_version": "1.2.0",
            "_view_name": "LayoutView",
            "align_content": null,
            "align_items": null,
            "align_self": null,
            "border": null,
            "bottom": null,
            "display": null,
            "flex": null,
            "flex_flow": null,
            "grid_area": null,
            "grid_auto_columns": null,
            "grid_auto_flow": null,
            "grid_auto_rows": null,
            "grid_column": null,
            "grid_gap": null,
            "grid_row": null,
            "grid_template_areas": null,
            "grid_template_columns": null,
            "grid_template_rows": null,
            "height": null,
            "justify_content": null,
            "justify_items": null,
            "left": null,
            "margin": null,
            "max_height": null,
            "max_width": null,
            "min_height": null,
            "min_width": null,
            "object_fit": null,
            "object_position": null,
            "order": null,
            "overflow": null,
            "overflow_x": null,
            "overflow_y": null,
            "padding": null,
            "right": null,
            "top": null,
            "visibility": null,
            "width": null
          }
        },
        "dc1f7286df984dabb80f981470f0ec8b": {
          "model_module": "@jupyter-widgets/base",
          "model_name": "LayoutModel",
          "model_module_version": "1.2.0",
          "state": {
            "_model_module": "@jupyter-widgets/base",
            "_model_module_version": "1.2.0",
            "_model_name": "LayoutModel",
            "_view_count": null,
            "_view_module": "@jupyter-widgets/base",
            "_view_module_version": "1.2.0",
            "_view_name": "LayoutView",
            "align_content": null,
            "align_items": null,
            "align_self": null,
            "border": null,
            "bottom": null,
            "display": null,
            "flex": null,
            "flex_flow": null,
            "grid_area": null,
            "grid_auto_columns": null,
            "grid_auto_flow": null,
            "grid_auto_rows": null,
            "grid_column": null,
            "grid_gap": null,
            "grid_row": null,
            "grid_template_areas": null,
            "grid_template_columns": null,
            "grid_template_rows": null,
            "height": null,
            "justify_content": null,
            "justify_items": null,
            "left": null,
            "margin": null,
            "max_height": null,
            "max_width": null,
            "min_height": null,
            "min_width": null,
            "object_fit": null,
            "object_position": null,
            "order": null,
            "overflow": null,
            "overflow_x": null,
            "overflow_y": null,
            "padding": null,
            "right": null,
            "top": null,
            "visibility": null,
            "width": null
          }
        },
        "0323f216c7a94a08b1e7b387d10a25ae": {
          "model_module": "@jupyter-widgets/controls",
          "model_name": "DescriptionStyleModel",
          "model_module_version": "1.5.0",
          "state": {
            "_model_module": "@jupyter-widgets/controls",
            "_model_module_version": "1.5.0",
            "_model_name": "DescriptionStyleModel",
            "_view_count": null,
            "_view_module": "@jupyter-widgets/base",
            "_view_module_version": "1.2.0",
            "_view_name": "StyleView",
            "description_width": ""
          }
        },
        "48440dd2c9b54058992aa855045fd44f": {
          "model_module": "@jupyter-widgets/base",
          "model_name": "LayoutModel",
          "model_module_version": "1.2.0",
          "state": {
            "_model_module": "@jupyter-widgets/base",
            "_model_module_version": "1.2.0",
            "_model_name": "LayoutModel",
            "_view_count": null,
            "_view_module": "@jupyter-widgets/base",
            "_view_module_version": "1.2.0",
            "_view_name": "LayoutView",
            "align_content": null,
            "align_items": null,
            "align_self": null,
            "border": null,
            "bottom": null,
            "display": null,
            "flex": null,
            "flex_flow": null,
            "grid_area": null,
            "grid_auto_columns": null,
            "grid_auto_flow": null,
            "grid_auto_rows": null,
            "grid_column": null,
            "grid_gap": null,
            "grid_row": null,
            "grid_template_areas": null,
            "grid_template_columns": null,
            "grid_template_rows": null,
            "height": null,
            "justify_content": null,
            "justify_items": null,
            "left": null,
            "margin": null,
            "max_height": null,
            "max_width": null,
            "min_height": null,
            "min_width": null,
            "object_fit": null,
            "object_position": null,
            "order": null,
            "overflow": null,
            "overflow_x": null,
            "overflow_y": null,
            "padding": null,
            "right": null,
            "top": null,
            "visibility": null,
            "width": null
          }
        },
        "41d281e76ab547909470248a560c17e3": {
          "model_module": "@jupyter-widgets/controls",
          "model_name": "ProgressStyleModel",
          "model_module_version": "1.5.0",
          "state": {
            "_model_module": "@jupyter-widgets/controls",
            "_model_module_version": "1.5.0",
            "_model_name": "ProgressStyleModel",
            "_view_count": null,
            "_view_module": "@jupyter-widgets/base",
            "_view_module_version": "1.2.0",
            "_view_name": "StyleView",
            "bar_color": null,
            "description_width": ""
          }
        },
        "af559502a2954154842243ced639e2a8": {
          "model_module": "@jupyter-widgets/base",
          "model_name": "LayoutModel",
          "model_module_version": "1.2.0",
          "state": {
            "_model_module": "@jupyter-widgets/base",
            "_model_module_version": "1.2.0",
            "_model_name": "LayoutModel",
            "_view_count": null,
            "_view_module": "@jupyter-widgets/base",
            "_view_module_version": "1.2.0",
            "_view_name": "LayoutView",
            "align_content": null,
            "align_items": null,
            "align_self": null,
            "border": null,
            "bottom": null,
            "display": null,
            "flex": null,
            "flex_flow": null,
            "grid_area": null,
            "grid_auto_columns": null,
            "grid_auto_flow": null,
            "grid_auto_rows": null,
            "grid_column": null,
            "grid_gap": null,
            "grid_row": null,
            "grid_template_areas": null,
            "grid_template_columns": null,
            "grid_template_rows": null,
            "height": null,
            "justify_content": null,
            "justify_items": null,
            "left": null,
            "margin": null,
            "max_height": null,
            "max_width": null,
            "min_height": null,
            "min_width": null,
            "object_fit": null,
            "object_position": null,
            "order": null,
            "overflow": null,
            "overflow_x": null,
            "overflow_y": null,
            "padding": null,
            "right": null,
            "top": null,
            "visibility": null,
            "width": null
          }
        },
        "fbf4212903bb4861a7a5b8cf7f5b49a1": {
          "model_module": "@jupyter-widgets/controls",
          "model_name": "DescriptionStyleModel",
          "model_module_version": "1.5.0",
          "state": {
            "_model_module": "@jupyter-widgets/controls",
            "_model_module_version": "1.5.0",
            "_model_name": "DescriptionStyleModel",
            "_view_count": null,
            "_view_module": "@jupyter-widgets/base",
            "_view_module_version": "1.2.0",
            "_view_name": "StyleView",
            "description_width": ""
          }
        },
        "a33d0cd85630435887e4a89aa9e6a590": {
          "model_module": "@jupyter-widgets/controls",
          "model_name": "HBoxModel",
          "model_module_version": "1.5.0",
          "state": {
            "_dom_classes": [],
            "_model_module": "@jupyter-widgets/controls",
            "_model_module_version": "1.5.0",
            "_model_name": "HBoxModel",
            "_view_count": null,
            "_view_module": "@jupyter-widgets/controls",
            "_view_module_version": "1.5.0",
            "_view_name": "HBoxView",
            "box_style": "",
            "children": [
              "IPY_MODEL_bbe8530d0c4d4b1fb5cbb0a0e673795a",
              "IPY_MODEL_d275647df1b546cc95ad82770290b392",
              "IPY_MODEL_d10dff18daa64f25bd738fff5a4a2476"
            ],
            "layout": "IPY_MODEL_dbcf50d6ba1c452bbc3b51816fca1aff"
          }
        },
        "bbe8530d0c4d4b1fb5cbb0a0e673795a": {
          "model_module": "@jupyter-widgets/controls",
          "model_name": "HTMLModel",
          "model_module_version": "1.5.0",
          "state": {
            "_dom_classes": [],
            "_model_module": "@jupyter-widgets/controls",
            "_model_module_version": "1.5.0",
            "_model_name": "HTMLModel",
            "_view_count": null,
            "_view_module": "@jupyter-widgets/controls",
            "_view_module_version": "1.5.0",
            "_view_name": "HTMLView",
            "description": "",
            "description_tooltip": null,
            "layout": "IPY_MODEL_40ffecc1e2bb4db8947a8956482ec069",
            "placeholder": "​",
            "style": "IPY_MODEL_d49799c5a3c2428ab29c0cf5c3397825",
            "value": "tokenizer_config.json: 100%"
          }
        },
        "d275647df1b546cc95ad82770290b392": {
          "model_module": "@jupyter-widgets/controls",
          "model_name": "FloatProgressModel",
          "model_module_version": "1.5.0",
          "state": {
            "_dom_classes": [],
            "_model_module": "@jupyter-widgets/controls",
            "_model_module_version": "1.5.0",
            "_model_name": "FloatProgressModel",
            "_view_count": null,
            "_view_module": "@jupyter-widgets/controls",
            "_view_module_version": "1.5.0",
            "_view_name": "ProgressView",
            "bar_style": "success",
            "description": "",
            "description_tooltip": null,
            "layout": "IPY_MODEL_f2b616602cb94685a641309b6ce8e09f",
            "max": 394,
            "min": 0,
            "orientation": "horizontal",
            "style": "IPY_MODEL_a3dc0b434752433195a09715a64359c3",
            "value": 394
          }
        },
        "d10dff18daa64f25bd738fff5a4a2476": {
          "model_module": "@jupyter-widgets/controls",
          "model_name": "HTMLModel",
          "model_module_version": "1.5.0",
          "state": {
            "_dom_classes": [],
            "_model_module": "@jupyter-widgets/controls",
            "_model_module_version": "1.5.0",
            "_model_name": "HTMLModel",
            "_view_count": null,
            "_view_module": "@jupyter-widgets/controls",
            "_view_module_version": "1.5.0",
            "_view_name": "HTMLView",
            "description": "",
            "description_tooltip": null,
            "layout": "IPY_MODEL_2d14375d733c4e718ada9496b43226c7",
            "placeholder": "​",
            "style": "IPY_MODEL_2b9935d671814a49b5e7d1bc597c78a1",
            "value": " 394/394 [00:00&lt;00:00, 34.3kB/s]"
          }
        },
        "dbcf50d6ba1c452bbc3b51816fca1aff": {
          "model_module": "@jupyter-widgets/base",
          "model_name": "LayoutModel",
          "model_module_version": "1.2.0",
          "state": {
            "_model_module": "@jupyter-widgets/base",
            "_model_module_version": "1.2.0",
            "_model_name": "LayoutModel",
            "_view_count": null,
            "_view_module": "@jupyter-widgets/base",
            "_view_module_version": "1.2.0",
            "_view_name": "LayoutView",
            "align_content": null,
            "align_items": null,
            "align_self": null,
            "border": null,
            "bottom": null,
            "display": null,
            "flex": null,
            "flex_flow": null,
            "grid_area": null,
            "grid_auto_columns": null,
            "grid_auto_flow": null,
            "grid_auto_rows": null,
            "grid_column": null,
            "grid_gap": null,
            "grid_row": null,
            "grid_template_areas": null,
            "grid_template_columns": null,
            "grid_template_rows": null,
            "height": null,
            "justify_content": null,
            "justify_items": null,
            "left": null,
            "margin": null,
            "max_height": null,
            "max_width": null,
            "min_height": null,
            "min_width": null,
            "object_fit": null,
            "object_position": null,
            "order": null,
            "overflow": null,
            "overflow_x": null,
            "overflow_y": null,
            "padding": null,
            "right": null,
            "top": null,
            "visibility": null,
            "width": null
          }
        },
        "40ffecc1e2bb4db8947a8956482ec069": {
          "model_module": "@jupyter-widgets/base",
          "model_name": "LayoutModel",
          "model_module_version": "1.2.0",
          "state": {
            "_model_module": "@jupyter-widgets/base",
            "_model_module_version": "1.2.0",
            "_model_name": "LayoutModel",
            "_view_count": null,
            "_view_module": "@jupyter-widgets/base",
            "_view_module_version": "1.2.0",
            "_view_name": "LayoutView",
            "align_content": null,
            "align_items": null,
            "align_self": null,
            "border": null,
            "bottom": null,
            "display": null,
            "flex": null,
            "flex_flow": null,
            "grid_area": null,
            "grid_auto_columns": null,
            "grid_auto_flow": null,
            "grid_auto_rows": null,
            "grid_column": null,
            "grid_gap": null,
            "grid_row": null,
            "grid_template_areas": null,
            "grid_template_columns": null,
            "grid_template_rows": null,
            "height": null,
            "justify_content": null,
            "justify_items": null,
            "left": null,
            "margin": null,
            "max_height": null,
            "max_width": null,
            "min_height": null,
            "min_width": null,
            "object_fit": null,
            "object_position": null,
            "order": null,
            "overflow": null,
            "overflow_x": null,
            "overflow_y": null,
            "padding": null,
            "right": null,
            "top": null,
            "visibility": null,
            "width": null
          }
        },
        "d49799c5a3c2428ab29c0cf5c3397825": {
          "model_module": "@jupyter-widgets/controls",
          "model_name": "DescriptionStyleModel",
          "model_module_version": "1.5.0",
          "state": {
            "_model_module": "@jupyter-widgets/controls",
            "_model_module_version": "1.5.0",
            "_model_name": "DescriptionStyleModel",
            "_view_count": null,
            "_view_module": "@jupyter-widgets/base",
            "_view_module_version": "1.2.0",
            "_view_name": "StyleView",
            "description_width": ""
          }
        },
        "f2b616602cb94685a641309b6ce8e09f": {
          "model_module": "@jupyter-widgets/base",
          "model_name": "LayoutModel",
          "model_module_version": "1.2.0",
          "state": {
            "_model_module": "@jupyter-widgets/base",
            "_model_module_version": "1.2.0",
            "_model_name": "LayoutModel",
            "_view_count": null,
            "_view_module": "@jupyter-widgets/base",
            "_view_module_version": "1.2.0",
            "_view_name": "LayoutView",
            "align_content": null,
            "align_items": null,
            "align_self": null,
            "border": null,
            "bottom": null,
            "display": null,
            "flex": null,
            "flex_flow": null,
            "grid_area": null,
            "grid_auto_columns": null,
            "grid_auto_flow": null,
            "grid_auto_rows": null,
            "grid_column": null,
            "grid_gap": null,
            "grid_row": null,
            "grid_template_areas": null,
            "grid_template_columns": null,
            "grid_template_rows": null,
            "height": null,
            "justify_content": null,
            "justify_items": null,
            "left": null,
            "margin": null,
            "max_height": null,
            "max_width": null,
            "min_height": null,
            "min_width": null,
            "object_fit": null,
            "object_position": null,
            "order": null,
            "overflow": null,
            "overflow_x": null,
            "overflow_y": null,
            "padding": null,
            "right": null,
            "top": null,
            "visibility": null,
            "width": null
          }
        },
        "a3dc0b434752433195a09715a64359c3": {
          "model_module": "@jupyter-widgets/controls",
          "model_name": "ProgressStyleModel",
          "model_module_version": "1.5.0",
          "state": {
            "_model_module": "@jupyter-widgets/controls",
            "_model_module_version": "1.5.0",
            "_model_name": "ProgressStyleModel",
            "_view_count": null,
            "_view_module": "@jupyter-widgets/base",
            "_view_module_version": "1.2.0",
            "_view_name": "StyleView",
            "bar_color": null,
            "description_width": ""
          }
        },
        "2d14375d733c4e718ada9496b43226c7": {
          "model_module": "@jupyter-widgets/base",
          "model_name": "LayoutModel",
          "model_module_version": "1.2.0",
          "state": {
            "_model_module": "@jupyter-widgets/base",
            "_model_module_version": "1.2.0",
            "_model_name": "LayoutModel",
            "_view_count": null,
            "_view_module": "@jupyter-widgets/base",
            "_view_module_version": "1.2.0",
            "_view_name": "LayoutView",
            "align_content": null,
            "align_items": null,
            "align_self": null,
            "border": null,
            "bottom": null,
            "display": null,
            "flex": null,
            "flex_flow": null,
            "grid_area": null,
            "grid_auto_columns": null,
            "grid_auto_flow": null,
            "grid_auto_rows": null,
            "grid_column": null,
            "grid_gap": null,
            "grid_row": null,
            "grid_template_areas": null,
            "grid_template_columns": null,
            "grid_template_rows": null,
            "height": null,
            "justify_content": null,
            "justify_items": null,
            "left": null,
            "margin": null,
            "max_height": null,
            "max_width": null,
            "min_height": null,
            "min_width": null,
            "object_fit": null,
            "object_position": null,
            "order": null,
            "overflow": null,
            "overflow_x": null,
            "overflow_y": null,
            "padding": null,
            "right": null,
            "top": null,
            "visibility": null,
            "width": null
          }
        },
        "2b9935d671814a49b5e7d1bc597c78a1": {
          "model_module": "@jupyter-widgets/controls",
          "model_name": "DescriptionStyleModel",
          "model_module_version": "1.5.0",
          "state": {
            "_model_module": "@jupyter-widgets/controls",
            "_model_module_version": "1.5.0",
            "_model_name": "DescriptionStyleModel",
            "_view_count": null,
            "_view_module": "@jupyter-widgets/base",
            "_view_module_version": "1.2.0",
            "_view_name": "StyleView",
            "description_width": ""
          }
        },
        "13e05d86821746ceadabe27fd283a6be": {
          "model_module": "@jupyter-widgets/controls",
          "model_name": "HBoxModel",
          "model_module_version": "1.5.0",
          "state": {
            "_dom_classes": [],
            "_model_module": "@jupyter-widgets/controls",
            "_model_module_version": "1.5.0",
            "_model_name": "HBoxModel",
            "_view_count": null,
            "_view_module": "@jupyter-widgets/controls",
            "_view_module_version": "1.5.0",
            "_view_name": "HBoxView",
            "box_style": "",
            "children": [
              "IPY_MODEL_c210b833a91b4971808630fed8d68ded",
              "IPY_MODEL_b86ffcacc9a04e5c81edc8678c308d64",
              "IPY_MODEL_033d284fe7a547b2a5a598ddc791feea"
            ],
            "layout": "IPY_MODEL_171fbc7b963240f6891c50079f8b52fc"
          }
        },
        "c210b833a91b4971808630fed8d68ded": {
          "model_module": "@jupyter-widgets/controls",
          "model_name": "HTMLModel",
          "model_module_version": "1.5.0",
          "state": {
            "_dom_classes": [],
            "_model_module": "@jupyter-widgets/controls",
            "_model_module_version": "1.5.0",
            "_model_name": "HTMLModel",
            "_view_count": null,
            "_view_module": "@jupyter-widgets/controls",
            "_view_module_version": "1.5.0",
            "_view_name": "HTMLView",
            "description": "",
            "description_tooltip": null,
            "layout": "IPY_MODEL_435cfc63f4334370805ab18005105c05",
            "placeholder": "​",
            "style": "IPY_MODEL_e35cf4ae218f4a19816a317c2abb4338",
            "value": "vocab.txt: 100%"
          }
        },
        "b86ffcacc9a04e5c81edc8678c308d64": {
          "model_module": "@jupyter-widgets/controls",
          "model_name": "FloatProgressModel",
          "model_module_version": "1.5.0",
          "state": {
            "_dom_classes": [],
            "_model_module": "@jupyter-widgets/controls",
            "_model_module_version": "1.5.0",
            "_model_name": "FloatProgressModel",
            "_view_count": null,
            "_view_module": "@jupyter-widgets/controls",
            "_view_module_version": "1.5.0",
            "_view_name": "ProgressView",
            "bar_style": "success",
            "description": "",
            "description_tooltip": null,
            "layout": "IPY_MODEL_b8571b85e8354ee8a1fd3c9bbd2546a0",
            "max": 231508,
            "min": 0,
            "orientation": "horizontal",
            "style": "IPY_MODEL_de05159e1ba84b84942d9eb50c728bd7",
            "value": 231508
          }
        },
        "033d284fe7a547b2a5a598ddc791feea": {
          "model_module": "@jupyter-widgets/controls",
          "model_name": "HTMLModel",
          "model_module_version": "1.5.0",
          "state": {
            "_dom_classes": [],
            "_model_module": "@jupyter-widgets/controls",
            "_model_module_version": "1.5.0",
            "_model_name": "HTMLModel",
            "_view_count": null,
            "_view_module": "@jupyter-widgets/controls",
            "_view_module_version": "1.5.0",
            "_view_name": "HTMLView",
            "description": "",
            "description_tooltip": null,
            "layout": "IPY_MODEL_47328b4a3f8948a8a3534291908b5bf7",
            "placeholder": "​",
            "style": "IPY_MODEL_2ec9a1f196234a6dae077a3b420d37d6",
            "value": " 232k/232k [00:00&lt;00:00, 14.2MB/s]"
          }
        },
        "171fbc7b963240f6891c50079f8b52fc": {
          "model_module": "@jupyter-widgets/base",
          "model_name": "LayoutModel",
          "model_module_version": "1.2.0",
          "state": {
            "_model_module": "@jupyter-widgets/base",
            "_model_module_version": "1.2.0",
            "_model_name": "LayoutModel",
            "_view_count": null,
            "_view_module": "@jupyter-widgets/base",
            "_view_module_version": "1.2.0",
            "_view_name": "LayoutView",
            "align_content": null,
            "align_items": null,
            "align_self": null,
            "border": null,
            "bottom": null,
            "display": null,
            "flex": null,
            "flex_flow": null,
            "grid_area": null,
            "grid_auto_columns": null,
            "grid_auto_flow": null,
            "grid_auto_rows": null,
            "grid_column": null,
            "grid_gap": null,
            "grid_row": null,
            "grid_template_areas": null,
            "grid_template_columns": null,
            "grid_template_rows": null,
            "height": null,
            "justify_content": null,
            "justify_items": null,
            "left": null,
            "margin": null,
            "max_height": null,
            "max_width": null,
            "min_height": null,
            "min_width": null,
            "object_fit": null,
            "object_position": null,
            "order": null,
            "overflow": null,
            "overflow_x": null,
            "overflow_y": null,
            "padding": null,
            "right": null,
            "top": null,
            "visibility": null,
            "width": null
          }
        },
        "435cfc63f4334370805ab18005105c05": {
          "model_module": "@jupyter-widgets/base",
          "model_name": "LayoutModel",
          "model_module_version": "1.2.0",
          "state": {
            "_model_module": "@jupyter-widgets/base",
            "_model_module_version": "1.2.0",
            "_model_name": "LayoutModel",
            "_view_count": null,
            "_view_module": "@jupyter-widgets/base",
            "_view_module_version": "1.2.0",
            "_view_name": "LayoutView",
            "align_content": null,
            "align_items": null,
            "align_self": null,
            "border": null,
            "bottom": null,
            "display": null,
            "flex": null,
            "flex_flow": null,
            "grid_area": null,
            "grid_auto_columns": null,
            "grid_auto_flow": null,
            "grid_auto_rows": null,
            "grid_column": null,
            "grid_gap": null,
            "grid_row": null,
            "grid_template_areas": null,
            "grid_template_columns": null,
            "grid_template_rows": null,
            "height": null,
            "justify_content": null,
            "justify_items": null,
            "left": null,
            "margin": null,
            "max_height": null,
            "max_width": null,
            "min_height": null,
            "min_width": null,
            "object_fit": null,
            "object_position": null,
            "order": null,
            "overflow": null,
            "overflow_x": null,
            "overflow_y": null,
            "padding": null,
            "right": null,
            "top": null,
            "visibility": null,
            "width": null
          }
        },
        "e35cf4ae218f4a19816a317c2abb4338": {
          "model_module": "@jupyter-widgets/controls",
          "model_name": "DescriptionStyleModel",
          "model_module_version": "1.5.0",
          "state": {
            "_model_module": "@jupyter-widgets/controls",
            "_model_module_version": "1.5.0",
            "_model_name": "DescriptionStyleModel",
            "_view_count": null,
            "_view_module": "@jupyter-widgets/base",
            "_view_module_version": "1.2.0",
            "_view_name": "StyleView",
            "description_width": ""
          }
        },
        "b8571b85e8354ee8a1fd3c9bbd2546a0": {
          "model_module": "@jupyter-widgets/base",
          "model_name": "LayoutModel",
          "model_module_version": "1.2.0",
          "state": {
            "_model_module": "@jupyter-widgets/base",
            "_model_module_version": "1.2.0",
            "_model_name": "LayoutModel",
            "_view_count": null,
            "_view_module": "@jupyter-widgets/base",
            "_view_module_version": "1.2.0",
            "_view_name": "LayoutView",
            "align_content": null,
            "align_items": null,
            "align_self": null,
            "border": null,
            "bottom": null,
            "display": null,
            "flex": null,
            "flex_flow": null,
            "grid_area": null,
            "grid_auto_columns": null,
            "grid_auto_flow": null,
            "grid_auto_rows": null,
            "grid_column": null,
            "grid_gap": null,
            "grid_row": null,
            "grid_template_areas": null,
            "grid_template_columns": null,
            "grid_template_rows": null,
            "height": null,
            "justify_content": null,
            "justify_items": null,
            "left": null,
            "margin": null,
            "max_height": null,
            "max_width": null,
            "min_height": null,
            "min_width": null,
            "object_fit": null,
            "object_position": null,
            "order": null,
            "overflow": null,
            "overflow_x": null,
            "overflow_y": null,
            "padding": null,
            "right": null,
            "top": null,
            "visibility": null,
            "width": null
          }
        },
        "de05159e1ba84b84942d9eb50c728bd7": {
          "model_module": "@jupyter-widgets/controls",
          "model_name": "ProgressStyleModel",
          "model_module_version": "1.5.0",
          "state": {
            "_model_module": "@jupyter-widgets/controls",
            "_model_module_version": "1.5.0",
            "_model_name": "ProgressStyleModel",
            "_view_count": null,
            "_view_module": "@jupyter-widgets/base",
            "_view_module_version": "1.2.0",
            "_view_name": "StyleView",
            "bar_color": null,
            "description_width": ""
          }
        },
        "47328b4a3f8948a8a3534291908b5bf7": {
          "model_module": "@jupyter-widgets/base",
          "model_name": "LayoutModel",
          "model_module_version": "1.2.0",
          "state": {
            "_model_module": "@jupyter-widgets/base",
            "_model_module_version": "1.2.0",
            "_model_name": "LayoutModel",
            "_view_count": null,
            "_view_module": "@jupyter-widgets/base",
            "_view_module_version": "1.2.0",
            "_view_name": "LayoutView",
            "align_content": null,
            "align_items": null,
            "align_self": null,
            "border": null,
            "bottom": null,
            "display": null,
            "flex": null,
            "flex_flow": null,
            "grid_area": null,
            "grid_auto_columns": null,
            "grid_auto_flow": null,
            "grid_auto_rows": null,
            "grid_column": null,
            "grid_gap": null,
            "grid_row": null,
            "grid_template_areas": null,
            "grid_template_columns": null,
            "grid_template_rows": null,
            "height": null,
            "justify_content": null,
            "justify_items": null,
            "left": null,
            "margin": null,
            "max_height": null,
            "max_width": null,
            "min_height": null,
            "min_width": null,
            "object_fit": null,
            "object_position": null,
            "order": null,
            "overflow": null,
            "overflow_x": null,
            "overflow_y": null,
            "padding": null,
            "right": null,
            "top": null,
            "visibility": null,
            "width": null
          }
        },
        "2ec9a1f196234a6dae077a3b420d37d6": {
          "model_module": "@jupyter-widgets/controls",
          "model_name": "DescriptionStyleModel",
          "model_module_version": "1.5.0",
          "state": {
            "_model_module": "@jupyter-widgets/controls",
            "_model_module_version": "1.5.0",
            "_model_name": "DescriptionStyleModel",
            "_view_count": null,
            "_view_module": "@jupyter-widgets/base",
            "_view_module_version": "1.2.0",
            "_view_name": "StyleView",
            "description_width": ""
          }
        },
        "f9b3b678d647481fb4a0b3f03b39a251": {
          "model_module": "@jupyter-widgets/controls",
          "model_name": "HBoxModel",
          "model_module_version": "1.5.0",
          "state": {
            "_dom_classes": [],
            "_model_module": "@jupyter-widgets/controls",
            "_model_module_version": "1.5.0",
            "_model_name": "HBoxModel",
            "_view_count": null,
            "_view_module": "@jupyter-widgets/controls",
            "_view_module_version": "1.5.0",
            "_view_name": "HBoxView",
            "box_style": "",
            "children": [
              "IPY_MODEL_cff5c13b155d44e79fdeba9c286b63ae",
              "IPY_MODEL_1f5eb74200ea4435ac42e0ff889eabc3",
              "IPY_MODEL_bd69d7a3461147f6b181b5708276ec60"
            ],
            "layout": "IPY_MODEL_ac552b8577a34a888adef17f5b4ab2b3"
          }
        },
        "cff5c13b155d44e79fdeba9c286b63ae": {
          "model_module": "@jupyter-widgets/controls",
          "model_name": "HTMLModel",
          "model_module_version": "1.5.0",
          "state": {
            "_dom_classes": [],
            "_model_module": "@jupyter-widgets/controls",
            "_model_module_version": "1.5.0",
            "_model_name": "HTMLModel",
            "_view_count": null,
            "_view_module": "@jupyter-widgets/controls",
            "_view_module_version": "1.5.0",
            "_view_name": "HTMLView",
            "description": "",
            "description_tooltip": null,
            "layout": "IPY_MODEL_df0b28820c884db7ab0b7e8c259b0128",
            "placeholder": "​",
            "style": "IPY_MODEL_1f80e3bb3fbc4056991a6f4bf25a1638",
            "value": "tokenizer.json: 100%"
          }
        },
        "1f5eb74200ea4435ac42e0ff889eabc3": {
          "model_module": "@jupyter-widgets/controls",
          "model_name": "FloatProgressModel",
          "model_module_version": "1.5.0",
          "state": {
            "_dom_classes": [],
            "_model_module": "@jupyter-widgets/controls",
            "_model_module_version": "1.5.0",
            "_model_name": "FloatProgressModel",
            "_view_count": null,
            "_view_module": "@jupyter-widgets/controls",
            "_view_module_version": "1.5.0",
            "_view_name": "ProgressView",
            "bar_style": "success",
            "description": "",
            "description_tooltip": null,
            "layout": "IPY_MODEL_0b14c52bf2e3404e90faef1f3bfafc58",
            "max": 711661,
            "min": 0,
            "orientation": "horizontal",
            "style": "IPY_MODEL_657fe21f68254969b02855ab102afea3",
            "value": 711661
          }
        },
        "bd69d7a3461147f6b181b5708276ec60": {
          "model_module": "@jupyter-widgets/controls",
          "model_name": "HTMLModel",
          "model_module_version": "1.5.0",
          "state": {
            "_dom_classes": [],
            "_model_module": "@jupyter-widgets/controls",
            "_model_module_version": "1.5.0",
            "_model_name": "HTMLModel",
            "_view_count": null,
            "_view_module": "@jupyter-widgets/controls",
            "_view_module_version": "1.5.0",
            "_view_name": "HTMLView",
            "description": "",
            "description_tooltip": null,
            "layout": "IPY_MODEL_433a22d8c0834a0f9e3b9331d1036623",
            "placeholder": "​",
            "style": "IPY_MODEL_9a5259792e264c2da3c47db17fdf57ab",
            "value": " 712k/712k [00:00&lt;00:00, 48.3MB/s]"
          }
        },
        "ac552b8577a34a888adef17f5b4ab2b3": {
          "model_module": "@jupyter-widgets/base",
          "model_name": "LayoutModel",
          "model_module_version": "1.2.0",
          "state": {
            "_model_module": "@jupyter-widgets/base",
            "_model_module_version": "1.2.0",
            "_model_name": "LayoutModel",
            "_view_count": null,
            "_view_module": "@jupyter-widgets/base",
            "_view_module_version": "1.2.0",
            "_view_name": "LayoutView",
            "align_content": null,
            "align_items": null,
            "align_self": null,
            "border": null,
            "bottom": null,
            "display": null,
            "flex": null,
            "flex_flow": null,
            "grid_area": null,
            "grid_auto_columns": null,
            "grid_auto_flow": null,
            "grid_auto_rows": null,
            "grid_column": null,
            "grid_gap": null,
            "grid_row": null,
            "grid_template_areas": null,
            "grid_template_columns": null,
            "grid_template_rows": null,
            "height": null,
            "justify_content": null,
            "justify_items": null,
            "left": null,
            "margin": null,
            "max_height": null,
            "max_width": null,
            "min_height": null,
            "min_width": null,
            "object_fit": null,
            "object_position": null,
            "order": null,
            "overflow": null,
            "overflow_x": null,
            "overflow_y": null,
            "padding": null,
            "right": null,
            "top": null,
            "visibility": null,
            "width": null
          }
        },
        "df0b28820c884db7ab0b7e8c259b0128": {
          "model_module": "@jupyter-widgets/base",
          "model_name": "LayoutModel",
          "model_module_version": "1.2.0",
          "state": {
            "_model_module": "@jupyter-widgets/base",
            "_model_module_version": "1.2.0",
            "_model_name": "LayoutModel",
            "_view_count": null,
            "_view_module": "@jupyter-widgets/base",
            "_view_module_version": "1.2.0",
            "_view_name": "LayoutView",
            "align_content": null,
            "align_items": null,
            "align_self": null,
            "border": null,
            "bottom": null,
            "display": null,
            "flex": null,
            "flex_flow": null,
            "grid_area": null,
            "grid_auto_columns": null,
            "grid_auto_flow": null,
            "grid_auto_rows": null,
            "grid_column": null,
            "grid_gap": null,
            "grid_row": null,
            "grid_template_areas": null,
            "grid_template_columns": null,
            "grid_template_rows": null,
            "height": null,
            "justify_content": null,
            "justify_items": null,
            "left": null,
            "margin": null,
            "max_height": null,
            "max_width": null,
            "min_height": null,
            "min_width": null,
            "object_fit": null,
            "object_position": null,
            "order": null,
            "overflow": null,
            "overflow_x": null,
            "overflow_y": null,
            "padding": null,
            "right": null,
            "top": null,
            "visibility": null,
            "width": null
          }
        },
        "1f80e3bb3fbc4056991a6f4bf25a1638": {
          "model_module": "@jupyter-widgets/controls",
          "model_name": "DescriptionStyleModel",
          "model_module_version": "1.5.0",
          "state": {
            "_model_module": "@jupyter-widgets/controls",
            "_model_module_version": "1.5.0",
            "_model_name": "DescriptionStyleModel",
            "_view_count": null,
            "_view_module": "@jupyter-widgets/base",
            "_view_module_version": "1.2.0",
            "_view_name": "StyleView",
            "description_width": ""
          }
        },
        "0b14c52bf2e3404e90faef1f3bfafc58": {
          "model_module": "@jupyter-widgets/base",
          "model_name": "LayoutModel",
          "model_module_version": "1.2.0",
          "state": {
            "_model_module": "@jupyter-widgets/base",
            "_model_module_version": "1.2.0",
            "_model_name": "LayoutModel",
            "_view_count": null,
            "_view_module": "@jupyter-widgets/base",
            "_view_module_version": "1.2.0",
            "_view_name": "LayoutView",
            "align_content": null,
            "align_items": null,
            "align_self": null,
            "border": null,
            "bottom": null,
            "display": null,
            "flex": null,
            "flex_flow": null,
            "grid_area": null,
            "grid_auto_columns": null,
            "grid_auto_flow": null,
            "grid_auto_rows": null,
            "grid_column": null,
            "grid_gap": null,
            "grid_row": null,
            "grid_template_areas": null,
            "grid_template_columns": null,
            "grid_template_rows": null,
            "height": null,
            "justify_content": null,
            "justify_items": null,
            "left": null,
            "margin": null,
            "max_height": null,
            "max_width": null,
            "min_height": null,
            "min_width": null,
            "object_fit": null,
            "object_position": null,
            "order": null,
            "overflow": null,
            "overflow_x": null,
            "overflow_y": null,
            "padding": null,
            "right": null,
            "top": null,
            "visibility": null,
            "width": null
          }
        },
        "657fe21f68254969b02855ab102afea3": {
          "model_module": "@jupyter-widgets/controls",
          "model_name": "ProgressStyleModel",
          "model_module_version": "1.5.0",
          "state": {
            "_model_module": "@jupyter-widgets/controls",
            "_model_module_version": "1.5.0",
            "_model_name": "ProgressStyleModel",
            "_view_count": null,
            "_view_module": "@jupyter-widgets/base",
            "_view_module_version": "1.2.0",
            "_view_name": "StyleView",
            "bar_color": null,
            "description_width": ""
          }
        },
        "433a22d8c0834a0f9e3b9331d1036623": {
          "model_module": "@jupyter-widgets/base",
          "model_name": "LayoutModel",
          "model_module_version": "1.2.0",
          "state": {
            "_model_module": "@jupyter-widgets/base",
            "_model_module_version": "1.2.0",
            "_model_name": "LayoutModel",
            "_view_count": null,
            "_view_module": "@jupyter-widgets/base",
            "_view_module_version": "1.2.0",
            "_view_name": "LayoutView",
            "align_content": null,
            "align_items": null,
            "align_self": null,
            "border": null,
            "bottom": null,
            "display": null,
            "flex": null,
            "flex_flow": null,
            "grid_area": null,
            "grid_auto_columns": null,
            "grid_auto_flow": null,
            "grid_auto_rows": null,
            "grid_column": null,
            "grid_gap": null,
            "grid_row": null,
            "grid_template_areas": null,
            "grid_template_columns": null,
            "grid_template_rows": null,
            "height": null,
            "justify_content": null,
            "justify_items": null,
            "left": null,
            "margin": null,
            "max_height": null,
            "max_width": null,
            "min_height": null,
            "min_width": null,
            "object_fit": null,
            "object_position": null,
            "order": null,
            "overflow": null,
            "overflow_x": null,
            "overflow_y": null,
            "padding": null,
            "right": null,
            "top": null,
            "visibility": null,
            "width": null
          }
        },
        "9a5259792e264c2da3c47db17fdf57ab": {
          "model_module": "@jupyter-widgets/controls",
          "model_name": "DescriptionStyleModel",
          "model_module_version": "1.5.0",
          "state": {
            "_model_module": "@jupyter-widgets/controls",
            "_model_module_version": "1.5.0",
            "_model_name": "DescriptionStyleModel",
            "_view_count": null,
            "_view_module": "@jupyter-widgets/base",
            "_view_module_version": "1.2.0",
            "_view_name": "StyleView",
            "description_width": ""
          }
        },
        "5806cd51c48d48dd842b21758ea9aa19": {
          "model_module": "@jupyter-widgets/controls",
          "model_name": "HBoxModel",
          "model_module_version": "1.5.0",
          "state": {
            "_dom_classes": [],
            "_model_module": "@jupyter-widgets/controls",
            "_model_module_version": "1.5.0",
            "_model_name": "HBoxModel",
            "_view_count": null,
            "_view_module": "@jupyter-widgets/controls",
            "_view_module_version": "1.5.0",
            "_view_name": "HBoxView",
            "box_style": "",
            "children": [
              "IPY_MODEL_6addddeecb67440bb5d98d951358e7d4",
              "IPY_MODEL_2d33e2fd1085423f993260b69ad2449a",
              "IPY_MODEL_6091813b234e4adb8fb323a6a08b93cc"
            ],
            "layout": "IPY_MODEL_5a2fa9c07cbf48a4a164b57813808541"
          }
        },
        "6addddeecb67440bb5d98d951358e7d4": {
          "model_module": "@jupyter-widgets/controls",
          "model_name": "HTMLModel",
          "model_module_version": "1.5.0",
          "state": {
            "_dom_classes": [],
            "_model_module": "@jupyter-widgets/controls",
            "_model_module_version": "1.5.0",
            "_model_name": "HTMLModel",
            "_view_count": null,
            "_view_module": "@jupyter-widgets/controls",
            "_view_module_version": "1.5.0",
            "_view_name": "HTMLView",
            "description": "",
            "description_tooltip": null,
            "layout": "IPY_MODEL_1a1b3076f58b423daa050150189c4e36",
            "placeholder": "​",
            "style": "IPY_MODEL_4878a7c5481540dd86063486d0a17fa9",
            "value": "special_tokens_map.json: 100%"
          }
        },
        "2d33e2fd1085423f993260b69ad2449a": {
          "model_module": "@jupyter-widgets/controls",
          "model_name": "FloatProgressModel",
          "model_module_version": "1.5.0",
          "state": {
            "_dom_classes": [],
            "_model_module": "@jupyter-widgets/controls",
            "_model_module_version": "1.5.0",
            "_model_name": "FloatProgressModel",
            "_view_count": null,
            "_view_module": "@jupyter-widgets/controls",
            "_view_module_version": "1.5.0",
            "_view_name": "ProgressView",
            "bar_style": "success",
            "description": "",
            "description_tooltip": null,
            "layout": "IPY_MODEL_28f9c6ddb73e49149e5981d3e60c0ee3",
            "max": 125,
            "min": 0,
            "orientation": "horizontal",
            "style": "IPY_MODEL_58d821dcf9044d628c495dce62c77e7b",
            "value": 125
          }
        },
        "6091813b234e4adb8fb323a6a08b93cc": {
          "model_module": "@jupyter-widgets/controls",
          "model_name": "HTMLModel",
          "model_module_version": "1.5.0",
          "state": {
            "_dom_classes": [],
            "_model_module": "@jupyter-widgets/controls",
            "_model_module_version": "1.5.0",
            "_model_name": "HTMLModel",
            "_view_count": null,
            "_view_module": "@jupyter-widgets/controls",
            "_view_module_version": "1.5.0",
            "_view_name": "HTMLView",
            "description": "",
            "description_tooltip": null,
            "layout": "IPY_MODEL_7f57eadf92fa40af8743c57e69fd75a4",
            "placeholder": "​",
            "style": "IPY_MODEL_8506eaab020e4cb19ef93b12af1d6f1e",
            "value": " 125/125 [00:00&lt;00:00, 10.7kB/s]"
          }
        },
        "5a2fa9c07cbf48a4a164b57813808541": {
          "model_module": "@jupyter-widgets/base",
          "model_name": "LayoutModel",
          "model_module_version": "1.2.0",
          "state": {
            "_model_module": "@jupyter-widgets/base",
            "_model_module_version": "1.2.0",
            "_model_name": "LayoutModel",
            "_view_count": null,
            "_view_module": "@jupyter-widgets/base",
            "_view_module_version": "1.2.0",
            "_view_name": "LayoutView",
            "align_content": null,
            "align_items": null,
            "align_self": null,
            "border": null,
            "bottom": null,
            "display": null,
            "flex": null,
            "flex_flow": null,
            "grid_area": null,
            "grid_auto_columns": null,
            "grid_auto_flow": null,
            "grid_auto_rows": null,
            "grid_column": null,
            "grid_gap": null,
            "grid_row": null,
            "grid_template_areas": null,
            "grid_template_columns": null,
            "grid_template_rows": null,
            "height": null,
            "justify_content": null,
            "justify_items": null,
            "left": null,
            "margin": null,
            "max_height": null,
            "max_width": null,
            "min_height": null,
            "min_width": null,
            "object_fit": null,
            "object_position": null,
            "order": null,
            "overflow": null,
            "overflow_x": null,
            "overflow_y": null,
            "padding": null,
            "right": null,
            "top": null,
            "visibility": null,
            "width": null
          }
        },
        "1a1b3076f58b423daa050150189c4e36": {
          "model_module": "@jupyter-widgets/base",
          "model_name": "LayoutModel",
          "model_module_version": "1.2.0",
          "state": {
            "_model_module": "@jupyter-widgets/base",
            "_model_module_version": "1.2.0",
            "_model_name": "LayoutModel",
            "_view_count": null,
            "_view_module": "@jupyter-widgets/base",
            "_view_module_version": "1.2.0",
            "_view_name": "LayoutView",
            "align_content": null,
            "align_items": null,
            "align_self": null,
            "border": null,
            "bottom": null,
            "display": null,
            "flex": null,
            "flex_flow": null,
            "grid_area": null,
            "grid_auto_columns": null,
            "grid_auto_flow": null,
            "grid_auto_rows": null,
            "grid_column": null,
            "grid_gap": null,
            "grid_row": null,
            "grid_template_areas": null,
            "grid_template_columns": null,
            "grid_template_rows": null,
            "height": null,
            "justify_content": null,
            "justify_items": null,
            "left": null,
            "margin": null,
            "max_height": null,
            "max_width": null,
            "min_height": null,
            "min_width": null,
            "object_fit": null,
            "object_position": null,
            "order": null,
            "overflow": null,
            "overflow_x": null,
            "overflow_y": null,
            "padding": null,
            "right": null,
            "top": null,
            "visibility": null,
            "width": null
          }
        },
        "4878a7c5481540dd86063486d0a17fa9": {
          "model_module": "@jupyter-widgets/controls",
          "model_name": "DescriptionStyleModel",
          "model_module_version": "1.5.0",
          "state": {
            "_model_module": "@jupyter-widgets/controls",
            "_model_module_version": "1.5.0",
            "_model_name": "DescriptionStyleModel",
            "_view_count": null,
            "_view_module": "@jupyter-widgets/base",
            "_view_module_version": "1.2.0",
            "_view_name": "StyleView",
            "description_width": ""
          }
        },
        "28f9c6ddb73e49149e5981d3e60c0ee3": {
          "model_module": "@jupyter-widgets/base",
          "model_name": "LayoutModel",
          "model_module_version": "1.2.0",
          "state": {
            "_model_module": "@jupyter-widgets/base",
            "_model_module_version": "1.2.0",
            "_model_name": "LayoutModel",
            "_view_count": null,
            "_view_module": "@jupyter-widgets/base",
            "_view_module_version": "1.2.0",
            "_view_name": "LayoutView",
            "align_content": null,
            "align_items": null,
            "align_self": null,
            "border": null,
            "bottom": null,
            "display": null,
            "flex": null,
            "flex_flow": null,
            "grid_area": null,
            "grid_auto_columns": null,
            "grid_auto_flow": null,
            "grid_auto_rows": null,
            "grid_column": null,
            "grid_gap": null,
            "grid_row": null,
            "grid_template_areas": null,
            "grid_template_columns": null,
            "grid_template_rows": null,
            "height": null,
            "justify_content": null,
            "justify_items": null,
            "left": null,
            "margin": null,
            "max_height": null,
            "max_width": null,
            "min_height": null,
            "min_width": null,
            "object_fit": null,
            "object_position": null,
            "order": null,
            "overflow": null,
            "overflow_x": null,
            "overflow_y": null,
            "padding": null,
            "right": null,
            "top": null,
            "visibility": null,
            "width": null
          }
        },
        "58d821dcf9044d628c495dce62c77e7b": {
          "model_module": "@jupyter-widgets/controls",
          "model_name": "ProgressStyleModel",
          "model_module_version": "1.5.0",
          "state": {
            "_model_module": "@jupyter-widgets/controls",
            "_model_module_version": "1.5.0",
            "_model_name": "ProgressStyleModel",
            "_view_count": null,
            "_view_module": "@jupyter-widgets/base",
            "_view_module_version": "1.2.0",
            "_view_name": "StyleView",
            "bar_color": null,
            "description_width": ""
          }
        },
        "7f57eadf92fa40af8743c57e69fd75a4": {
          "model_module": "@jupyter-widgets/base",
          "model_name": "LayoutModel",
          "model_module_version": "1.2.0",
          "state": {
            "_model_module": "@jupyter-widgets/base",
            "_model_module_version": "1.2.0",
            "_model_name": "LayoutModel",
            "_view_count": null,
            "_view_module": "@jupyter-widgets/base",
            "_view_module_version": "1.2.0",
            "_view_name": "LayoutView",
            "align_content": null,
            "align_items": null,
            "align_self": null,
            "border": null,
            "bottom": null,
            "display": null,
            "flex": null,
            "flex_flow": null,
            "grid_area": null,
            "grid_auto_columns": null,
            "grid_auto_flow": null,
            "grid_auto_rows": null,
            "grid_column": null,
            "grid_gap": null,
            "grid_row": null,
            "grid_template_areas": null,
            "grid_template_columns": null,
            "grid_template_rows": null,
            "height": null,
            "justify_content": null,
            "justify_items": null,
            "left": null,
            "margin": null,
            "max_height": null,
            "max_width": null,
            "min_height": null,
            "min_width": null,
            "object_fit": null,
            "object_position": null,
            "order": null,
            "overflow": null,
            "overflow_x": null,
            "overflow_y": null,
            "padding": null,
            "right": null,
            "top": null,
            "visibility": null,
            "width": null
          }
        },
        "8506eaab020e4cb19ef93b12af1d6f1e": {
          "model_module": "@jupyter-widgets/controls",
          "model_name": "DescriptionStyleModel",
          "model_module_version": "1.5.0",
          "state": {
            "_model_module": "@jupyter-widgets/controls",
            "_model_module_version": "1.5.0",
            "_model_name": "DescriptionStyleModel",
            "_view_count": null,
            "_view_module": "@jupyter-widgets/base",
            "_view_module_version": "1.2.0",
            "_view_name": "StyleView",
            "description_width": ""
          }
        },
        "481778a21e8d46e181af4eb697b1b31a": {
          "model_module": "@jupyter-widgets/controls",
          "model_name": "HBoxModel",
          "model_module_version": "1.5.0",
          "state": {
            "_dom_classes": [],
            "_model_module": "@jupyter-widgets/controls",
            "_model_module_version": "1.5.0",
            "_model_name": "HBoxModel",
            "_view_count": null,
            "_view_module": "@jupyter-widgets/controls",
            "_view_module_version": "1.5.0",
            "_view_name": "HBoxView",
            "box_style": "",
            "children": [
              "IPY_MODEL_c9a97409c2d844638b0009999ed33370",
              "IPY_MODEL_590413a128df467482df9ff1d5464aaa",
              "IPY_MODEL_62754c61099540fd85b16f4af7709745"
            ],
            "layout": "IPY_MODEL_7bc5bd62c02a4bdcb0cd9e6af88de693"
          }
        },
        "c9a97409c2d844638b0009999ed33370": {
          "model_module": "@jupyter-widgets/controls",
          "model_name": "HTMLModel",
          "model_module_version": "1.5.0",
          "state": {
            "_dom_classes": [],
            "_model_module": "@jupyter-widgets/controls",
            "_model_module_version": "1.5.0",
            "_model_name": "HTMLModel",
            "_view_count": null,
            "_view_module": "@jupyter-widgets/controls",
            "_view_module_version": "1.5.0",
            "_view_name": "HTMLView",
            "description": "",
            "description_tooltip": null,
            "layout": "IPY_MODEL_38a0a166fcdb476e865594052e5bbffb",
            "placeholder": "​",
            "style": "IPY_MODEL_0e155f7836044801aebcc3b9ab60dbeb",
            "value": "Classifying Emotions: 100%"
          }
        },
        "590413a128df467482df9ff1d5464aaa": {
          "model_module": "@jupyter-widgets/controls",
          "model_name": "FloatProgressModel",
          "model_module_version": "1.5.0",
          "state": {
            "_dom_classes": [],
            "_model_module": "@jupyter-widgets/controls",
            "_model_module_version": "1.5.0",
            "_model_name": "FloatProgressModel",
            "_view_count": null,
            "_view_module": "@jupyter-widgets/controls",
            "_view_module_version": "1.5.0",
            "_view_name": "ProgressView",
            "bar_style": "success",
            "description": "",
            "description_tooltip": null,
            "layout": "IPY_MODEL_0900906110e14350b50d28caf0bdf416",
            "max": 14018,
            "min": 0,
            "orientation": "horizontal",
            "style": "IPY_MODEL_e758219d1c714730a5b941552eb40d75",
            "value": 14018
          }
        },
        "62754c61099540fd85b16f4af7709745": {
          "model_module": "@jupyter-widgets/controls",
          "model_name": "HTMLModel",
          "model_module_version": "1.5.0",
          "state": {
            "_dom_classes": [],
            "_model_module": "@jupyter-widgets/controls",
            "_model_module_version": "1.5.0",
            "_model_name": "HTMLModel",
            "_view_count": null,
            "_view_module": "@jupyter-widgets/controls",
            "_view_module_version": "1.5.0",
            "_view_name": "HTMLView",
            "description": "",
            "description_tooltip": null,
            "layout": "IPY_MODEL_16e4f08c91434e83a9d55bbda1d641d9",
            "placeholder": "​",
            "style": "IPY_MODEL_0fd9203124764c1fa2632d02f5477626",
            "value": " 14018/14018 [1:05:37&lt;00:00,  3.96it/s]"
          }
        },
        "7bc5bd62c02a4bdcb0cd9e6af88de693": {
          "model_module": "@jupyter-widgets/base",
          "model_name": "LayoutModel",
          "model_module_version": "1.2.0",
          "state": {
            "_model_module": "@jupyter-widgets/base",
            "_model_module_version": "1.2.0",
            "_model_name": "LayoutModel",
            "_view_count": null,
            "_view_module": "@jupyter-widgets/base",
            "_view_module_version": "1.2.0",
            "_view_name": "LayoutView",
            "align_content": null,
            "align_items": null,
            "align_self": null,
            "border": null,
            "bottom": null,
            "display": null,
            "flex": null,
            "flex_flow": null,
            "grid_area": null,
            "grid_auto_columns": null,
            "grid_auto_flow": null,
            "grid_auto_rows": null,
            "grid_column": null,
            "grid_gap": null,
            "grid_row": null,
            "grid_template_areas": null,
            "grid_template_columns": null,
            "grid_template_rows": null,
            "height": null,
            "justify_content": null,
            "justify_items": null,
            "left": null,
            "margin": null,
            "max_height": null,
            "max_width": null,
            "min_height": null,
            "min_width": null,
            "object_fit": null,
            "object_position": null,
            "order": null,
            "overflow": null,
            "overflow_x": null,
            "overflow_y": null,
            "padding": null,
            "right": null,
            "top": null,
            "visibility": null,
            "width": null
          }
        },
        "38a0a166fcdb476e865594052e5bbffb": {
          "model_module": "@jupyter-widgets/base",
          "model_name": "LayoutModel",
          "model_module_version": "1.2.0",
          "state": {
            "_model_module": "@jupyter-widgets/base",
            "_model_module_version": "1.2.0",
            "_model_name": "LayoutModel",
            "_view_count": null,
            "_view_module": "@jupyter-widgets/base",
            "_view_module_version": "1.2.0",
            "_view_name": "LayoutView",
            "align_content": null,
            "align_items": null,
            "align_self": null,
            "border": null,
            "bottom": null,
            "display": null,
            "flex": null,
            "flex_flow": null,
            "grid_area": null,
            "grid_auto_columns": null,
            "grid_auto_flow": null,
            "grid_auto_rows": null,
            "grid_column": null,
            "grid_gap": null,
            "grid_row": null,
            "grid_template_areas": null,
            "grid_template_columns": null,
            "grid_template_rows": null,
            "height": null,
            "justify_content": null,
            "justify_items": null,
            "left": null,
            "margin": null,
            "max_height": null,
            "max_width": null,
            "min_height": null,
            "min_width": null,
            "object_fit": null,
            "object_position": null,
            "order": null,
            "overflow": null,
            "overflow_x": null,
            "overflow_y": null,
            "padding": null,
            "right": null,
            "top": null,
            "visibility": null,
            "width": null
          }
        },
        "0e155f7836044801aebcc3b9ab60dbeb": {
          "model_module": "@jupyter-widgets/controls",
          "model_name": "DescriptionStyleModel",
          "model_module_version": "1.5.0",
          "state": {
            "_model_module": "@jupyter-widgets/controls",
            "_model_module_version": "1.5.0",
            "_model_name": "DescriptionStyleModel",
            "_view_count": null,
            "_view_module": "@jupyter-widgets/base",
            "_view_module_version": "1.2.0",
            "_view_name": "StyleView",
            "description_width": ""
          }
        },
        "0900906110e14350b50d28caf0bdf416": {
          "model_module": "@jupyter-widgets/base",
          "model_name": "LayoutModel",
          "model_module_version": "1.2.0",
          "state": {
            "_model_module": "@jupyter-widgets/base",
            "_model_module_version": "1.2.0",
            "_model_name": "LayoutModel",
            "_view_count": null,
            "_view_module": "@jupyter-widgets/base",
            "_view_module_version": "1.2.0",
            "_view_name": "LayoutView",
            "align_content": null,
            "align_items": null,
            "align_self": null,
            "border": null,
            "bottom": null,
            "display": null,
            "flex": null,
            "flex_flow": null,
            "grid_area": null,
            "grid_auto_columns": null,
            "grid_auto_flow": null,
            "grid_auto_rows": null,
            "grid_column": null,
            "grid_gap": null,
            "grid_row": null,
            "grid_template_areas": null,
            "grid_template_columns": null,
            "grid_template_rows": null,
            "height": null,
            "justify_content": null,
            "justify_items": null,
            "left": null,
            "margin": null,
            "max_height": null,
            "max_width": null,
            "min_height": null,
            "min_width": null,
            "object_fit": null,
            "object_position": null,
            "order": null,
            "overflow": null,
            "overflow_x": null,
            "overflow_y": null,
            "padding": null,
            "right": null,
            "top": null,
            "visibility": null,
            "width": null
          }
        },
        "e758219d1c714730a5b941552eb40d75": {
          "model_module": "@jupyter-widgets/controls",
          "model_name": "ProgressStyleModel",
          "model_module_version": "1.5.0",
          "state": {
            "_model_module": "@jupyter-widgets/controls",
            "_model_module_version": "1.5.0",
            "_model_name": "ProgressStyleModel",
            "_view_count": null,
            "_view_module": "@jupyter-widgets/base",
            "_view_module_version": "1.2.0",
            "_view_name": "StyleView",
            "bar_color": null,
            "description_width": ""
          }
        },
        "16e4f08c91434e83a9d55bbda1d641d9": {
          "model_module": "@jupyter-widgets/base",
          "model_name": "LayoutModel",
          "model_module_version": "1.2.0",
          "state": {
            "_model_module": "@jupyter-widgets/base",
            "_model_module_version": "1.2.0",
            "_model_name": "LayoutModel",
            "_view_count": null,
            "_view_module": "@jupyter-widgets/base",
            "_view_module_version": "1.2.0",
            "_view_name": "LayoutView",
            "align_content": null,
            "align_items": null,
            "align_self": null,
            "border": null,
            "bottom": null,
            "display": null,
            "flex": null,
            "flex_flow": null,
            "grid_area": null,
            "grid_auto_columns": null,
            "grid_auto_flow": null,
            "grid_auto_rows": null,
            "grid_column": null,
            "grid_gap": null,
            "grid_row": null,
            "grid_template_areas": null,
            "grid_template_columns": null,
            "grid_template_rows": null,
            "height": null,
            "justify_content": null,
            "justify_items": null,
            "left": null,
            "margin": null,
            "max_height": null,
            "max_width": null,
            "min_height": null,
            "min_width": null,
            "object_fit": null,
            "object_position": null,
            "order": null,
            "overflow": null,
            "overflow_x": null,
            "overflow_y": null,
            "padding": null,
            "right": null,
            "top": null,
            "visibility": null,
            "width": null
          }
        },
        "0fd9203124764c1fa2632d02f5477626": {
          "model_module": "@jupyter-widgets/controls",
          "model_name": "DescriptionStyleModel",
          "model_module_version": "1.5.0",
          "state": {
            "_model_module": "@jupyter-widgets/controls",
            "_model_module_version": "1.5.0",
            "_model_name": "DescriptionStyleModel",
            "_view_count": null,
            "_view_module": "@jupyter-widgets/base",
            "_view_module_version": "1.2.0",
            "_view_name": "StyleView",
            "description_width": ""
          }
        },
        "f60ecf37cd8946bba9e7b46ae22e8abd": {
          "model_module": "@jupyter-widgets/controls",
          "model_name": "HBoxModel",
          "model_module_version": "1.5.0",
          "state": {
            "_dom_classes": [],
            "_model_module": "@jupyter-widgets/controls",
            "_model_module_version": "1.5.0",
            "_model_name": "HBoxModel",
            "_view_count": null,
            "_view_module": "@jupyter-widgets/controls",
            "_view_module_version": "1.5.0",
            "_view_name": "HBoxView",
            "box_style": "",
            "children": [
              "IPY_MODEL_073e7ddb7a20415f9ff6f763054dc3ad",
              "IPY_MODEL_194a1d594ee64c149e1f0e7d339cddea",
              "IPY_MODEL_88355f27aec3424595777afc8bc26a0f"
            ],
            "layout": "IPY_MODEL_1dce20ed6188499780234b740bc82214"
          }
        },
        "073e7ddb7a20415f9ff6f763054dc3ad": {
          "model_module": "@jupyter-widgets/controls",
          "model_name": "HTMLModel",
          "model_module_version": "1.5.0",
          "state": {
            "_dom_classes": [],
            "_model_module": "@jupyter-widgets/controls",
            "_model_module_version": "1.5.0",
            "_model_name": "HTMLModel",
            "_view_count": null,
            "_view_module": "@jupyter-widgets/controls",
            "_view_module_version": "1.5.0",
            "_view_name": "HTMLView",
            "description": "",
            "description_tooltip": null,
            "layout": "IPY_MODEL_f89ad3a9f4ac40fb8971380b2f7afd1d",
            "placeholder": "​",
            "style": "IPY_MODEL_ae57b3290e4d46a2b9d230bf8f27983f",
            "value": "100%"
          }
        },
        "194a1d594ee64c149e1f0e7d339cddea": {
          "model_module": "@jupyter-widgets/controls",
          "model_name": "FloatProgressModel",
          "model_module_version": "1.5.0",
          "state": {
            "_dom_classes": [],
            "_model_module": "@jupyter-widgets/controls",
            "_model_module_version": "1.5.0",
            "_model_name": "FloatProgressModel",
            "_view_count": null,
            "_view_module": "@jupyter-widgets/controls",
            "_view_module_version": "1.5.0",
            "_view_name": "ProgressView",
            "bar_style": "success",
            "description": "",
            "description_tooltip": null,
            "layout": "IPY_MODEL_8cde502ee7674f2b98f8a8ebd098c532",
            "max": 2,
            "min": 0,
            "orientation": "horizontal",
            "style": "IPY_MODEL_27d08462b9cd4f529c2d05b5246365f1",
            "value": 2
          }
        },
        "88355f27aec3424595777afc8bc26a0f": {
          "model_module": "@jupyter-widgets/controls",
          "model_name": "HTMLModel",
          "model_module_version": "1.5.0",
          "state": {
            "_dom_classes": [],
            "_model_module": "@jupyter-widgets/controls",
            "_model_module_version": "1.5.0",
            "_model_name": "HTMLModel",
            "_view_count": null,
            "_view_module": "@jupyter-widgets/controls",
            "_view_module_version": "1.5.0",
            "_view_name": "HTMLView",
            "description": "",
            "description_tooltip": null,
            "layout": "IPY_MODEL_9f849fea6717486b841b7c875a9189ff",
            "placeholder": "​",
            "style": "IPY_MODEL_cfca4bb9f6b84f98867c82f158bd4ec8",
            "value": " 2/2 [1:26:02&lt;00:00, 2581.79s/epoch, loss=0.288, accuracy=0.896, val_loss=0.269, val_accuracy=0.905]"
          }
        },
        "1dce20ed6188499780234b740bc82214": {
          "model_module": "@jupyter-widgets/base",
          "model_name": "LayoutModel",
          "model_module_version": "1.2.0",
          "state": {
            "_model_module": "@jupyter-widgets/base",
            "_model_module_version": "1.2.0",
            "_model_name": "LayoutModel",
            "_view_count": null,
            "_view_module": "@jupyter-widgets/base",
            "_view_module_version": "1.2.0",
            "_view_name": "LayoutView",
            "align_content": null,
            "align_items": null,
            "align_self": null,
            "border": null,
            "bottom": null,
            "display": null,
            "flex": null,
            "flex_flow": null,
            "grid_area": null,
            "grid_auto_columns": null,
            "grid_auto_flow": null,
            "grid_auto_rows": null,
            "grid_column": null,
            "grid_gap": null,
            "grid_row": null,
            "grid_template_areas": null,
            "grid_template_columns": null,
            "grid_template_rows": null,
            "height": null,
            "justify_content": null,
            "justify_items": null,
            "left": null,
            "margin": null,
            "max_height": null,
            "max_width": null,
            "min_height": null,
            "min_width": null,
            "object_fit": null,
            "object_position": null,
            "order": null,
            "overflow": null,
            "overflow_x": null,
            "overflow_y": null,
            "padding": null,
            "right": null,
            "top": null,
            "visibility": null,
            "width": null
          }
        },
        "f89ad3a9f4ac40fb8971380b2f7afd1d": {
          "model_module": "@jupyter-widgets/base",
          "model_name": "LayoutModel",
          "model_module_version": "1.2.0",
          "state": {
            "_model_module": "@jupyter-widgets/base",
            "_model_module_version": "1.2.0",
            "_model_name": "LayoutModel",
            "_view_count": null,
            "_view_module": "@jupyter-widgets/base",
            "_view_module_version": "1.2.0",
            "_view_name": "LayoutView",
            "align_content": null,
            "align_items": null,
            "align_self": null,
            "border": null,
            "bottom": null,
            "display": null,
            "flex": null,
            "flex_flow": null,
            "grid_area": null,
            "grid_auto_columns": null,
            "grid_auto_flow": null,
            "grid_auto_rows": null,
            "grid_column": null,
            "grid_gap": null,
            "grid_row": null,
            "grid_template_areas": null,
            "grid_template_columns": null,
            "grid_template_rows": null,
            "height": null,
            "justify_content": null,
            "justify_items": null,
            "left": null,
            "margin": null,
            "max_height": null,
            "max_width": null,
            "min_height": null,
            "min_width": null,
            "object_fit": null,
            "object_position": null,
            "order": null,
            "overflow": null,
            "overflow_x": null,
            "overflow_y": null,
            "padding": null,
            "right": null,
            "top": null,
            "visibility": null,
            "width": null
          }
        },
        "ae57b3290e4d46a2b9d230bf8f27983f": {
          "model_module": "@jupyter-widgets/controls",
          "model_name": "DescriptionStyleModel",
          "model_module_version": "1.5.0",
          "state": {
            "_model_module": "@jupyter-widgets/controls",
            "_model_module_version": "1.5.0",
            "_model_name": "DescriptionStyleModel",
            "_view_count": null,
            "_view_module": "@jupyter-widgets/base",
            "_view_module_version": "1.2.0",
            "_view_name": "StyleView",
            "description_width": ""
          }
        },
        "8cde502ee7674f2b98f8a8ebd098c532": {
          "model_module": "@jupyter-widgets/base",
          "model_name": "LayoutModel",
          "model_module_version": "1.2.0",
          "state": {
            "_model_module": "@jupyter-widgets/base",
            "_model_module_version": "1.2.0",
            "_model_name": "LayoutModel",
            "_view_count": null,
            "_view_module": "@jupyter-widgets/base",
            "_view_module_version": "1.2.0",
            "_view_name": "LayoutView",
            "align_content": null,
            "align_items": null,
            "align_self": null,
            "border": null,
            "bottom": null,
            "display": null,
            "flex": null,
            "flex_flow": null,
            "grid_area": null,
            "grid_auto_columns": null,
            "grid_auto_flow": null,
            "grid_auto_rows": null,
            "grid_column": null,
            "grid_gap": null,
            "grid_row": null,
            "grid_template_areas": null,
            "grid_template_columns": null,
            "grid_template_rows": null,
            "height": null,
            "justify_content": null,
            "justify_items": null,
            "left": null,
            "margin": null,
            "max_height": null,
            "max_width": null,
            "min_height": null,
            "min_width": null,
            "object_fit": null,
            "object_position": null,
            "order": null,
            "overflow": null,
            "overflow_x": null,
            "overflow_y": null,
            "padding": null,
            "right": null,
            "top": null,
            "visibility": null,
            "width": null
          }
        },
        "27d08462b9cd4f529c2d05b5246365f1": {
          "model_module": "@jupyter-widgets/controls",
          "model_name": "ProgressStyleModel",
          "model_module_version": "1.5.0",
          "state": {
            "_model_module": "@jupyter-widgets/controls",
            "_model_module_version": "1.5.0",
            "_model_name": "ProgressStyleModel",
            "_view_count": null,
            "_view_module": "@jupyter-widgets/base",
            "_view_module_version": "1.2.0",
            "_view_name": "StyleView",
            "bar_color": null,
            "description_width": ""
          }
        },
        "9f849fea6717486b841b7c875a9189ff": {
          "model_module": "@jupyter-widgets/base",
          "model_name": "LayoutModel",
          "model_module_version": "1.2.0",
          "state": {
            "_model_module": "@jupyter-widgets/base",
            "_model_module_version": "1.2.0",
            "_model_name": "LayoutModel",
            "_view_count": null,
            "_view_module": "@jupyter-widgets/base",
            "_view_module_version": "1.2.0",
            "_view_name": "LayoutView",
            "align_content": null,
            "align_items": null,
            "align_self": null,
            "border": null,
            "bottom": null,
            "display": null,
            "flex": null,
            "flex_flow": null,
            "grid_area": null,
            "grid_auto_columns": null,
            "grid_auto_flow": null,
            "grid_auto_rows": null,
            "grid_column": null,
            "grid_gap": null,
            "grid_row": null,
            "grid_template_areas": null,
            "grid_template_columns": null,
            "grid_template_rows": null,
            "height": null,
            "justify_content": null,
            "justify_items": null,
            "left": null,
            "margin": null,
            "max_height": null,
            "max_width": null,
            "min_height": null,
            "min_width": null,
            "object_fit": null,
            "object_position": null,
            "order": null,
            "overflow": null,
            "overflow_x": null,
            "overflow_y": null,
            "padding": null,
            "right": null,
            "top": null,
            "visibility": null,
            "width": null
          }
        },
        "cfca4bb9f6b84f98867c82f158bd4ec8": {
          "model_module": "@jupyter-widgets/controls",
          "model_name": "DescriptionStyleModel",
          "model_module_version": "1.5.0",
          "state": {
            "_model_module": "@jupyter-widgets/controls",
            "_model_module_version": "1.5.0",
            "_model_name": "DescriptionStyleModel",
            "_view_count": null,
            "_view_module": "@jupyter-widgets/base",
            "_view_module_version": "1.2.0",
            "_view_name": "StyleView",
            "description_width": ""
          }
        },
        "ebbb805cca044ccc8ee4eee03044df1b": {
          "model_module": "@jupyter-widgets/controls",
          "model_name": "HBoxModel",
          "model_module_version": "1.5.0",
          "state": {
            "_dom_classes": [],
            "_model_module": "@jupyter-widgets/controls",
            "_model_module_version": "1.5.0",
            "_model_name": "HBoxModel",
            "_view_count": null,
            "_view_module": "@jupyter-widgets/controls",
            "_view_module_version": "1.5.0",
            "_view_name": "HBoxView",
            "box_style": "",
            "children": [
              "IPY_MODEL_8479db671f6f4b9897279c8f2983100e",
              "IPY_MODEL_4e60224d93a04a1f8a305d7bf804d529",
              "IPY_MODEL_3e55ba149b2e4ec380c240cb1a3957a3"
            ],
            "layout": "IPY_MODEL_48166bd87ca844cd97fcff03d4cdcd77"
          }
        },
        "8479db671f6f4b9897279c8f2983100e": {
          "model_module": "@jupyter-widgets/controls",
          "model_name": "HTMLModel",
          "model_module_version": "1.5.0",
          "state": {
            "_dom_classes": [],
            "_model_module": "@jupyter-widgets/controls",
            "_model_module_version": "1.5.0",
            "_model_name": "HTMLModel",
            "_view_count": null,
            "_view_module": "@jupyter-widgets/controls",
            "_view_module_version": "1.5.0",
            "_view_name": "HTMLView",
            "description": "",
            "description_tooltip": null,
            "layout": "IPY_MODEL_a5e4529fe9234893adc2046aa162b232",
            "placeholder": "​",
            "style": "IPY_MODEL_b23fcb49072f4f2493f1ec316d0308f2",
            "value": "100%"
          }
        },
        "4e60224d93a04a1f8a305d7bf804d529": {
          "model_module": "@jupyter-widgets/controls",
          "model_name": "FloatProgressModel",
          "model_module_version": "1.5.0",
          "state": {
            "_dom_classes": [],
            "_model_module": "@jupyter-widgets/controls",
            "_model_module_version": "1.5.0",
            "_model_name": "FloatProgressModel",
            "_view_count": null,
            "_view_module": "@jupyter-widgets/controls",
            "_view_module_version": "1.5.0",
            "_view_name": "ProgressView",
            "bar_style": "",
            "description": "",
            "description_tooltip": null,
            "layout": "IPY_MODEL_fc20fe8cc16243248a85adcaaab7b728",
            "max": 19713,
            "min": 0,
            "orientation": "horizontal",
            "style": "IPY_MODEL_c1ae3105044b45bba4bd5e776e4f6a8e",
            "value": 19713
          }
        },
        "3e55ba149b2e4ec380c240cb1a3957a3": {
          "model_module": "@jupyter-widgets/controls",
          "model_name": "HTMLModel",
          "model_module_version": "1.5.0",
          "state": {
            "_dom_classes": [],
            "_model_module": "@jupyter-widgets/controls",
            "_model_module_version": "1.5.0",
            "_model_name": "HTMLModel",
            "_view_count": null,
            "_view_module": "@jupyter-widgets/controls",
            "_view_module_version": "1.5.0",
            "_view_name": "HTMLView",
            "description": "",
            "description_tooltip": null,
            "layout": "IPY_MODEL_2ae74469877d4871bc1805188df9b540",
            "placeholder": "​",
            "style": "IPY_MODEL_ee0b6533e52740529cf0368c9fffc716",
            "value": " 19.7k/19.7k [42:22&lt;00:00, 5.36batch/s, loss=0.288, accuracy=0.896]"
          }
        },
        "48166bd87ca844cd97fcff03d4cdcd77": {
          "model_module": "@jupyter-widgets/base",
          "model_name": "LayoutModel",
          "model_module_version": "1.2.0",
          "state": {
            "_model_module": "@jupyter-widgets/base",
            "_model_module_version": "1.2.0",
            "_model_name": "LayoutModel",
            "_view_count": null,
            "_view_module": "@jupyter-widgets/base",
            "_view_module_version": "1.2.0",
            "_view_name": "LayoutView",
            "align_content": null,
            "align_items": null,
            "align_self": null,
            "border": null,
            "bottom": null,
            "display": null,
            "flex": null,
            "flex_flow": null,
            "grid_area": null,
            "grid_auto_columns": null,
            "grid_auto_flow": null,
            "grid_auto_rows": null,
            "grid_column": null,
            "grid_gap": null,
            "grid_row": null,
            "grid_template_areas": null,
            "grid_template_columns": null,
            "grid_template_rows": null,
            "height": null,
            "justify_content": null,
            "justify_items": null,
            "left": null,
            "margin": null,
            "max_height": null,
            "max_width": null,
            "min_height": null,
            "min_width": null,
            "object_fit": null,
            "object_position": null,
            "order": null,
            "overflow": null,
            "overflow_x": null,
            "overflow_y": null,
            "padding": null,
            "right": null,
            "top": null,
            "visibility": "hidden",
            "width": null
          }
        },
        "a5e4529fe9234893adc2046aa162b232": {
          "model_module": "@jupyter-widgets/base",
          "model_name": "LayoutModel",
          "model_module_version": "1.2.0",
          "state": {
            "_model_module": "@jupyter-widgets/base",
            "_model_module_version": "1.2.0",
            "_model_name": "LayoutModel",
            "_view_count": null,
            "_view_module": "@jupyter-widgets/base",
            "_view_module_version": "1.2.0",
            "_view_name": "LayoutView",
            "align_content": null,
            "align_items": null,
            "align_self": null,
            "border": null,
            "bottom": null,
            "display": null,
            "flex": null,
            "flex_flow": null,
            "grid_area": null,
            "grid_auto_columns": null,
            "grid_auto_flow": null,
            "grid_auto_rows": null,
            "grid_column": null,
            "grid_gap": null,
            "grid_row": null,
            "grid_template_areas": null,
            "grid_template_columns": null,
            "grid_template_rows": null,
            "height": null,
            "justify_content": null,
            "justify_items": null,
            "left": null,
            "margin": null,
            "max_height": null,
            "max_width": null,
            "min_height": null,
            "min_width": null,
            "object_fit": null,
            "object_position": null,
            "order": null,
            "overflow": null,
            "overflow_x": null,
            "overflow_y": null,
            "padding": null,
            "right": null,
            "top": null,
            "visibility": null,
            "width": null
          }
        },
        "b23fcb49072f4f2493f1ec316d0308f2": {
          "model_module": "@jupyter-widgets/controls",
          "model_name": "DescriptionStyleModel",
          "model_module_version": "1.5.0",
          "state": {
            "_model_module": "@jupyter-widgets/controls",
            "_model_module_version": "1.5.0",
            "_model_name": "DescriptionStyleModel",
            "_view_count": null,
            "_view_module": "@jupyter-widgets/base",
            "_view_module_version": "1.2.0",
            "_view_name": "StyleView",
            "description_width": ""
          }
        },
        "fc20fe8cc16243248a85adcaaab7b728": {
          "model_module": "@jupyter-widgets/base",
          "model_name": "LayoutModel",
          "model_module_version": "1.2.0",
          "state": {
            "_model_module": "@jupyter-widgets/base",
            "_model_module_version": "1.2.0",
            "_model_name": "LayoutModel",
            "_view_count": null,
            "_view_module": "@jupyter-widgets/base",
            "_view_module_version": "1.2.0",
            "_view_name": "LayoutView",
            "align_content": null,
            "align_items": null,
            "align_self": null,
            "border": null,
            "bottom": null,
            "display": null,
            "flex": null,
            "flex_flow": null,
            "grid_area": null,
            "grid_auto_columns": null,
            "grid_auto_flow": null,
            "grid_auto_rows": null,
            "grid_column": null,
            "grid_gap": null,
            "grid_row": null,
            "grid_template_areas": null,
            "grid_template_columns": null,
            "grid_template_rows": null,
            "height": null,
            "justify_content": null,
            "justify_items": null,
            "left": null,
            "margin": null,
            "max_height": null,
            "max_width": null,
            "min_height": null,
            "min_width": null,
            "object_fit": null,
            "object_position": null,
            "order": null,
            "overflow": null,
            "overflow_x": null,
            "overflow_y": null,
            "padding": null,
            "right": null,
            "top": null,
            "visibility": null,
            "width": null
          }
        },
        "c1ae3105044b45bba4bd5e776e4f6a8e": {
          "model_module": "@jupyter-widgets/controls",
          "model_name": "ProgressStyleModel",
          "model_module_version": "1.5.0",
          "state": {
            "_model_module": "@jupyter-widgets/controls",
            "_model_module_version": "1.5.0",
            "_model_name": "ProgressStyleModel",
            "_view_count": null,
            "_view_module": "@jupyter-widgets/base",
            "_view_module_version": "1.2.0",
            "_view_name": "StyleView",
            "bar_color": null,
            "description_width": ""
          }
        },
        "2ae74469877d4871bc1805188df9b540": {
          "model_module": "@jupyter-widgets/base",
          "model_name": "LayoutModel",
          "model_module_version": "1.2.0",
          "state": {
            "_model_module": "@jupyter-widgets/base",
            "_model_module_version": "1.2.0",
            "_model_name": "LayoutModel",
            "_view_count": null,
            "_view_module": "@jupyter-widgets/base",
            "_view_module_version": "1.2.0",
            "_view_name": "LayoutView",
            "align_content": null,
            "align_items": null,
            "align_self": null,
            "border": null,
            "bottom": null,
            "display": null,
            "flex": null,
            "flex_flow": null,
            "grid_area": null,
            "grid_auto_columns": null,
            "grid_auto_flow": null,
            "grid_auto_rows": null,
            "grid_column": null,
            "grid_gap": null,
            "grid_row": null,
            "grid_template_areas": null,
            "grid_template_columns": null,
            "grid_template_rows": null,
            "height": null,
            "justify_content": null,
            "justify_items": null,
            "left": null,
            "margin": null,
            "max_height": null,
            "max_width": null,
            "min_height": null,
            "min_width": null,
            "object_fit": null,
            "object_position": null,
            "order": null,
            "overflow": null,
            "overflow_x": null,
            "overflow_y": null,
            "padding": null,
            "right": null,
            "top": null,
            "visibility": null,
            "width": null
          }
        },
        "ee0b6533e52740529cf0368c9fffc716": {
          "model_module": "@jupyter-widgets/controls",
          "model_name": "DescriptionStyleModel",
          "model_module_version": "1.5.0",
          "state": {
            "_model_module": "@jupyter-widgets/controls",
            "_model_module_version": "1.5.0",
            "_model_name": "DescriptionStyleModel",
            "_view_count": null,
            "_view_module": "@jupyter-widgets/base",
            "_view_module_version": "1.2.0",
            "_view_name": "StyleView",
            "description_width": ""
          }
        },
        "2b2b65e64cf541df95f9a025ea6ba585": {
          "model_module": "@jupyter-widgets/controls",
          "model_name": "HBoxModel",
          "model_module_version": "1.5.0",
          "state": {
            "_dom_classes": [],
            "_model_module": "@jupyter-widgets/controls",
            "_model_module_version": "1.5.0",
            "_model_name": "HBoxModel",
            "_view_count": null,
            "_view_module": "@jupyter-widgets/controls",
            "_view_module_version": "1.5.0",
            "_view_name": "HBoxView",
            "box_style": "",
            "children": [
              "IPY_MODEL_a55e6f707d4f4cb58b8daeb8f8f08a97",
              "IPY_MODEL_ef59fd657c2b4b64a172747fc5cae506"
            ],
            "layout": "IPY_MODEL_707263cd30ac4e47980781b735efc8bf"
          }
        },
        "a55e6f707d4f4cb58b8daeb8f8f08a97": {
          "model_module": "@jupyter-widgets/controls",
          "model_name": "ButtonModel",
          "model_module_version": "1.5.0",
          "state": {
            "_dom_classes": [],
            "_model_module": "@jupyter-widgets/controls",
            "_model_module_version": "1.5.0",
            "_model_name": "ButtonModel",
            "_view_count": null,
            "_view_module": "@jupyter-widgets/controls",
            "_view_module_version": "1.5.0",
            "_view_name": "ButtonView",
            "button_style": "",
            "description": "⬇️ Download PDF",
            "disabled": false,
            "icon": "",
            "layout": "IPY_MODEL_9f3248f33e264c399b4283cc51299416",
            "style": "IPY_MODEL_bbd3924b6e4946d5b44271fb9df01cf2",
            "tooltip": ""
          }
        },
        "ef59fd657c2b4b64a172747fc5cae506": {
          "model_module": "@jupyter-widgets/controls",
          "model_name": "LabelModel",
          "model_module_version": "1.5.0",
          "state": {
            "_dom_classes": [],
            "_model_module": "@jupyter-widgets/controls",
            "_model_module_version": "1.5.0",
            "_model_name": "LabelModel",
            "_view_count": null,
            "_view_module": "@jupyter-widgets/controls",
            "_view_module_version": "1.5.0",
            "_view_name": "LabelView",
            "description": "",
            "description_tooltip": null,
            "layout": "IPY_MODEL_3f502cd46393414b99f593130f50f1bc",
            "placeholder": "​",
            "style": "IPY_MODEL_e3483ffc984a49f491bb742a24d586dc",
            "value": ""
          }
        },
        "707263cd30ac4e47980781b735efc8bf": {
          "model_module": "@jupyter-widgets/base",
          "model_name": "LayoutModel",
          "model_module_version": "1.2.0",
          "state": {
            "_model_module": "@jupyter-widgets/base",
            "_model_module_version": "1.2.0",
            "_model_name": "LayoutModel",
            "_view_count": null,
            "_view_module": "@jupyter-widgets/base",
            "_view_module_version": "1.2.0",
            "_view_name": "LayoutView",
            "align_content": null,
            "align_items": null,
            "align_self": null,
            "border": null,
            "bottom": null,
            "display": null,
            "flex": null,
            "flex_flow": null,
            "grid_area": null,
            "grid_auto_columns": null,
            "grid_auto_flow": null,
            "grid_auto_rows": null,
            "grid_column": null,
            "grid_gap": null,
            "grid_row": null,
            "grid_template_areas": null,
            "grid_template_columns": null,
            "grid_template_rows": null,
            "height": null,
            "justify_content": null,
            "justify_items": null,
            "left": null,
            "margin": null,
            "max_height": null,
            "max_width": null,
            "min_height": null,
            "min_width": null,
            "object_fit": null,
            "object_position": null,
            "order": null,
            "overflow": null,
            "overflow_x": null,
            "overflow_y": null,
            "padding": null,
            "right": null,
            "top": null,
            "visibility": null,
            "width": null
          }
        },
        "9f3248f33e264c399b4283cc51299416": {
          "model_module": "@jupyter-widgets/base",
          "model_name": "LayoutModel",
          "model_module_version": "1.2.0",
          "state": {
            "_model_module": "@jupyter-widgets/base",
            "_model_module_version": "1.2.0",
            "_model_name": "LayoutModel",
            "_view_count": null,
            "_view_module": "@jupyter-widgets/base",
            "_view_module_version": "1.2.0",
            "_view_name": "LayoutView",
            "align_content": null,
            "align_items": null,
            "align_self": null,
            "border": null,
            "bottom": null,
            "display": null,
            "flex": null,
            "flex_flow": null,
            "grid_area": null,
            "grid_auto_columns": null,
            "grid_auto_flow": null,
            "grid_auto_rows": null,
            "grid_column": null,
            "grid_gap": null,
            "grid_row": null,
            "grid_template_areas": null,
            "grid_template_columns": null,
            "grid_template_rows": null,
            "height": null,
            "justify_content": null,
            "justify_items": null,
            "left": null,
            "margin": null,
            "max_height": null,
            "max_width": null,
            "min_height": null,
            "min_width": null,
            "object_fit": null,
            "object_position": null,
            "order": null,
            "overflow": null,
            "overflow_x": null,
            "overflow_y": null,
            "padding": null,
            "right": null,
            "top": null,
            "visibility": null,
            "width": null
          }
        },
        "bbd3924b6e4946d5b44271fb9df01cf2": {
          "model_module": "@jupyter-widgets/controls",
          "model_name": "ButtonStyleModel",
          "model_module_version": "1.5.0",
          "state": {
            "_model_module": "@jupyter-widgets/controls",
            "_model_module_version": "1.5.0",
            "_model_name": "ButtonStyleModel",
            "_view_count": null,
            "_view_module": "@jupyter-widgets/base",
            "_view_module_version": "1.2.0",
            "_view_name": "StyleView",
            "button_color": null,
            "font_weight": ""
          }
        },
        "3f502cd46393414b99f593130f50f1bc": {
          "model_module": "@jupyter-widgets/base",
          "model_name": "LayoutModel",
          "model_module_version": "1.2.0",
          "state": {
            "_model_module": "@jupyter-widgets/base",
            "_model_module_version": "1.2.0",
            "_model_name": "LayoutModel",
            "_view_count": null,
            "_view_module": "@jupyter-widgets/base",
            "_view_module_version": "1.2.0",
            "_view_name": "LayoutView",
            "align_content": null,
            "align_items": null,
            "align_self": null,
            "border": null,
            "bottom": null,
            "display": null,
            "flex": null,
            "flex_flow": null,
            "grid_area": null,
            "grid_auto_columns": null,
            "grid_auto_flow": null,
            "grid_auto_rows": null,
            "grid_column": null,
            "grid_gap": null,
            "grid_row": null,
            "grid_template_areas": null,
            "grid_template_columns": null,
            "grid_template_rows": null,
            "height": null,
            "justify_content": null,
            "justify_items": null,
            "left": null,
            "margin": null,
            "max_height": null,
            "max_width": null,
            "min_height": null,
            "min_width": null,
            "object_fit": null,
            "object_position": null,
            "order": null,
            "overflow": null,
            "overflow_x": null,
            "overflow_y": null,
            "padding": null,
            "right": null,
            "top": null,
            "visibility": null,
            "width": null
          }
        },
        "e3483ffc984a49f491bb742a24d586dc": {
          "model_module": "@jupyter-widgets/controls",
          "model_name": "DescriptionStyleModel",
          "model_module_version": "1.5.0",
          "state": {
            "_model_module": "@jupyter-widgets/controls",
            "_model_module_version": "1.5.0",
            "_model_name": "DescriptionStyleModel",
            "_view_count": null,
            "_view_module": "@jupyter-widgets/base",
            "_view_module_version": "1.2.0",
            "_view_name": "StyleView",
            "description_width": ""
          }
        }
      }
    }
  },
  "nbformat": 4,
  "nbformat_minor": 0
}